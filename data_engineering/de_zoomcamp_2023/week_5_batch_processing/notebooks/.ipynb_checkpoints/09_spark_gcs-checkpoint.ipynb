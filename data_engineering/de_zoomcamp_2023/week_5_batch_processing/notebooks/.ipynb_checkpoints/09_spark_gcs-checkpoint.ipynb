{
 "cells": [
  {
   "cell_type": "code",
   "execution_count": 3,
   "id": "6eeec537",
   "metadata": {},
   "outputs": [],
   "source": [
    "import pyspark\n",
    "import pandas as pd\n",
    "from pyspark.sql import SparkSession, types\n",
    "from pyspark.sql import functions as F"
   ]
  },
  {
   "cell_type": "code",
   "execution_count": 4,
   "id": "7167d1b6",
   "metadata": {},
   "outputs": [],
   "source": [
    "spark = SparkSession.builder \\\n",
    "    .master(\"local[*]\") \\\n",
    "    .appName('test') \\\n",
    "    .getOrCreate()"
   ]
  },
  {
   "cell_type": "markdown",
   "id": "f85f5347",
   "metadata": {},
   "source": [
    "## Read the parquet data "
   ]
  },
  {
   "cell_type": "markdown",
   "id": "f62837cc",
   "metadata": {},
   "source": [
    "### Importing yellow data (parquet) "
   ]
  },
  {
   "cell_type": "code",
   "execution_count": 5,
   "id": "63f2aec5",
   "metadata": {},
   "outputs": [],
   "source": [
    "df_yellow = spark.read.parquet('../code/data/pq/yellow/*/*')"
   ]
  },
  {
   "cell_type": "code",
   "execution_count": 6,
   "id": "c3113652",
   "metadata": {},
   "outputs": [
    {
     "name": "stdout",
     "output_type": "stream",
     "text": [
      "+--------+--------------------+---------------------+---------------+-------------+----------+------------------+------------+------------+------------+-----------+-----+-------+----------+------------+---------------------+------------+--------------------+\n",
      "|VendorID|tpep_pickup_datetime|tpep_dropoff_datetime|passenger_count|trip_distance|RatecodeID|store_and_fwd_flag|PULocationID|DOLocationID|payment_type|fare_amount|extra|mta_tax|tip_amount|tolls_amount|improvement_surcharge|total_amount|congestion_surcharge|\n",
      "+--------+--------------------+---------------------+---------------+-------------+----------+------------------+------------+------------+------------+-----------+-----+-------+----------+------------+---------------------+------------+--------------------+\n",
      "|       2| 2020-01-29 18:58:26|  2020-01-29 19:41:40|              4|         7.71|         1|                 N|         247|         170|           1|       32.0|  1.0|    0.5|      7.26|         0.0|                  0.3|       43.56|                 2.5|\n",
      "|       1| 2020-01-01 16:43:35|  2020-01-01 17:00:34|              1|          6.6|         1|                 N|         138|         167|           2|       21.0|  0.0|    0.5|       0.0|        6.12|                  0.3|       27.92|                 0.0|\n",
      "|       2| 2020-01-03 22:15:43|  2020-01-03 22:18:43|              1|         0.44|         1|                 N|         236|         236|           1|        4.0|  0.5|    0.5|      1.56|         0.0|                  0.3|        9.36|                 2.5|\n",
      "+--------+--------------------+---------------------+---------------+-------------+----------+------------------+------------+------------+------------+-----------+-----+-------+----------+------------+---------------------+------------+--------------------+\n",
      "only showing top 3 rows\n",
      "\n"
     ]
    },
    {
     "name": "stderr",
     "output_type": "stream",
     "text": [
      "\r",
      "[Stage 1:>                                                          (0 + 1) / 1]\r",
      "\r",
      "                                                                                \r"
     ]
    }
   ],
   "source": [
    "df_yellow.show(3)"
   ]
  },
  {
   "cell_type": "code",
   "execution_count": 7,
   "id": "d0da0016",
   "metadata": {},
   "outputs": [
    {
     "name": "stdout",
     "output_type": "stream",
     "text": [
      "root\n",
      " |-- VendorID: integer (nullable = true)\n",
      " |-- tpep_pickup_datetime: timestamp (nullable = true)\n",
      " |-- tpep_dropoff_datetime: timestamp (nullable = true)\n",
      " |-- passenger_count: integer (nullable = true)\n",
      " |-- trip_distance: double (nullable = true)\n",
      " |-- RatecodeID: integer (nullable = true)\n",
      " |-- store_and_fwd_flag: string (nullable = true)\n",
      " |-- PULocationID: integer (nullable = true)\n",
      " |-- DOLocationID: integer (nullable = true)\n",
      " |-- payment_type: integer (nullable = true)\n",
      " |-- fare_amount: double (nullable = true)\n",
      " |-- extra: double (nullable = true)\n",
      " |-- mta_tax: double (nullable = true)\n",
      " |-- tip_amount: double (nullable = true)\n",
      " |-- tolls_amount: double (nullable = true)\n",
      " |-- improvement_surcharge: double (nullable = true)\n",
      " |-- total_amount: double (nullable = true)\n",
      " |-- congestion_surcharge: double (nullable = true)\n",
      "\n"
     ]
    }
   ],
   "source": [
    "df_yellow.printSchema()"
   ]
  },
  {
   "cell_type": "markdown",
   "id": "b558f7e1",
   "metadata": {},
   "source": [
    "### Importing green data (parquet) "
   ]
  },
  {
   "cell_type": "code",
   "execution_count": 8,
   "id": "bfdd21c3",
   "metadata": {},
   "outputs": [],
   "source": [
    "df_green = spark.read.parquet('../code/data/pq/green/*/*')"
   ]
  },
  {
   "cell_type": "code",
   "execution_count": 9,
   "id": "8202e8f2",
   "metadata": {},
   "outputs": [
    {
     "name": "stdout",
     "output_type": "stream",
     "text": [
      "+--------+--------------------+---------------------+------------------+----------+------------+------------+---------------+-------------+-----------+-----+-------+----------+------------+---------+---------------------+------------+------------+---------+--------------------+\n",
      "|VendorID|lpep_pickup_datetime|lpep_dropoff_datetime|store_and_fwd_flag|RatecodeID|PULocationID|DOLocationID|passenger_count|trip_distance|fare_amount|extra|mta_tax|tip_amount|tolls_amount|ehail_fee|improvement_surcharge|total_amount|payment_type|trip_type|congestion_surcharge|\n",
      "+--------+--------------------+---------------------+------------------+----------+------------+------------+---------------+-------------+-----------+-----+-------+----------+------------+---------+---------------------+------------+------------+---------+--------------------+\n",
      "|       1| 2020-01-03 19:00:01|  2020-01-03 19:05:48|                 N|         1|         244|         116|              1|          1.0|        6.0|  1.0|    0.5|       1.0|         0.0|     null|                  0.3|         8.8|           1|        1|                 0.0|\n",
      "|       2| 2020-01-29 19:55:01|  2020-01-29 19:59:12|                 N|         1|         166|          24|              1|         0.82|        5.0|  1.0|    0.5|      1.36|         0.0|     null|                  0.3|        8.16|           1|        1|                 0.0|\n",
      "|       1| 2020-01-02 10:20:42|  2020-01-02 10:21:07|                 N|         1|         145|         145|              1|          0.0|        2.5|  0.0|    0.5|       0.0|         0.0|     null|                  0.3|         3.3|           2|        1|                 0.0|\n",
      "+--------+--------------------+---------------------+------------------+----------+------------+------------+---------------+-------------+-----------+-----+-------+----------+------------+---------+---------------------+------------+------------+---------+--------------------+\n",
      "only showing top 3 rows\n",
      "\n"
     ]
    }
   ],
   "source": [
    "df_green.show(3)"
   ]
  },
  {
   "cell_type": "code",
   "execution_count": 10,
   "id": "11870f40",
   "metadata": {},
   "outputs": [
    {
     "name": "stdout",
     "output_type": "stream",
     "text": [
      "root\n",
      " |-- VendorID: integer (nullable = true)\n",
      " |-- lpep_pickup_datetime: timestamp (nullable = true)\n",
      " |-- lpep_dropoff_datetime: timestamp (nullable = true)\n",
      " |-- store_and_fwd_flag: string (nullable = true)\n",
      " |-- RatecodeID: integer (nullable = true)\n",
      " |-- PULocationID: integer (nullable = true)\n",
      " |-- DOLocationID: integer (nullable = true)\n",
      " |-- passenger_count: integer (nullable = true)\n",
      " |-- trip_distance: double (nullable = true)\n",
      " |-- fare_amount: double (nullable = true)\n",
      " |-- extra: double (nullable = true)\n",
      " |-- mta_tax: double (nullable = true)\n",
      " |-- tip_amount: double (nullable = true)\n",
      " |-- tolls_amount: double (nullable = true)\n",
      " |-- ehail_fee: double (nullable = true)\n",
      " |-- improvement_surcharge: double (nullable = true)\n",
      " |-- total_amount: double (nullable = true)\n",
      " |-- payment_type: integer (nullable = true)\n",
      " |-- trip_type: integer (nullable = true)\n",
      " |-- congestion_surcharge: double (nullable = true)\n",
      "\n"
     ]
    }
   ],
   "source": [
    "df_green.printSchema()"
   ]
  },
  {
   "cell_type": "markdown",
   "id": "b7f050f0",
   "metadata": {},
   "source": [
    "## Combine yellow and green data "
   ]
  },
  {
   "cell_type": "code",
   "execution_count": 11,
   "id": "ad5eccfe",
   "metadata": {},
   "outputs": [],
   "source": [
    "# renaming yellow column\n",
    "\n",
    "df_yellow = df_yellow \\\n",
    "                .withColumnRenamed('tpep_pickup_datetime', 'pickup_datetime') \\\n",
    "                .withColumnRenamed('tpep_dropoff_datetime', 'dropoff_datetime')"
   ]
  },
  {
   "cell_type": "code",
   "execution_count": 12,
   "id": "b41ecf65",
   "metadata": {},
   "outputs": [],
   "source": [
    "# renaming green column\n",
    "\n",
    "df_green = df_green \\\n",
    "                .withColumnRenamed('lpep_pickup_datetime', 'pickup_datetime') \\\n",
    "                .withColumnRenamed('lpep_dropoff_datetime', 'dropoff_datetime')"
   ]
  },
  {
   "cell_type": "code",
   "execution_count": 13,
   "id": "3091a60b",
   "metadata": {},
   "outputs": [
    {
     "data": {
      "text/plain": [
       "['VendorID',\n",
       " 'pickup_datetime',\n",
       " 'dropoff_datetime',\n",
       " 'store_and_fwd_flag',\n",
       " 'RatecodeID',\n",
       " 'PULocationID',\n",
       " 'DOLocationID',\n",
       " 'passenger_count',\n",
       " 'trip_distance',\n",
       " 'fare_amount',\n",
       " 'extra',\n",
       " 'mta_tax',\n",
       " 'tip_amount',\n",
       " 'tolls_amount',\n",
       " 'improvement_surcharge',\n",
       " 'total_amount',\n",
       " 'payment_type',\n",
       " 'congestion_surcharge']"
      ]
     },
     "execution_count": 13,
     "metadata": {},
     "output_type": "execute_result"
    }
   ],
   "source": [
    "# Creating a list containing the common columns in yellow and green data\n",
    "\n",
    "common_columns = []\n",
    "\n",
    "for col in df_green.columns:\n",
    "    if col in set(df_yellow.columns):\n",
    "        common_columns.append(col)\n",
    "    else:\n",
    "        pass\n",
    "    \n",
    "common_columns"
   ]
  },
  {
   "cell_type": "code",
   "execution_count": 14,
   "id": "7f84f637",
   "metadata": {},
   "outputs": [],
   "source": [
    "# Selecting only the common columns + creating a `service_type`\n",
    "\n",
    "df_yellow_sel = df_yellow \\\n",
    "                    .select(common_columns) \\\n",
    "                    .withColumn('service_type', F.lit('yellow'))  #F.lit it used to fill the value as literally \n",
    "\n",
    "df_green_sel = df_green \\\n",
    "                    .select(common_columns) \\\n",
    "                    .withColumn('service_type', F.lit('green')) \n"
   ]
  },
  {
   "cell_type": "code",
   "execution_count": 15,
   "id": "31d84c55",
   "metadata": {},
   "outputs": [],
   "source": [
    "# Joining the two data\n",
    "\n",
    "df_trips_data = df_green_sel.unionAll(df_yellow_sel)"
   ]
  },
  {
   "cell_type": "code",
   "execution_count": 16,
   "id": "218bd17f",
   "metadata": {},
   "outputs": [
    {
     "name": "stderr",
     "output_type": "stream",
     "text": [
      "[Stage 4:=================================================>       (14 + 2) / 16]\r"
     ]
    },
    {
     "name": "stdout",
     "output_type": "stream",
     "text": [
      "+------------+--------+\n",
      "|service_type|   count|\n",
      "+------------+--------+\n",
      "|       green| 2304517|\n",
      "|      yellow|39649199|\n",
      "+------------+--------+\n",
      "\n"
     ]
    },
    {
     "name": "stderr",
     "output_type": "stream",
     "text": [
      "\r",
      "                                                                                \r"
     ]
    }
   ],
   "source": [
    "df_trips_data.groupby('service_type').count().show()"
   ]
  },
  {
   "cell_type": "markdown",
   "id": "c0b25d76",
   "metadata": {},
   "source": [
    "## Querying with SQL in Spark "
   ]
  },
  {
   "cell_type": "code",
   "execution_count": 17,
   "id": "ddd3f9d7",
   "metadata": {},
   "outputs": [],
   "source": [
    "# make a temporary SQL table\n",
    "\n",
    "df_trips_data.createOrReplaceTempView('trips_data')"
   ]
  },
  {
   "cell_type": "code",
   "execution_count": 18,
   "id": "62aedae7",
   "metadata": {},
   "outputs": [
    {
     "name": "stderr",
     "output_type": "stream",
     "text": [
      "[Stage 7:=================================================>       (14 + 2) / 16]\r"
     ]
    },
    {
     "name": "stdout",
     "output_type": "stream",
     "text": [
      "+------------+--------+\n",
      "|service_type|   count|\n",
      "+------------+--------+\n",
      "|       green| 2304517|\n",
      "|      yellow|39649199|\n",
      "+------------+--------+\n",
      "\n"
     ]
    },
    {
     "name": "stderr",
     "output_type": "stream",
     "text": [
      "\r",
      "                                                                                \r"
     ]
    }
   ],
   "source": [
    "spark.sql(\"\"\"\n",
    "SELECT \n",
    "    service_type,\n",
    "    COUNT(1) AS count\n",
    "FROM \n",
    "    trips_data\n",
    "GROUP BY\n",
    "    service_type;\n",
    "\"\"\").show()"
   ]
  },
  {
   "cell_type": "code",
   "execution_count": 19,
   "id": "461c67e8",
   "metadata": {},
   "outputs": [],
   "source": [
    "# create a new query\n",
    "\n",
    "df_result = spark.sql(\"\"\"\n",
    "SELECT \n",
    "    -- Reveneue grouping \n",
    "    PULocationID AS revenue_zone,\n",
    "    date_trunc('month', pickup_datetime) AS revenue_month, \n",
    "    service_type, \n",
    "    -- Revenue calculation \n",
    "    SUM(fare_amount) AS revenue_monthly_fare,\n",
    "    SUM(extra) AS revenue_monthly_extra,\n",
    "    SUM(mta_tax) AS revenue_monthly_mta_tax,\n",
    "    SUM(tip_amount) AS revenue_monthly_tip_amount,\n",
    "    SUM(tolls_amount) AS revenue_monthly_tolls_amount,\n",
    "    SUM(improvement_surcharge) AS revenue_monthly_improvement_surcharge,\n",
    "    SUM(total_amount) AS revenue_monthly_total_amount,\n",
    "    SUM(congestion_surcharge) AS revenue_monthly_congestion_surcharge,\n",
    "    -- Additional calculations\n",
    "    AVG(passenger_count) AS avg_montly_passenger_count,\n",
    "    AVG(trip_distance) AS avg_montly_trip_distance\n",
    "FROM\n",
    "    trips_data\n",
    "GROUP BY\n",
    "    1, 2, 3\n",
    "\"\"\")"
   ]
  },
  {
   "cell_type": "code",
   "execution_count": 20,
   "id": "118f9a2f",
   "metadata": {},
   "outputs": [
    {
     "name": "stderr",
     "output_type": "stream",
     "text": [
      "[Stage 10:====================================================>   (15 + 1) / 16]\r"
     ]
    },
    {
     "name": "stdout",
     "output_type": "stream",
     "text": [
      "+------------+-------------------+------------+--------------------+---------------------+-----------------------+--------------------------+----------------------------+-------------------------------------+----------------------------+------------------------------------+--------------------------+------------------------+\n",
      "|revenue_zone|      revenue_month|service_type|revenue_monthly_fare|revenue_monthly_extra|revenue_monthly_mta_tax|revenue_monthly_tip_amount|revenue_monthly_tolls_amount|revenue_monthly_improvement_surcharge|revenue_monthly_total_amount|revenue_monthly_congestion_surcharge|avg_montly_passenger_count|avg_montly_trip_distance|\n",
      "+------------+-------------------+------------+--------------------+---------------------+-----------------------+--------------------------+----------------------------+-------------------------------------+----------------------------+------------------------------------+--------------------------+------------------------+\n",
      "|          33|2020-02-01 00:00:00|       green|  143526.48999999915|              5734.75|                 4636.0|         17553.62999999993|          507.61000000000024|                    2979.900000000346|          180998.42999999292|                              6393.5|        1.2772073921971252|      3.2689649681528645|\n",
      "|          39|2020-02-01 00:00:00|       green|   45098.69000000011|              3701.75|                  263.5|                     22.47|          1062.3999999999996|                   417.00000000001006|           50568.56000000017|                                2.75|        1.1235059760956174|       6.542627877237852|\n",
      "|         155|2020-03-01 00:00:00|       green|   8962.960000000008|                 27.5|                   46.5|         6.779999999999999|          244.80000000000013|                    111.2999999999993|           9472.889999999994|                                 0.0|        1.2580645161290323|       6.667921052631582|\n",
      "|          97|2020-03-01 00:00:00|       green|    86724.5699999999|               2432.5|                 3153.0|         9502.169999999995|          275.06000000000006|                     2095.79999999981|          105568.40000000683|                              1338.0|        1.1946930444339772|      2.7142550469149858|\n",
      "|         206|2020-03-01 00:00:00|       green|  393.16999999999996|                  3.5|                    3.5|                      7.96|           72.46000000000001|                    3.599999999999999|           484.1900000000001|                                 0.0|        3.2857142857142856|       9.602500000000001|\n",
      "|         135|2020-10-01 00:00:00|       green|   4685.669999999998|                 14.5|                   14.0|                    396.69|          210.88000000000005|                   48.299999999999976|                     5371.99|                                 5.5|        1.0263157894736843|       6.598271604938272|\n",
      "|          53|2020-10-01 00:00:00|       green|             1129.98|                  1.0|                    2.5|                     85.15|                       24.48|                   10.499999999999996|          1253.6100000000001|                                 0.0|                       1.0|       7.953999999999998|\n",
      "|         265|2020-02-01 00:00:00|       green|             12431.6|               359.09|                  118.0|        353.03000000000003|           461.3600000000002|                    98.69999999999942|          13827.279999999964|                                2.75|        1.5217391304347827|       8.645274725274726|\n",
      "|         126|2020-02-01 00:00:00|       green|   7159.769999999995|                583.0|                   80.0|                     29.73|           234.4400000000001|                    97.49999999999943|           8191.340000000009|                                 0.0|        1.1764705882352942|       4.280221606648201|\n",
      "|         131|2020-10-01 00:00:00|       green|   5536.840000000001|                  3.0|                    5.5|                     487.7|          146.52000000000004|                    57.59999999999994|           6241.859999999999|                                2.75|        1.0555555555555556|       6.149114583333333|\n",
      "|         221|2020-01-01 00:00:00|       green|               382.5|                  1.0|                    3.0|                       0.0|           85.67999999999999|                                  2.1|                      474.28|                                 0.0|        1.2857142857142858|      12.874285714285715|\n",
      "|         112|2020-02-01 00:00:00|       green|   21246.88000000001|              1030.51|                  681.0|         2607.840000000003|           347.5600000000002|                   435.60000000001077|           27034.68999999963|                               783.5|        1.2501786990707648|      3.4512254570074457|\n",
      "|         160|2020-02-01 00:00:00|       green|  5285.6599999999935|               434.25|                   42.0|                     22.86|          136.93000000000004|                    63.59999999999975|           5985.300000000001|                                2.75|        1.2467532467532467|       4.088018018018017|\n",
      "|         135|2020-03-01 00:00:00|       green|   4484.960000000002|                32.25|                   43.5|         92.17999999999998|          112.96000000000002|                     68.6999999999997|           4892.400000000009|                                8.25|        1.2345679012345678|      5.1851965065502155|\n",
      "|          35|2020-01-01 00:00:00|       green|   51364.22999999995|              3498.25|                  422.0|                     33.81|          1007.9800000000002|                    538.5000000000097|           56871.42000000011|                                 5.5|        1.1042183622828785|       5.437524084778418|\n",
      "|         175|2020-02-01 00:00:00|       green|  3626.6899999999937|               268.75|                   13.5|                      2.82|          122.40000000000003|                    34.20000000000003|          4068.3599999999997|                                 0.0|                       1.1|       6.121779661016945|\n",
      "|          95|2020-03-01 00:00:00|       green|   75784.67000000001|              2378.75|                 2877.0|         6567.289999999992|           1171.179999999998|                    1875.599999999807|            91141.7900000062|                              450.75|        1.3517110266159695|      2.8941223193010326|\n",
      "|          58|2020-03-01 00:00:00|       green|  380.40999999999997|                 3.75|                    4.0|                     10.86|                        6.12|                    5.699999999999998|                      410.84|                                 0.0|                       1.0|      6.1747826086956525|\n",
      "|         162|2020-10-01 00:00:00|       green|   906.0500000000001|                  0.0|                    0.0|                      66.0|           51.25000000000001|                    7.499999999999998|          1030.8000000000002|                                null|                      null|                  8.7976|\n",
      "|          76|2020-02-01 00:00:00|       green|  60807.779999999744|              5400.75|                  391.0|        198.00000000000006|          1409.0299999999943|                    666.8999999999902|           68901.86000000082|                                2.75|        1.2119565217391304|       5.530049792531122|\n",
      "+------------+-------------------+------------+--------------------+---------------------+-----------------------+--------------------------+----------------------------+-------------------------------------+----------------------------+------------------------------------+--------------------------+------------------------+\n",
      "only showing top 20 rows\n",
      "\n"
     ]
    },
    {
     "name": "stderr",
     "output_type": "stream",
     "text": [
      "\r",
      "                                                                                \r"
     ]
    }
   ],
   "source": [
    "df_result.show()"
   ]
  },
  {
   "cell_type": "code",
   "execution_count": 23,
   "id": "00348239",
   "metadata": {},
   "outputs": [
    {
     "name": "stderr",
     "output_type": "stream",
     "text": [
      "                                                                                \r"
     ]
    }
   ],
   "source": [
    "# saving the query result into parquet file\n",
    "\n",
    "df_result.coalesce(1).write.parquet('../code/data/report/revenue/', mode='overwrite')"
   ]
  }
 ],
 "metadata": {
  "kernelspec": {
   "display_name": "Python 3 (ipykernel)",
   "language": "python",
   "name": "python3"
  },
  "language_info": {
   "codemirror_mode": {
    "name": "ipython",
    "version": 3
   },
   "file_extension": ".py",
   "mimetype": "text/x-python",
   "name": "python",
   "nbconvert_exporter": "python",
   "pygments_lexer": "ipython3",
   "version": "3.9.16"
  }
 },
 "nbformat": 4,
 "nbformat_minor": 5
}
