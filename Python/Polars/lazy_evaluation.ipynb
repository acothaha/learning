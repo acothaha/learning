{
 "cells": [
  {
   "attachments": {},
   "cell_type": "markdown",
   "metadata": {},
   "source": [
    "# Understanding Lazy Evaluation in Polars"
   ]
  },
  {
   "cell_type": "code",
   "execution_count": 13,
   "metadata": {},
   "outputs": [],
   "source": [
    "import pandas as pd\n",
    "import polars as pl\n",
    "import time\n",
    "from IPython.display import SVG, display"
   ]
  },
  {
   "attachments": {},
   "cell_type": "markdown",
   "metadata": {},
   "source": [
    "read csv file with pandas"
   ]
  },
  {
   "cell_type": "code",
   "execution_count": 3,
   "metadata": {},
   "outputs": [
    {
     "name": "stderr",
     "output_type": "stream",
     "text": [
      "C:\\Users\\Aco\\AppData\\Local\\Temp\\ipykernel_10168\\1140352191.py:3: DtypeWarning: Columns (7,8) have mixed types. Specify dtype option on import or set low_memory=False.\n",
      "  df = pd.read_csv('data/flight_kaggle/flights.csv')\n"
     ]
    },
    {
     "name": "stdout",
     "output_type": "stream",
     "text": [
      "32.23352313041687\n"
     ]
    },
    {
     "data": {
      "text/html": [
       "<div>\n",
       "<style scoped>\n",
       "    .dataframe tbody tr th:only-of-type {\n",
       "        vertical-align: middle;\n",
       "    }\n",
       "\n",
       "    .dataframe tbody tr th {\n",
       "        vertical-align: top;\n",
       "    }\n",
       "\n",
       "    .dataframe thead th {\n",
       "        text-align: right;\n",
       "    }\n",
       "</style>\n",
       "<table border=\"1\" class=\"dataframe\">\n",
       "  <thead>\n",
       "    <tr style=\"text-align: right;\">\n",
       "      <th></th>\n",
       "      <th>YEAR</th>\n",
       "      <th>MONTH</th>\n",
       "      <th>DAY</th>\n",
       "      <th>DAY_OF_WEEK</th>\n",
       "      <th>AIRLINE</th>\n",
       "      <th>FLIGHT_NUMBER</th>\n",
       "      <th>TAIL_NUMBER</th>\n",
       "      <th>ORIGIN_AIRPORT</th>\n",
       "      <th>DESTINATION_AIRPORT</th>\n",
       "      <th>SCHEDULED_DEPARTURE</th>\n",
       "      <th>...</th>\n",
       "      <th>ARRIVAL_TIME</th>\n",
       "      <th>ARRIVAL_DELAY</th>\n",
       "      <th>DIVERTED</th>\n",
       "      <th>CANCELLED</th>\n",
       "      <th>CANCELLATION_REASON</th>\n",
       "      <th>AIR_SYSTEM_DELAY</th>\n",
       "      <th>SECURITY_DELAY</th>\n",
       "      <th>AIRLINE_DELAY</th>\n",
       "      <th>LATE_AIRCRAFT_DELAY</th>\n",
       "      <th>WEATHER_DELAY</th>\n",
       "    </tr>\n",
       "  </thead>\n",
       "  <tbody>\n",
       "    <tr>\n",
       "      <th>5339849</th>\n",
       "      <td>2015</td>\n",
       "      <td>12</td>\n",
       "      <td>1</td>\n",
       "      <td>2</td>\n",
       "      <td>AA</td>\n",
       "      <td>1230</td>\n",
       "      <td>N3KSAA</td>\n",
       "      <td>SEA</td>\n",
       "      <td>DFW</td>\n",
       "      <td>5</td>\n",
       "      <td>...</td>\n",
       "      <td>538.0</td>\n",
       "      <td>-17.0</td>\n",
       "      <td>0</td>\n",
       "      <td>0</td>\n",
       "      <td>NaN</td>\n",
       "      <td>NaN</td>\n",
       "      <td>NaN</td>\n",
       "      <td>NaN</td>\n",
       "      <td>NaN</td>\n",
       "      <td>NaN</td>\n",
       "    </tr>\n",
       "    <tr>\n",
       "      <th>5339922</th>\n",
       "      <td>2015</td>\n",
       "      <td>12</td>\n",
       "      <td>1</td>\n",
       "      <td>2</td>\n",
       "      <td>AA</td>\n",
       "      <td>1228</td>\n",
       "      <td>N3AMAA</td>\n",
       "      <td>SEA</td>\n",
       "      <td>DFW</td>\n",
       "      <td>500</td>\n",
       "      <td>...</td>\n",
       "      <td>1056.0</td>\n",
       "      <td>2.0</td>\n",
       "      <td>0</td>\n",
       "      <td>0</td>\n",
       "      <td>NaN</td>\n",
       "      <td>NaN</td>\n",
       "      <td>NaN</td>\n",
       "      <td>NaN</td>\n",
       "      <td>NaN</td>\n",
       "      <td>NaN</td>\n",
       "    </tr>\n",
       "    <tr>\n",
       "      <th>5341203</th>\n",
       "      <td>2015</td>\n",
       "      <td>12</td>\n",
       "      <td>1</td>\n",
       "      <td>2</td>\n",
       "      <td>AS</td>\n",
       "      <td>658</td>\n",
       "      <td>N302AS</td>\n",
       "      <td>SEA</td>\n",
       "      <td>DFW</td>\n",
       "      <td>640</td>\n",
       "      <td>...</td>\n",
       "      <td>1210.0</td>\n",
       "      <td>-10.0</td>\n",
       "      <td>0</td>\n",
       "      <td>0</td>\n",
       "      <td>NaN</td>\n",
       "      <td>NaN</td>\n",
       "      <td>NaN</td>\n",
       "      <td>NaN</td>\n",
       "      <td>NaN</td>\n",
       "      <td>NaN</td>\n",
       "    </tr>\n",
       "    <tr>\n",
       "      <th>5341275</th>\n",
       "      <td>2015</td>\n",
       "      <td>12</td>\n",
       "      <td>1</td>\n",
       "      <td>2</td>\n",
       "      <td>AA</td>\n",
       "      <td>1308</td>\n",
       "      <td>N3BDAA</td>\n",
       "      <td>SEA</td>\n",
       "      <td>DFW</td>\n",
       "      <td>645</td>\n",
       "      <td>...</td>\n",
       "      <td>1234.0</td>\n",
       "      <td>-4.0</td>\n",
       "      <td>0</td>\n",
       "      <td>0</td>\n",
       "      <td>NaN</td>\n",
       "      <td>NaN</td>\n",
       "      <td>NaN</td>\n",
       "      <td>NaN</td>\n",
       "      <td>NaN</td>\n",
       "      <td>NaN</td>\n",
       "    </tr>\n",
       "    <tr>\n",
       "      <th>5343046</th>\n",
       "      <td>2015</td>\n",
       "      <td>12</td>\n",
       "      <td>1</td>\n",
       "      <td>2</td>\n",
       "      <td>AA</td>\n",
       "      <td>143</td>\n",
       "      <td>N3FCAA</td>\n",
       "      <td>SEA</td>\n",
       "      <td>DFW</td>\n",
       "      <td>830</td>\n",
       "      <td>...</td>\n",
       "      <td>1425.0</td>\n",
       "      <td>2.0</td>\n",
       "      <td>0</td>\n",
       "      <td>0</td>\n",
       "      <td>NaN</td>\n",
       "      <td>NaN</td>\n",
       "      <td>NaN</td>\n",
       "      <td>NaN</td>\n",
       "      <td>NaN</td>\n",
       "      <td>NaN</td>\n",
       "    </tr>\n",
       "  </tbody>\n",
       "</table>\n",
       "<p>5 rows × 31 columns</p>\n",
       "</div>"
      ],
      "text/plain": [
       "         YEAR  MONTH  DAY  DAY_OF_WEEK AIRLINE  FLIGHT_NUMBER TAIL_NUMBER  \\\n",
       "5339849  2015     12    1            2      AA           1230      N3KSAA   \n",
       "5339922  2015     12    1            2      AA           1228      N3AMAA   \n",
       "5341203  2015     12    1            2      AS            658      N302AS   \n",
       "5341275  2015     12    1            2      AA           1308      N3BDAA   \n",
       "5343046  2015     12    1            2      AA            143      N3FCAA   \n",
       "\n",
       "        ORIGIN_AIRPORT DESTINATION_AIRPORT  SCHEDULED_DEPARTURE  ...  \\\n",
       "5339849            SEA                 DFW                    5  ...   \n",
       "5339922            SEA                 DFW                  500  ...   \n",
       "5341203            SEA                 DFW                  640  ...   \n",
       "5341275            SEA                 DFW                  645  ...   \n",
       "5343046            SEA                 DFW                  830  ...   \n",
       "\n",
       "         ARRIVAL_TIME  ARRIVAL_DELAY  DIVERTED  CANCELLED  \\\n",
       "5339849         538.0          -17.0         0          0   \n",
       "5339922        1056.0            2.0         0          0   \n",
       "5341203        1210.0          -10.0         0          0   \n",
       "5341275        1234.0           -4.0         0          0   \n",
       "5343046        1425.0            2.0         0          0   \n",
       "\n",
       "         CANCELLATION_REASON  AIR_SYSTEM_DELAY  SECURITY_DELAY  AIRLINE_DELAY  \\\n",
       "5339849                  NaN               NaN             NaN            NaN   \n",
       "5339922                  NaN               NaN             NaN            NaN   \n",
       "5341203                  NaN               NaN             NaN            NaN   \n",
       "5341275                  NaN               NaN             NaN            NaN   \n",
       "5343046                  NaN               NaN             NaN            NaN   \n",
       "\n",
       "         LATE_AIRCRAFT_DELAY  WEATHER_DELAY  \n",
       "5339849                  NaN            NaN  \n",
       "5339922                  NaN            NaN  \n",
       "5341203                  NaN            NaN  \n",
       "5341275                  NaN            NaN  \n",
       "5343046                  NaN            NaN  \n",
       "\n",
       "[5 rows x 31 columns]"
      ]
     },
     "execution_count": 3,
     "metadata": {},
     "output_type": "execute_result"
    }
   ],
   "source": [
    "start = time.time()\n",
    "\n",
    "df = pd.read_csv('data/flight_kaggle/flights.csv')\n",
    "df = df.loc[(df['MONTH'] == 12) &\n",
    "            (df['ORIGIN_AIRPORT'] == 'SEA') &\n",
    "            (df['DESTINATION_AIRPORT'] == 'DFW')\n",
    "            ]\n",
    "\n",
    "end = time.time()\n",
    "print(end - start)\n",
    "df.head()"
   ]
  },
  {
   "attachments": {},
   "cell_type": "markdown",
   "metadata": {},
   "source": [
    "read csv file with polars using `pl.read_csv()` - an *eager execution*"
   ]
  },
  {
   "cell_type": "code",
   "execution_count": 4,
   "metadata": {},
   "outputs": [
    {
     "name": "stdout",
     "output_type": "stream",
     "text": [
      "5.800471067428589\n"
     ]
    },
    {
     "data": {
      "text/html": [
       "<div><style>\n",
       ".dataframe > thead > tr > th,\n",
       ".dataframe > tbody > tr > td {\n",
       "  text-align: right;\n",
       "}\n",
       "</style>\n",
       "<small>shape: (5, 31)</small><table border=\"1\" class=\"dataframe\"><thead><tr><th>YEAR</th><th>MONTH</th><th>DAY</th><th>DAY_OF_WEEK</th><th>AIRLINE</th><th>FLIGHT_NUMBER</th><th>TAIL_NUMBER</th><th>ORIGIN_AIRPORT</th><th>DESTINATION_AIRPORT</th><th>SCHEDULED_DEPARTURE</th><th>DEPARTURE_TIME</th><th>DEPARTURE_DELAY</th><th>TAXI_OUT</th><th>WHEELS_OFF</th><th>SCHEDULED_TIME</th><th>ELAPSED_TIME</th><th>AIR_TIME</th><th>DISTANCE</th><th>WHEELS_ON</th><th>TAXI_IN</th><th>SCHEDULED_ARRIVAL</th><th>ARRIVAL_TIME</th><th>ARRIVAL_DELAY</th><th>DIVERTED</th><th>CANCELLED</th><th>CANCELLATION_REASON</th><th>AIR_SYSTEM_DELAY</th><th>SECURITY_DELAY</th><th>AIRLINE_DELAY</th><th>LATE_AIRCRAFT_DELAY</th><th>WEATHER_DELAY</th></tr><tr><td>i64</td><td>i64</td><td>i64</td><td>i64</td><td>str</td><td>i64</td><td>str</td><td>str</td><td>str</td><td>i64</td><td>i64</td><td>i64</td><td>i64</td><td>i64</td><td>i64</td><td>i64</td><td>i64</td><td>i64</td><td>i64</td><td>i64</td><td>i64</td><td>i64</td><td>i64</td><td>i64</td><td>i64</td><td>str</td><td>i64</td><td>i64</td><td>i64</td><td>i64</td><td>i64</td></tr></thead><tbody><tr><td>2015</td><td>12</td><td>1</td><td>2</td><td>&quot;AA&quot;</td><td>1230</td><td>&quot;N3KSAA&quot;</td><td>&quot;SEA&quot;</td><td>&quot;DFW&quot;</td><td>5</td><td>9</td><td>4</td><td>10</td><td>19</td><td>230</td><td>209</td><td>194</td><td>1660</td><td>533</td><td>5</td><td>555</td><td>538</td><td>-17</td><td>0</td><td>0</td><td>null</td><td>null</td><td>null</td><td>null</td><td>null</td><td>null</td></tr><tr><td>2015</td><td>12</td><td>1</td><td>2</td><td>&quot;AA&quot;</td><td>1228</td><td>&quot;N3AMAA&quot;</td><td>&quot;SEA&quot;</td><td>&quot;DFW&quot;</td><td>500</td><td>459</td><td>-1</td><td>16</td><td>515</td><td>234</td><td>237</td><td>198</td><td>1660</td><td>1033</td><td>23</td><td>1054</td><td>1056</td><td>2</td><td>0</td><td>0</td><td>null</td><td>null</td><td>null</td><td>null</td><td>null</td><td>null</td></tr><tr><td>2015</td><td>12</td><td>1</td><td>2</td><td>&quot;AS&quot;</td><td>658</td><td>&quot;N302AS&quot;</td><td>&quot;SEA&quot;</td><td>&quot;DFW&quot;</td><td>640</td><td>644</td><td>4</td><td>12</td><td>656</td><td>220</td><td>206</td><td>190</td><td>1660</td><td>1206</td><td>4</td><td>1220</td><td>1210</td><td>-10</td><td>0</td><td>0</td><td>null</td><td>null</td><td>null</td><td>null</td><td>null</td><td>null</td></tr><tr><td>2015</td><td>12</td><td>1</td><td>2</td><td>&quot;AA&quot;</td><td>1308</td><td>&quot;N3BDAA&quot;</td><td>&quot;SEA&quot;</td><td>&quot;DFW&quot;</td><td>645</td><td>640</td><td>-5</td><td>24</td><td>704</td><td>233</td><td>234</td><td>197</td><td>1660</td><td>1221</td><td>13</td><td>1238</td><td>1234</td><td>-4</td><td>0</td><td>0</td><td>null</td><td>null</td><td>null</td><td>null</td><td>null</td><td>null</td></tr><tr><td>2015</td><td>12</td><td>1</td><td>2</td><td>&quot;AA&quot;</td><td>143</td><td>&quot;N3FCAA&quot;</td><td>&quot;SEA&quot;</td><td>&quot;DFW&quot;</td><td>830</td><td>830</td><td>0</td><td>25</td><td>855</td><td>233</td><td>235</td><td>200</td><td>1660</td><td>1415</td><td>10</td><td>1423</td><td>1425</td><td>2</td><td>0</td><td>0</td><td>null</td><td>null</td><td>null</td><td>null</td><td>null</td><td>null</td></tr></tbody></table></div>"
      ],
      "text/plain": [
       "shape: (5, 31)\n",
       "┌──────┬───────┬─────┬─────────────┬───┬──────────────┬──────────────┬──────────────┬──────────────┐\n",
       "│ YEAR ┆ MONTH ┆ DAY ┆ DAY_OF_WEEK ┆ … ┆ SECURITY_DEL ┆ AIRLINE_DELA ┆ LATE_AIRCRAF ┆ WEATHER_DELA │\n",
       "│ ---  ┆ ---   ┆ --- ┆ ---         ┆   ┆ AY           ┆ Y            ┆ T_DELAY      ┆ Y            │\n",
       "│ i64  ┆ i64   ┆ i64 ┆ i64         ┆   ┆ ---          ┆ ---          ┆ ---          ┆ ---          │\n",
       "│      ┆       ┆     ┆             ┆   ┆ i64          ┆ i64          ┆ i64          ┆ i64          │\n",
       "╞══════╪═══════╪═════╪═════════════╪═══╪══════════════╪══════════════╪══════════════╪══════════════╡\n",
       "│ 2015 ┆ 12    ┆ 1   ┆ 2           ┆ … ┆ null         ┆ null         ┆ null         ┆ null         │\n",
       "│ 2015 ┆ 12    ┆ 1   ┆ 2           ┆ … ┆ null         ┆ null         ┆ null         ┆ null         │\n",
       "│ 2015 ┆ 12    ┆ 1   ┆ 2           ┆ … ┆ null         ┆ null         ┆ null         ┆ null         │\n",
       "│ 2015 ┆ 12    ┆ 1   ┆ 2           ┆ … ┆ null         ┆ null         ┆ null         ┆ null         │\n",
       "│ 2015 ┆ 12    ┆ 1   ┆ 2           ┆ … ┆ null         ┆ null         ┆ null         ┆ null         │\n",
       "└──────┴───────┴─────┴─────────────┴───┴──────────────┴──────────────┴──────────────┴──────────────┘"
      ]
     },
     "execution_count": 4,
     "metadata": {},
     "output_type": "execute_result"
    }
   ],
   "source": [
    "start = time.time()\n",
    "\n",
    "df = pl.read_csv('data/flight_kaggle/flights.csv').filter(\n",
    "    (pl.col('MONTH') == 12) &\n",
    "    (pl.col('ORIGIN_AIRPORT') == 'SEA') &\n",
    "    (pl.col('DESTINATION_AIRPORT') == 'DFW')\n",
    ")\n",
    "\n",
    "end = time.time()\n",
    "print(end - start)\n",
    "df.head()"
   ]
  },
  {
   "attachments": {},
   "cell_type": "markdown",
   "metadata": {},
   "source": [
    "read csv file with polars using `pl.scan_csv()` - a *lazy execution* - The `scan_csv()` method delays execution until the `collect()` method is called\n",
    "\n",
    "`pl.scan_csv()` method is known as an ***implicit lazy method***"
   ]
  },
  {
   "cell_type": "code",
   "execution_count": 5,
   "metadata": {},
   "outputs": [
    {
     "name": "stdout",
     "output_type": "stream",
     "text": [
      "2.6758546829223633\n"
     ]
    },
    {
     "data": {
      "text/html": [
       "<div><style>\n",
       ".dataframe > thead > tr > th,\n",
       ".dataframe > tbody > tr > td {\n",
       "  text-align: right;\n",
       "}\n",
       "</style>\n",
       "<small>shape: (5, 31)</small><table border=\"1\" class=\"dataframe\"><thead><tr><th>YEAR</th><th>MONTH</th><th>DAY</th><th>DAY_OF_WEEK</th><th>AIRLINE</th><th>FLIGHT_NUMBER</th><th>TAIL_NUMBER</th><th>ORIGIN_AIRPORT</th><th>DESTINATION_AIRPORT</th><th>SCHEDULED_DEPARTURE</th><th>DEPARTURE_TIME</th><th>DEPARTURE_DELAY</th><th>TAXI_OUT</th><th>WHEELS_OFF</th><th>SCHEDULED_TIME</th><th>ELAPSED_TIME</th><th>AIR_TIME</th><th>DISTANCE</th><th>WHEELS_ON</th><th>TAXI_IN</th><th>SCHEDULED_ARRIVAL</th><th>ARRIVAL_TIME</th><th>ARRIVAL_DELAY</th><th>DIVERTED</th><th>CANCELLED</th><th>CANCELLATION_REASON</th><th>AIR_SYSTEM_DELAY</th><th>SECURITY_DELAY</th><th>AIRLINE_DELAY</th><th>LATE_AIRCRAFT_DELAY</th><th>WEATHER_DELAY</th></tr><tr><td>i64</td><td>i64</td><td>i64</td><td>i64</td><td>str</td><td>i64</td><td>str</td><td>str</td><td>str</td><td>i64</td><td>i64</td><td>i64</td><td>i64</td><td>i64</td><td>i64</td><td>i64</td><td>i64</td><td>i64</td><td>i64</td><td>i64</td><td>i64</td><td>i64</td><td>i64</td><td>i64</td><td>i64</td><td>str</td><td>i64</td><td>i64</td><td>i64</td><td>i64</td><td>i64</td></tr></thead><tbody><tr><td>2015</td><td>12</td><td>1</td><td>2</td><td>&quot;AA&quot;</td><td>1230</td><td>&quot;N3KSAA&quot;</td><td>&quot;SEA&quot;</td><td>&quot;DFW&quot;</td><td>5</td><td>9</td><td>4</td><td>10</td><td>19</td><td>230</td><td>209</td><td>194</td><td>1660</td><td>533</td><td>5</td><td>555</td><td>538</td><td>-17</td><td>0</td><td>0</td><td>null</td><td>null</td><td>null</td><td>null</td><td>null</td><td>null</td></tr><tr><td>2015</td><td>12</td><td>1</td><td>2</td><td>&quot;AA&quot;</td><td>1228</td><td>&quot;N3AMAA&quot;</td><td>&quot;SEA&quot;</td><td>&quot;DFW&quot;</td><td>500</td><td>459</td><td>-1</td><td>16</td><td>515</td><td>234</td><td>237</td><td>198</td><td>1660</td><td>1033</td><td>23</td><td>1054</td><td>1056</td><td>2</td><td>0</td><td>0</td><td>null</td><td>null</td><td>null</td><td>null</td><td>null</td><td>null</td></tr><tr><td>2015</td><td>12</td><td>1</td><td>2</td><td>&quot;AS&quot;</td><td>658</td><td>&quot;N302AS&quot;</td><td>&quot;SEA&quot;</td><td>&quot;DFW&quot;</td><td>640</td><td>644</td><td>4</td><td>12</td><td>656</td><td>220</td><td>206</td><td>190</td><td>1660</td><td>1206</td><td>4</td><td>1220</td><td>1210</td><td>-10</td><td>0</td><td>0</td><td>null</td><td>null</td><td>null</td><td>null</td><td>null</td><td>null</td></tr><tr><td>2015</td><td>12</td><td>1</td><td>2</td><td>&quot;AA&quot;</td><td>1308</td><td>&quot;N3BDAA&quot;</td><td>&quot;SEA&quot;</td><td>&quot;DFW&quot;</td><td>645</td><td>640</td><td>-5</td><td>24</td><td>704</td><td>233</td><td>234</td><td>197</td><td>1660</td><td>1221</td><td>13</td><td>1238</td><td>1234</td><td>-4</td><td>0</td><td>0</td><td>null</td><td>null</td><td>null</td><td>null</td><td>null</td><td>null</td></tr><tr><td>2015</td><td>12</td><td>1</td><td>2</td><td>&quot;AA&quot;</td><td>143</td><td>&quot;N3FCAA&quot;</td><td>&quot;SEA&quot;</td><td>&quot;DFW&quot;</td><td>830</td><td>830</td><td>0</td><td>25</td><td>855</td><td>233</td><td>235</td><td>200</td><td>1660</td><td>1415</td><td>10</td><td>1423</td><td>1425</td><td>2</td><td>0</td><td>0</td><td>null</td><td>null</td><td>null</td><td>null</td><td>null</td><td>null</td></tr></tbody></table></div>"
      ],
      "text/plain": [
       "shape: (5, 31)\n",
       "┌──────┬───────┬─────┬─────────────┬───┬──────────────┬──────────────┬──────────────┬──────────────┐\n",
       "│ YEAR ┆ MONTH ┆ DAY ┆ DAY_OF_WEEK ┆ … ┆ SECURITY_DEL ┆ AIRLINE_DELA ┆ LATE_AIRCRAF ┆ WEATHER_DELA │\n",
       "│ ---  ┆ ---   ┆ --- ┆ ---         ┆   ┆ AY           ┆ Y            ┆ T_DELAY      ┆ Y            │\n",
       "│ i64  ┆ i64   ┆ i64 ┆ i64         ┆   ┆ ---          ┆ ---          ┆ ---          ┆ ---          │\n",
       "│      ┆       ┆     ┆             ┆   ┆ i64          ┆ i64          ┆ i64          ┆ i64          │\n",
       "╞══════╪═══════╪═════╪═════════════╪═══╪══════════════╪══════════════╪══════════════╪══════════════╡\n",
       "│ 2015 ┆ 12    ┆ 1   ┆ 2           ┆ … ┆ null         ┆ null         ┆ null         ┆ null         │\n",
       "│ 2015 ┆ 12    ┆ 1   ┆ 2           ┆ … ┆ null         ┆ null         ┆ null         ┆ null         │\n",
       "│ 2015 ┆ 12    ┆ 1   ┆ 2           ┆ … ┆ null         ┆ null         ┆ null         ┆ null         │\n",
       "│ 2015 ┆ 12    ┆ 1   ┆ 2           ┆ … ┆ null         ┆ null         ┆ null         ┆ null         │\n",
       "│ 2015 ┆ 12    ┆ 1   ┆ 2           ┆ … ┆ null         ┆ null         ┆ null         ┆ null         │\n",
       "└──────┴───────┴─────┴─────────────┴───┴──────────────┴──────────────┴──────────────┴──────────────┘"
      ]
     },
     "execution_count": 5,
     "metadata": {},
     "output_type": "execute_result"
    }
   ],
   "source": [
    "start = time.time()\n",
    "\n",
    "df = pl.scan_csv('data/flight_kaggle/flights.csv').filter(\n",
    "    (pl.col('MONTH') == 12) &\n",
    "    (pl.col('ORIGIN_AIRPORT') == 'SEA') &\n",
    "    (pl.col('DESTINATION_AIRPORT') == 'DFW')\n",
    ").collect()\n",
    "\n",
    "end = time.time()\n",
    "print(end - start)\n",
    "df.head()"
   ]
  },
  {
   "attachments": {},
   "cell_type": "markdown",
   "metadata": {},
   "source": [
    "call `lazy()` method to make eager execution to be lazy evaluation\n",
    "\n",
    "this method is called ***Explicit Lazy Evaluation***"
   ]
  },
  {
   "cell_type": "code",
   "execution_count": 6,
   "metadata": {},
   "outputs": [
    {
     "name": "stdout",
     "output_type": "stream",
     "text": [
      "2.505751371383667\n"
     ]
    },
    {
     "data": {
      "text/html": [
       "<div><style>\n",
       ".dataframe > thead > tr > th,\n",
       ".dataframe > tbody > tr > td {\n",
       "  text-align: right;\n",
       "}\n",
       "</style>\n",
       "<small>shape: (5, 31)</small><table border=\"1\" class=\"dataframe\"><thead><tr><th>YEAR</th><th>MONTH</th><th>DAY</th><th>DAY_OF_WEEK</th><th>AIRLINE</th><th>FLIGHT_NUMBER</th><th>TAIL_NUMBER</th><th>ORIGIN_AIRPORT</th><th>DESTINATION_AIRPORT</th><th>SCHEDULED_DEPARTURE</th><th>DEPARTURE_TIME</th><th>DEPARTURE_DELAY</th><th>TAXI_OUT</th><th>WHEELS_OFF</th><th>SCHEDULED_TIME</th><th>ELAPSED_TIME</th><th>AIR_TIME</th><th>DISTANCE</th><th>WHEELS_ON</th><th>TAXI_IN</th><th>SCHEDULED_ARRIVAL</th><th>ARRIVAL_TIME</th><th>ARRIVAL_DELAY</th><th>DIVERTED</th><th>CANCELLED</th><th>CANCELLATION_REASON</th><th>AIR_SYSTEM_DELAY</th><th>SECURITY_DELAY</th><th>AIRLINE_DELAY</th><th>LATE_AIRCRAFT_DELAY</th><th>WEATHER_DELAY</th></tr><tr><td>i64</td><td>i64</td><td>i64</td><td>i64</td><td>str</td><td>i64</td><td>str</td><td>str</td><td>str</td><td>i64</td><td>i64</td><td>i64</td><td>i64</td><td>i64</td><td>i64</td><td>i64</td><td>i64</td><td>i64</td><td>i64</td><td>i64</td><td>i64</td><td>i64</td><td>i64</td><td>i64</td><td>i64</td><td>str</td><td>i64</td><td>i64</td><td>i64</td><td>i64</td><td>i64</td></tr></thead><tbody><tr><td>2015</td><td>12</td><td>1</td><td>2</td><td>&quot;AA&quot;</td><td>1230</td><td>&quot;N3KSAA&quot;</td><td>&quot;SEA&quot;</td><td>&quot;DFW&quot;</td><td>5</td><td>9</td><td>4</td><td>10</td><td>19</td><td>230</td><td>209</td><td>194</td><td>1660</td><td>533</td><td>5</td><td>555</td><td>538</td><td>-17</td><td>0</td><td>0</td><td>null</td><td>null</td><td>null</td><td>null</td><td>null</td><td>null</td></tr><tr><td>2015</td><td>12</td><td>1</td><td>2</td><td>&quot;AA&quot;</td><td>1228</td><td>&quot;N3AMAA&quot;</td><td>&quot;SEA&quot;</td><td>&quot;DFW&quot;</td><td>500</td><td>459</td><td>-1</td><td>16</td><td>515</td><td>234</td><td>237</td><td>198</td><td>1660</td><td>1033</td><td>23</td><td>1054</td><td>1056</td><td>2</td><td>0</td><td>0</td><td>null</td><td>null</td><td>null</td><td>null</td><td>null</td><td>null</td></tr><tr><td>2015</td><td>12</td><td>1</td><td>2</td><td>&quot;AS&quot;</td><td>658</td><td>&quot;N302AS&quot;</td><td>&quot;SEA&quot;</td><td>&quot;DFW&quot;</td><td>640</td><td>644</td><td>4</td><td>12</td><td>656</td><td>220</td><td>206</td><td>190</td><td>1660</td><td>1206</td><td>4</td><td>1220</td><td>1210</td><td>-10</td><td>0</td><td>0</td><td>null</td><td>null</td><td>null</td><td>null</td><td>null</td><td>null</td></tr><tr><td>2015</td><td>12</td><td>1</td><td>2</td><td>&quot;AA&quot;</td><td>1308</td><td>&quot;N3BDAA&quot;</td><td>&quot;SEA&quot;</td><td>&quot;DFW&quot;</td><td>645</td><td>640</td><td>-5</td><td>24</td><td>704</td><td>233</td><td>234</td><td>197</td><td>1660</td><td>1221</td><td>13</td><td>1238</td><td>1234</td><td>-4</td><td>0</td><td>0</td><td>null</td><td>null</td><td>null</td><td>null</td><td>null</td><td>null</td></tr><tr><td>2015</td><td>12</td><td>1</td><td>2</td><td>&quot;AA&quot;</td><td>143</td><td>&quot;N3FCAA&quot;</td><td>&quot;SEA&quot;</td><td>&quot;DFW&quot;</td><td>830</td><td>830</td><td>0</td><td>25</td><td>855</td><td>233</td><td>235</td><td>200</td><td>1660</td><td>1415</td><td>10</td><td>1423</td><td>1425</td><td>2</td><td>0</td><td>0</td><td>null</td><td>null</td><td>null</td><td>null</td><td>null</td><td>null</td></tr></tbody></table></div>"
      ],
      "text/plain": [
       "shape: (5, 31)\n",
       "┌──────┬───────┬─────┬─────────────┬───┬──────────────┬──────────────┬──────────────┬──────────────┐\n",
       "│ YEAR ┆ MONTH ┆ DAY ┆ DAY_OF_WEEK ┆ … ┆ SECURITY_DEL ┆ AIRLINE_DELA ┆ LATE_AIRCRAF ┆ WEATHER_DELA │\n",
       "│ ---  ┆ ---   ┆ --- ┆ ---         ┆   ┆ AY           ┆ Y            ┆ T_DELAY      ┆ Y            │\n",
       "│ i64  ┆ i64   ┆ i64 ┆ i64         ┆   ┆ ---          ┆ ---          ┆ ---          ┆ ---          │\n",
       "│      ┆       ┆     ┆             ┆   ┆ i64          ┆ i64          ┆ i64          ┆ i64          │\n",
       "╞══════╪═══════╪═════╪═════════════╪═══╪══════════════╪══════════════╪══════════════╪══════════════╡\n",
       "│ 2015 ┆ 12    ┆ 1   ┆ 2           ┆ … ┆ null         ┆ null         ┆ null         ┆ null         │\n",
       "│ 2015 ┆ 12    ┆ 1   ┆ 2           ┆ … ┆ null         ┆ null         ┆ null         ┆ null         │\n",
       "│ 2015 ┆ 12    ┆ 1   ┆ 2           ┆ … ┆ null         ┆ null         ┆ null         ┆ null         │\n",
       "│ 2015 ┆ 12    ┆ 1   ┆ 2           ┆ … ┆ null         ┆ null         ┆ null         ┆ null         │\n",
       "│ 2015 ┆ 12    ┆ 1   ┆ 2           ┆ … ┆ null         ┆ null         ┆ null         ┆ null         │\n",
       "└──────┴───────┴─────┴─────────────┴───┴──────────────┴──────────────┴──────────────┴──────────────┘"
      ]
     },
     "execution_count": 6,
     "metadata": {},
     "output_type": "execute_result"
    }
   ],
   "source": [
    "start = time.time()\n",
    "\n",
    "df = pl.read_csv('data/flight_kaggle/flights.csv') \\\n",
    "    .lazy() \\\n",
    "    .filter(\n",
    "        (pl.col('MONTH') == 12) &\n",
    "        (pl.col('ORIGIN_AIRPORT') == 'SEA') &\n",
    "        (pl.col('DESTINATION_AIRPORT') == 'DFW')).collect()\n",
    "\n",
    "end = time.time()\n",
    "print(end - start)\n",
    "df.head()"
   ]
  },
  {
   "cell_type": "markdown",
   "metadata": {},
   "source": [
    "## Understanding the LazyFrame object"
   ]
  },
  {
   "cell_type": "code",
   "execution_count": 7,
   "metadata": {},
   "outputs": [
    {
     "data": {
      "text/html": [
       "<h4>NAIVE QUERY PLAN</h4><p>run <b>LazyFrame.show_graph()</b> to see the optimized version</p><?xml version=\"1.0\" encoding=\"UTF-8\" standalone=\"no\"?>\r\n",
       "<!DOCTYPE svg PUBLIC \"-//W3C//DTD SVG 1.1//EN\"\r\n",
       " \"http://www.w3.org/Graphics/SVG/1.1/DTD/svg11.dtd\">\r\n",
       "<!-- Generated by graphviz version 2.50.0 (0)\r\n",
       " -->\r\n",
       "<!-- Title: polars_query Pages: 1 -->\r\n",
       "<svg width=\"268pt\" height=\"61pt\"\r\n",
       " viewBox=\"0.00 0.00 268.00 61.00\" xmlns=\"http://www.w3.org/2000/svg\" xmlns:xlink=\"http://www.w3.org/1999/xlink\">\r\n",
       "<g id=\"graph0\" class=\"graph\" transform=\"scale(1 1) rotate(0) translate(4 57)\">\r\n",
       "<title>polars_query</title>\r\n",
       "<polygon fill=\"white\" stroke=\"transparent\" points=\"-4,4 -4,-57 264,-57 264,4 -4,4\"/>\r\n",
       "<!-- [CSV SCAN data/flight_kaggle/airports.csv;\r\n",
       "π */7;\r\n",
       "σ &#45;] -->\r\n",
       "<g id=\"node1\" class=\"node\">\r\n",
       "<title>[CSV SCAN data/flight_kaggle/airports.csv;\r\n",
       "π */7;\r\n",
       "σ &#45;]</title>\r\n",
       "<polygon fill=\"none\" stroke=\"black\" points=\"260,-53 0,-53 0,0 260,0 260,-53\"/>\r\n",
       "<text text-anchor=\"middle\" x=\"130\" y=\"-37.8\" font-family=\"Times New Roman,serif\" font-size=\"14.00\">[CSV SCAN data/flight_kaggle/airports.csv;</text>\r\n",
       "<text text-anchor=\"middle\" x=\"130\" y=\"-22.8\" font-family=\"Times New Roman,serif\" font-size=\"14.00\">π */7;</text>\r\n",
       "<text text-anchor=\"middle\" x=\"130\" y=\"-7.8\" font-family=\"Times New Roman,serif\" font-size=\"14.00\">σ &#45;]</text>\r\n",
       "</g>\r\n",
       "</g>\r\n",
       "</svg>\r\n"
      ],
      "text/plain": [
       "<LazyFrame [7 cols, {\"IATA_CODE\": Utf8 … \"LONGITUDE\": Float64}] at 0x1C53A0B0460>"
      ]
     },
     "execution_count": 7,
     "metadata": {},
     "output_type": "execute_result"
    }
   ],
   "source": [
    "pl.scan_csv('data/flight_kaggle/airports.csv')"
   ]
  },
  {
   "cell_type": "code",
   "execution_count": 8,
   "metadata": {},
   "outputs": [
    {
     "data": {
      "text/html": [
       "<div><style>\n",
       ".dataframe > thead > tr > th,\n",
       ".dataframe > tbody > tr > td {\n",
       "  text-align: right;\n",
       "}\n",
       "</style>\n",
       "<small>shape: (322, 7)</small><table border=\"1\" class=\"dataframe\"><thead><tr><th>IATA_CODE</th><th>AIRPORT</th><th>CITY</th><th>STATE</th><th>COUNTRY</th><th>LATITUDE</th><th>LONGITUDE</th></tr><tr><td>str</td><td>str</td><td>str</td><td>str</td><td>str</td><td>f64</td><td>f64</td></tr></thead><tbody><tr><td>&quot;ABE&quot;</td><td>&quot;Lehigh Valley …</td><td>&quot;Allentown&quot;</td><td>&quot;PA&quot;</td><td>&quot;USA&quot;</td><td>40.65236</td><td>-75.4404</td></tr><tr><td>&quot;ABI&quot;</td><td>&quot;Abilene Region…</td><td>&quot;Abilene&quot;</td><td>&quot;TX&quot;</td><td>&quot;USA&quot;</td><td>32.41132</td><td>-99.6819</td></tr><tr><td>&quot;ABQ&quot;</td><td>&quot;Albuquerque In…</td><td>&quot;Albuquerque&quot;</td><td>&quot;NM&quot;</td><td>&quot;USA&quot;</td><td>35.04022</td><td>-106.60919</td></tr><tr><td>&quot;ABR&quot;</td><td>&quot;Aberdeen Regio…</td><td>&quot;Aberdeen&quot;</td><td>&quot;SD&quot;</td><td>&quot;USA&quot;</td><td>45.44906</td><td>-98.42183</td></tr><tr><td>&quot;ABY&quot;</td><td>&quot;Southwest Geor…</td><td>&quot;Albany&quot;</td><td>&quot;GA&quot;</td><td>&quot;USA&quot;</td><td>31.53552</td><td>-84.19447</td></tr><tr><td>&quot;ACK&quot;</td><td>&quot;Nantucket Memo…</td><td>&quot;Nantucket&quot;</td><td>&quot;MA&quot;</td><td>&quot;USA&quot;</td><td>41.25305</td><td>-70.06018</td></tr><tr><td>&quot;ACT&quot;</td><td>&quot;Waco Regional …</td><td>&quot;Waco&quot;</td><td>&quot;TX&quot;</td><td>&quot;USA&quot;</td><td>31.61129</td><td>-97.23052</td></tr><tr><td>&quot;ACV&quot;</td><td>&quot;Arcata Airport…</td><td>&quot;Arcata/Eureka&quot;</td><td>&quot;CA&quot;</td><td>&quot;USA&quot;</td><td>40.97812</td><td>-124.10862</td></tr><tr><td>&quot;ACY&quot;</td><td>&quot;Atlantic City …</td><td>&quot;Atlantic City&quot;</td><td>&quot;NJ&quot;</td><td>&quot;USA&quot;</td><td>39.45758</td><td>-74.57717</td></tr><tr><td>&quot;ADK&quot;</td><td>&quot;Adak Airport&quot;</td><td>&quot;Adak&quot;</td><td>&quot;AK&quot;</td><td>&quot;USA&quot;</td><td>51.87796</td><td>-176.64603</td></tr><tr><td>&quot;ADQ&quot;</td><td>&quot;Kodiak Airport…</td><td>&quot;Kodiak&quot;</td><td>&quot;AK&quot;</td><td>&quot;USA&quot;</td><td>57.74997</td><td>-152.49386</td></tr><tr><td>&quot;AEX&quot;</td><td>&quot;Alexandria Int…</td><td>&quot;Alexandria&quot;</td><td>&quot;LA&quot;</td><td>&quot;USA&quot;</td><td>31.32737</td><td>-92.54856</td></tr><tr><td>&hellip;</td><td>&hellip;</td><td>&hellip;</td><td>&hellip;</td><td>&hellip;</td><td>&hellip;</td><td>&hellip;</td></tr><tr><td>&quot;TXK&quot;</td><td>&quot;Texarkana Regi…</td><td>&quot;Texarkana&quot;</td><td>&quot;AR&quot;</td><td>&quot;USA&quot;</td><td>33.45371</td><td>-93.99102</td></tr><tr><td>&quot;TYR&quot;</td><td>&quot;Tyler Pounds R…</td><td>&quot;Tyler&quot;</td><td>&quot;TX&quot;</td><td>&quot;USA&quot;</td><td>32.35414</td><td>-95.40239</td></tr><tr><td>&quot;TYS&quot;</td><td>&quot;McGhee Tyson A…</td><td>&quot;Knoxville&quot;</td><td>&quot;TN&quot;</td><td>&quot;USA&quot;</td><td>35.81249</td><td>-83.99286</td></tr><tr><td>&quot;UST&quot;</td><td>&quot;Northeast Flor…</td><td>&quot;St. Augustine&quot;</td><td>&quot;FL&quot;</td><td>&quot;USA&quot;</td><td>null</td><td>null</td></tr><tr><td>&quot;VEL&quot;</td><td>&quot;Valdez Airport…</td><td>&quot;Vernal&quot;</td><td>&quot;UT&quot;</td><td>&quot;USA&quot;</td><td>40.4409</td><td>-109.50992</td></tr><tr><td>&quot;VLD&quot;</td><td>&quot;Valdosta Regio…</td><td>&quot;Valdosta&quot;</td><td>&quot;GA&quot;</td><td>&quot;USA&quot;</td><td>30.7825</td><td>-83.27672</td></tr><tr><td>&quot;VPS&quot;</td><td>&quot;Destin-Fort Wa…</td><td>&quot;Valparaiso&quot;</td><td>&quot;FL&quot;</td><td>&quot;USA&quot;</td><td>30.48325</td><td>-86.5254</td></tr><tr><td>&quot;WRG&quot;</td><td>&quot;Wrangell Airpo…</td><td>&quot;Wrangell&quot;</td><td>&quot;AK&quot;</td><td>&quot;USA&quot;</td><td>56.48433</td><td>-132.36982</td></tr><tr><td>&quot;WYS&quot;</td><td>&quot;Westerly State…</td><td>&quot;West Yellowsto…</td><td>&quot;MT&quot;</td><td>&quot;USA&quot;</td><td>44.6884</td><td>-111.11764</td></tr><tr><td>&quot;XNA&quot;</td><td>&quot;Northwest Arka…</td><td>&quot;Fayetteville/S…</td><td>&quot;AR&quot;</td><td>&quot;USA&quot;</td><td>36.28187</td><td>-94.30681</td></tr><tr><td>&quot;YAK&quot;</td><td>&quot;Yakutat Airpor…</td><td>&quot;Yakutat&quot;</td><td>&quot;AK&quot;</td><td>&quot;USA&quot;</td><td>59.50336</td><td>-139.66023</td></tr><tr><td>&quot;YUM&quot;</td><td>&quot;Yuma Internati…</td><td>&quot;Yuma&quot;</td><td>&quot;AZ&quot;</td><td>&quot;USA&quot;</td><td>32.65658</td><td>-114.60597</td></tr></tbody></table></div>"
      ],
      "text/plain": [
       "shape: (322, 7)\n",
       "┌───────────┬──────────────────────┬─────────────────────┬───────┬─────────┬──────────┬────────────┐\n",
       "│ IATA_CODE ┆ AIRPORT              ┆ CITY                ┆ STATE ┆ COUNTRY ┆ LATITUDE ┆ LONGITUDE  │\n",
       "│ ---       ┆ ---                  ┆ ---                 ┆ ---   ┆ ---     ┆ ---      ┆ ---        │\n",
       "│ str       ┆ str                  ┆ str                 ┆ str   ┆ str     ┆ f64      ┆ f64        │\n",
       "╞═══════════╪══════════════════════╪═════════════════════╪═══════╪═════════╪══════════╪════════════╡\n",
       "│ ABE       ┆ Lehigh Valley        ┆ Allentown           ┆ PA    ┆ USA     ┆ 40.65236 ┆ -75.4404   │\n",
       "│           ┆ International Airp…  ┆                     ┆       ┆         ┆          ┆            │\n",
       "│ ABI       ┆ Abilene Regional     ┆ Abilene             ┆ TX    ┆ USA     ┆ 32.41132 ┆ -99.6819   │\n",
       "│           ┆ Airport              ┆                     ┆       ┆         ┆          ┆            │\n",
       "│ ABQ       ┆ Albuquerque          ┆ Albuquerque         ┆ NM    ┆ USA     ┆ 35.04022 ┆ -106.60919 │\n",
       "│           ┆ International        ┆                     ┆       ┆         ┆          ┆            │\n",
       "│           ┆ Sunpor…              ┆                     ┆       ┆         ┆          ┆            │\n",
       "│ ABR       ┆ Aberdeen Regional    ┆ Aberdeen            ┆ SD    ┆ USA     ┆ 45.44906 ┆ -98.42183  │\n",
       "│           ┆ Airport              ┆                     ┆       ┆         ┆          ┆            │\n",
       "│ …         ┆ …                    ┆ …                   ┆ …     ┆ …       ┆ …        ┆ …          │\n",
       "│ WYS       ┆ Westerly State       ┆ West Yellowstone    ┆ MT    ┆ USA     ┆ 44.6884  ┆ -111.11764 │\n",
       "│           ┆ Airport              ┆                     ┆       ┆         ┆          ┆            │\n",
       "│ XNA       ┆ Northwest Arkansas   ┆ Fayetteville/Spring ┆ AR    ┆ USA     ┆ 36.28187 ┆ -94.30681  │\n",
       "│           ┆ Regional Airp…       ┆ dale/Rogers         ┆       ┆         ┆          ┆            │\n",
       "│ YAK       ┆ Yakutat Airport      ┆ Yakutat             ┆ AK    ┆ USA     ┆ 59.50336 ┆ -139.66023 │\n",
       "│ YUM       ┆ Yuma International   ┆ Yuma                ┆ AZ    ┆ USA     ┆ 32.65658 ┆ -114.60597 │\n",
       "│           ┆ Airport              ┆                     ┆       ┆         ┆          ┆            │\n",
       "└───────────┴──────────────────────┴─────────────────────┴───────┴─────────┴──────────┴────────────┘"
      ]
     },
     "execution_count": 8,
     "metadata": {},
     "output_type": "execute_result"
    }
   ],
   "source": [
    "pl.scan_csv('data/flight_kaggle/airports.csv').collect()"
   ]
  },
  {
   "attachments": {},
   "cell_type": "markdown",
   "metadata": {},
   "source": [
    "Using enclose query"
   ]
  },
  {
   "cell_type": "code",
   "execution_count": 44,
   "metadata": {},
   "outputs": [
    {
     "data": {
      "text/html": [
       "<div><style>\n",
       ".dataframe > thead > tr > th,\n",
       ".dataframe > tbody > tr > td {\n",
       "  text-align: right;\n",
       "}\n",
       "</style>\n",
       "<small>shape: (322, 7)</small><table border=\"1\" class=\"dataframe\"><thead><tr><th>IATA_CODE</th><th>AIRPORT</th><th>CITY</th><th>STATE</th><th>COUNTRY</th><th>LATITUDE</th><th>LONGITUDE</th></tr><tr><td>str</td><td>str</td><td>str</td><td>str</td><td>str</td><td>f64</td><td>f64</td></tr></thead><tbody><tr><td>&quot;ABE&quot;</td><td>&quot;Lehigh Valley …</td><td>&quot;Allentown&quot;</td><td>&quot;PA&quot;</td><td>&quot;USA&quot;</td><td>40.65236</td><td>-75.4404</td></tr><tr><td>&quot;ABI&quot;</td><td>&quot;Abilene Region…</td><td>&quot;Abilene&quot;</td><td>&quot;TX&quot;</td><td>&quot;USA&quot;</td><td>32.41132</td><td>-99.6819</td></tr><tr><td>&quot;ABQ&quot;</td><td>&quot;Albuquerque In…</td><td>&quot;Albuquerque&quot;</td><td>&quot;NM&quot;</td><td>&quot;USA&quot;</td><td>35.04022</td><td>-106.60919</td></tr><tr><td>&quot;ABR&quot;</td><td>&quot;Aberdeen Regio…</td><td>&quot;Aberdeen&quot;</td><td>&quot;SD&quot;</td><td>&quot;USA&quot;</td><td>45.44906</td><td>-98.42183</td></tr><tr><td>&quot;ABY&quot;</td><td>&quot;Southwest Geor…</td><td>&quot;Albany&quot;</td><td>&quot;GA&quot;</td><td>&quot;USA&quot;</td><td>31.53552</td><td>-84.19447</td></tr><tr><td>&quot;ACK&quot;</td><td>&quot;Nantucket Memo…</td><td>&quot;Nantucket&quot;</td><td>&quot;MA&quot;</td><td>&quot;USA&quot;</td><td>41.25305</td><td>-70.06018</td></tr><tr><td>&quot;ACT&quot;</td><td>&quot;Waco Regional …</td><td>&quot;Waco&quot;</td><td>&quot;TX&quot;</td><td>&quot;USA&quot;</td><td>31.61129</td><td>-97.23052</td></tr><tr><td>&quot;ACV&quot;</td><td>&quot;Arcata Airport…</td><td>&quot;Arcata/Eureka&quot;</td><td>&quot;CA&quot;</td><td>&quot;USA&quot;</td><td>40.97812</td><td>-124.10862</td></tr><tr><td>&quot;ACY&quot;</td><td>&quot;Atlantic City …</td><td>&quot;Atlantic City&quot;</td><td>&quot;NJ&quot;</td><td>&quot;USA&quot;</td><td>39.45758</td><td>-74.57717</td></tr><tr><td>&quot;ADK&quot;</td><td>&quot;Adak Airport&quot;</td><td>&quot;Adak&quot;</td><td>&quot;AK&quot;</td><td>&quot;USA&quot;</td><td>51.87796</td><td>-176.64603</td></tr><tr><td>&quot;ADQ&quot;</td><td>&quot;Kodiak Airport…</td><td>&quot;Kodiak&quot;</td><td>&quot;AK&quot;</td><td>&quot;USA&quot;</td><td>57.74997</td><td>-152.49386</td></tr><tr><td>&quot;AEX&quot;</td><td>&quot;Alexandria Int…</td><td>&quot;Alexandria&quot;</td><td>&quot;LA&quot;</td><td>&quot;USA&quot;</td><td>31.32737</td><td>-92.54856</td></tr><tr><td>&hellip;</td><td>&hellip;</td><td>&hellip;</td><td>&hellip;</td><td>&hellip;</td><td>&hellip;</td><td>&hellip;</td></tr><tr><td>&quot;TXK&quot;</td><td>&quot;Texarkana Regi…</td><td>&quot;Texarkana&quot;</td><td>&quot;AR&quot;</td><td>&quot;USA&quot;</td><td>33.45371</td><td>-93.99102</td></tr><tr><td>&quot;TYR&quot;</td><td>&quot;Tyler Pounds R…</td><td>&quot;Tyler&quot;</td><td>&quot;TX&quot;</td><td>&quot;USA&quot;</td><td>32.35414</td><td>-95.40239</td></tr><tr><td>&quot;TYS&quot;</td><td>&quot;McGhee Tyson A…</td><td>&quot;Knoxville&quot;</td><td>&quot;TN&quot;</td><td>&quot;USA&quot;</td><td>35.81249</td><td>-83.99286</td></tr><tr><td>&quot;UST&quot;</td><td>&quot;Northeast Flor…</td><td>&quot;St. Augustine&quot;</td><td>&quot;FL&quot;</td><td>&quot;USA&quot;</td><td>null</td><td>null</td></tr><tr><td>&quot;VEL&quot;</td><td>&quot;Valdez Airport…</td><td>&quot;Vernal&quot;</td><td>&quot;UT&quot;</td><td>&quot;USA&quot;</td><td>40.4409</td><td>-109.50992</td></tr><tr><td>&quot;VLD&quot;</td><td>&quot;Valdosta Regio…</td><td>&quot;Valdosta&quot;</td><td>&quot;GA&quot;</td><td>&quot;USA&quot;</td><td>30.7825</td><td>-83.27672</td></tr><tr><td>&quot;VPS&quot;</td><td>&quot;Destin-Fort Wa…</td><td>&quot;Valparaiso&quot;</td><td>&quot;FL&quot;</td><td>&quot;USA&quot;</td><td>30.48325</td><td>-86.5254</td></tr><tr><td>&quot;WRG&quot;</td><td>&quot;Wrangell Airpo…</td><td>&quot;Wrangell&quot;</td><td>&quot;AK&quot;</td><td>&quot;USA&quot;</td><td>56.48433</td><td>-132.36982</td></tr><tr><td>&quot;WYS&quot;</td><td>&quot;Westerly State…</td><td>&quot;West Yellowsto…</td><td>&quot;MT&quot;</td><td>&quot;USA&quot;</td><td>44.6884</td><td>-111.11764</td></tr><tr><td>&quot;XNA&quot;</td><td>&quot;Northwest Arka…</td><td>&quot;Fayetteville/S…</td><td>&quot;AR&quot;</td><td>&quot;USA&quot;</td><td>36.28187</td><td>-94.30681</td></tr><tr><td>&quot;YAK&quot;</td><td>&quot;Yakutat Airpor…</td><td>&quot;Yakutat&quot;</td><td>&quot;AK&quot;</td><td>&quot;USA&quot;</td><td>59.50336</td><td>-139.66023</td></tr><tr><td>&quot;YUM&quot;</td><td>&quot;Yuma Internati…</td><td>&quot;Yuma&quot;</td><td>&quot;AZ&quot;</td><td>&quot;USA&quot;</td><td>32.65658</td><td>-114.60597</td></tr></tbody></table></div>"
      ],
      "text/plain": [
       "shape: (322, 7)\n",
       "┌───────────┬──────────────────────┬─────────────────────┬───────┬─────────┬──────────┬────────────┐\n",
       "│ IATA_CODE ┆ AIRPORT              ┆ CITY                ┆ STATE ┆ COUNTRY ┆ LATITUDE ┆ LONGITUDE  │\n",
       "│ ---       ┆ ---                  ┆ ---                 ┆ ---   ┆ ---     ┆ ---      ┆ ---        │\n",
       "│ str       ┆ str                  ┆ str                 ┆ str   ┆ str     ┆ f64      ┆ f64        │\n",
       "╞═══════════╪══════════════════════╪═════════════════════╪═══════╪═════════╪══════════╪════════════╡\n",
       "│ ABE       ┆ Lehigh Valley        ┆ Allentown           ┆ PA    ┆ USA     ┆ 40.65236 ┆ -75.4404   │\n",
       "│           ┆ International Airp…  ┆                     ┆       ┆         ┆          ┆            │\n",
       "│ ABI       ┆ Abilene Regional     ┆ Abilene             ┆ TX    ┆ USA     ┆ 32.41132 ┆ -99.6819   │\n",
       "│           ┆ Airport              ┆                     ┆       ┆         ┆          ┆            │\n",
       "│ ABQ       ┆ Albuquerque          ┆ Albuquerque         ┆ NM    ┆ USA     ┆ 35.04022 ┆ -106.60919 │\n",
       "│           ┆ International        ┆                     ┆       ┆         ┆          ┆            │\n",
       "│           ┆ Sunpor…              ┆                     ┆       ┆         ┆          ┆            │\n",
       "│ ABR       ┆ Aberdeen Regional    ┆ Aberdeen            ┆ SD    ┆ USA     ┆ 45.44906 ┆ -98.42183  │\n",
       "│           ┆ Airport              ┆                     ┆       ┆         ┆          ┆            │\n",
       "│ …         ┆ …                    ┆ …                   ┆ …     ┆ …       ┆ …        ┆ …          │\n",
       "│ WYS       ┆ Westerly State       ┆ West Yellowstone    ┆ MT    ┆ USA     ┆ 44.6884  ┆ -111.11764 │\n",
       "│           ┆ Airport              ┆                     ┆       ┆         ┆          ┆            │\n",
       "│ XNA       ┆ Northwest Arkansas   ┆ Fayetteville/Spring ┆ AR    ┆ USA     ┆ 36.28187 ┆ -94.30681  │\n",
       "│           ┆ Regional Airp…       ┆ dale/Rogers         ┆       ┆         ┆          ┆            │\n",
       "│ YAK       ┆ Yakutat Airport      ┆ Yakutat             ┆ AK    ┆ USA     ┆ 59.50336 ┆ -139.66023 │\n",
       "│ YUM       ┆ Yuma International   ┆ Yuma                ┆ AZ    ┆ USA     ┆ 32.65658 ┆ -114.60597 │\n",
       "│           ┆ Airport              ┆                     ┆       ┆         ┆          ┆            │\n",
       "└───────────┴──────────────────────┴─────────────────────┴───────┴─────────┴──────────┴────────────┘"
      ]
     },
     "execution_count": 44,
     "metadata": {},
     "output_type": "execute_result"
    }
   ],
   "source": [
    "q = (\n",
    "    pl.scan_csv('data/flight_kaggle/airports.csv')\n",
    ")\n",
    "\n",
    "q.collect()"
   ]
  },
  {
   "attachments": {},
   "cell_type": "markdown",
   "metadata": {},
   "source": [
    "using `fetch()` method to return the first *n* rows"
   ]
  },
  {
   "cell_type": "code",
   "execution_count": 46,
   "metadata": {},
   "outputs": [
    {
     "data": {
      "text/html": [
       "<div><style>\n",
       ".dataframe > thead > tr > th,\n",
       ".dataframe > tbody > tr > td {\n",
       "  text-align: right;\n",
       "}\n",
       "</style>\n",
       "<small>shape: (5, 7)</small><table border=\"1\" class=\"dataframe\"><thead><tr><th>IATA_CODE</th><th>AIRPORT</th><th>CITY</th><th>STATE</th><th>COUNTRY</th><th>LATITUDE</th><th>LONGITUDE</th></tr><tr><td>str</td><td>str</td><td>str</td><td>str</td><td>str</td><td>f64</td><td>f64</td></tr></thead><tbody><tr><td>&quot;ABE&quot;</td><td>&quot;Lehigh Valley …</td><td>&quot;Allentown&quot;</td><td>&quot;PA&quot;</td><td>&quot;USA&quot;</td><td>40.65236</td><td>-75.4404</td></tr><tr><td>&quot;ABI&quot;</td><td>&quot;Abilene Region…</td><td>&quot;Abilene&quot;</td><td>&quot;TX&quot;</td><td>&quot;USA&quot;</td><td>32.41132</td><td>-99.6819</td></tr><tr><td>&quot;ABQ&quot;</td><td>&quot;Albuquerque In…</td><td>&quot;Albuquerque&quot;</td><td>&quot;NM&quot;</td><td>&quot;USA&quot;</td><td>35.04022</td><td>-106.60919</td></tr><tr><td>&quot;ABR&quot;</td><td>&quot;Aberdeen Regio…</td><td>&quot;Aberdeen&quot;</td><td>&quot;SD&quot;</td><td>&quot;USA&quot;</td><td>45.44906</td><td>-98.42183</td></tr><tr><td>&quot;ABY&quot;</td><td>&quot;Southwest Geor…</td><td>&quot;Albany&quot;</td><td>&quot;GA&quot;</td><td>&quot;USA&quot;</td><td>31.53552</td><td>-84.19447</td></tr></tbody></table></div>"
      ],
      "text/plain": [
       "shape: (5, 7)\n",
       "┌───────────┬──────────────────────────────┬─────────────┬───────┬─────────┬──────────┬────────────┐\n",
       "│ IATA_CODE ┆ AIRPORT                      ┆ CITY        ┆ STATE ┆ COUNTRY ┆ LATITUDE ┆ LONGITUDE  │\n",
       "│ ---       ┆ ---                          ┆ ---         ┆ ---   ┆ ---     ┆ ---      ┆ ---        │\n",
       "│ str       ┆ str                          ┆ str         ┆ str   ┆ str     ┆ f64      ┆ f64        │\n",
       "╞═══════════╪══════════════════════════════╪═════════════╪═══════╪═════════╪══════════╪════════════╡\n",
       "│ ABE       ┆ Lehigh Valley International  ┆ Allentown   ┆ PA    ┆ USA     ┆ 40.65236 ┆ -75.4404   │\n",
       "│           ┆ Airp…                        ┆             ┆       ┆         ┆          ┆            │\n",
       "│ ABI       ┆ Abilene Regional Airport     ┆ Abilene     ┆ TX    ┆ USA     ┆ 32.41132 ┆ -99.6819   │\n",
       "│ ABQ       ┆ Albuquerque International    ┆ Albuquerque ┆ NM    ┆ USA     ┆ 35.04022 ┆ -106.60919 │\n",
       "│           ┆ Sunpor…                      ┆             ┆       ┆         ┆          ┆            │\n",
       "│ ABR       ┆ Aberdeen Regional Airport    ┆ Aberdeen    ┆ SD    ┆ USA     ┆ 45.44906 ┆ -98.42183  │\n",
       "│ ABY       ┆ Southwest Georgia Regional   ┆ Albany      ┆ GA    ┆ USA     ┆ 31.53552 ┆ -84.19447  │\n",
       "│           ┆ Airpo…                       ┆             ┆       ┆         ┆          ┆            │\n",
       "└───────────┴──────────────────────────────┴─────────────┴───────┴─────────┴──────────┴────────────┘"
      ]
     },
     "execution_count": 46,
     "metadata": {},
     "output_type": "execute_result"
    }
   ],
   "source": [
    "q.fetch(5)"
   ]
  },
  {
   "attachments": {},
   "cell_type": "markdown",
   "metadata": {},
   "source": [
    "You can chain the various methods in a single query"
   ]
  },
  {
   "cell_type": "code",
   "execution_count": 49,
   "metadata": {},
   "outputs": [],
   "source": [
    "q = (\n",
    "    pl.scan_csv('data/flight_kaggle/airports.csv')\n",
    "    .select(['AIRPORT','CITY', 'LATITUDE'])\n",
    "    .filter(\n",
    "        pl.col('LATITUDE') > 18\n",
    "    )\n",
    ")"
   ]
  },
  {
   "attachments": {},
   "cell_type": "markdown",
   "metadata": {},
   "source": [
    "`show_graph()` method displays the execution graph"
   ]
  },
  {
   "cell_type": "code",
   "execution_count": 50,
   "metadata": {},
   "outputs": [
    {
     "data": {
      "image/svg+xml": [
       "<svg xmlns=\"http://www.w3.org/2000/svg\" xmlns:xlink=\"http://www.w3.org/1999/xlink\" width=\"303pt\" height=\"133pt\" viewBox=\"0.00 0.00 303.00 133.00\">\n",
       "<g id=\"graph0\" class=\"graph\" transform=\"scale(1 1) rotate(0) translate(4 129)\">\n",
       "<title>polars_query</title>\n",
       "<polygon fill=\"white\" stroke=\"transparent\" points=\"-4,4 -4,-129 299,-129 299,4 -4,4\"/>\n",
       "<!-- FAST_PROJECT: [AIRPORT, CITY, LATITUDE] [(0, 0)] -->\n",
       "<g id=\"node1\" class=\"node\">\n",
       "<title>FAST_PROJECT: [AIRPORT, CITY, LATITUDE] [(0, 0)]</title>\n",
       "<polygon fill=\"none\" stroke=\"black\" points=\"295,-125 0,-125 0,-89 295,-89 295,-125\"/>\n",
       "<text text-anchor=\"middle\" x=\"147.5\" y=\"-103.3\" font-family=\"Times New Roman,serif\" font-size=\"14.00\">FAST_PROJECT: [AIRPORT, CITY, LATITUDE]</text>\n",
       "</g>\n",
       "<!-- CSV SCAN data/flight_kaggle/airports.csv;\n",
       "π 3/7;\n",
       "σ (col(&quot;LATITUDE&quot;)) &gt; (18.0... [(0, 1)] -->\n",
       "<g id=\"node2\" class=\"node\">\n",
       "<title>CSV SCAN data/flight_kaggle/airports.csv;\n",
       "π 3/7;\n",
       "σ (col(&quot;LATITUDE&quot;)) &gt; (18.0... [(0, 1)]</title>\n",
       "<polygon fill=\"none\" stroke=\"black\" points=\"275,-53 20,-53 20,0 275,0 275,-53\"/>\n",
       "<text text-anchor=\"middle\" x=\"147.5\" y=\"-37.8\" font-family=\"Times New Roman,serif\" font-size=\"14.00\">CSV SCAN data/flight_kaggle/airports.csv;</text>\n",
       "<text text-anchor=\"middle\" x=\"147.5\" y=\"-22.8\" font-family=\"Times New Roman,serif\" font-size=\"14.00\">π 3/7;</text>\n",
       "<text text-anchor=\"middle\" x=\"147.5\" y=\"-7.8\" font-family=\"Times New Roman,serif\" font-size=\"14.00\">σ (col(&quot;LATITUDE&quot;)) &gt; (18.0...</text>\n",
       "</g>\n",
       "<!-- FAST_PROJECT: [AIRPORT, CITY, LATITUDE] [(0, 0)]&#45;&#45;CSV SCAN data/flight_kaggle/airports.csv;\n",
       "π 3/7;\n",
       "σ (col(&quot;LATITUDE&quot;)) &gt; (18.0... [(0, 1)] -->\n",
       "<g id=\"edge1\" class=\"edge\">\n",
       "<title>FAST_PROJECT: [AIRPORT, CITY, LATITUDE] [(0, 0)]--CSV SCAN data/flight_kaggle/airports.csv;\n",
       "π 3/7;\n",
       "σ (col(&quot;LATITUDE&quot;)) &gt; (18.0... [(0, 1)]</title>\n",
       "<path fill=\"none\" stroke=\"black\" d=\"M147.5,-88.97C147.5,-78.51 147.5,-64.9 147.5,-53.16\"/>\n",
       "</g>\n",
       "</g>\n",
       "</svg>"
      ],
      "text/plain": [
       "<IPython.core.display.SVG object>"
      ]
     },
     "metadata": {},
     "output_type": "display_data"
    }
   ],
   "source": [
    "q.show_graph(optimized=True)"
   ]
  },
  {
   "cell_type": "code",
   "execution_count": 51,
   "metadata": {},
   "outputs": [
    {
     "data": {
      "image/svg+xml": [
       "<svg xmlns=\"http://www.w3.org/2000/svg\" xmlns:xlink=\"http://www.w3.org/1999/xlink\" width=\"263pt\" height=\"205pt\" viewBox=\"0.00 0.00 263.00 205.00\">\n",
       "<g id=\"graph0\" class=\"graph\" transform=\"scale(1 1) rotate(0) translate(4 201)\">\n",
       "<title>polars_query</title>\n",
       "<polygon fill=\"white\" stroke=\"transparent\" points=\"-4,4 -4,-201 259,-201 259,4 -4,4\"/>\n",
       "<!-- FILTER BY (col(&quot;LATITUDE&quot;)) &gt; (18) [(0, 0)] -->\n",
       "<g id=\"node1\" class=\"node\">\n",
       "<title>FILTER BY (col(&quot;LATITUDE&quot;)) &gt; (18) [(0, 0)]</title>\n",
       "<polygon fill=\"none\" stroke=\"black\" points=\"246.5,-197 8.5,-197 8.5,-161 246.5,-161 246.5,-197\"/>\n",
       "<text text-anchor=\"middle\" x=\"127.5\" y=\"-175.3\" font-family=\"Times New Roman,serif\" font-size=\"14.00\">FILTER BY (col(&quot;LATITUDE&quot;)) &gt; (18)</text>\n",
       "</g>\n",
       "<!-- π 3/7 [(0, 1)] -->\n",
       "<g id=\"node2\" class=\"node\">\n",
       "<title>π 3/7 [(0, 1)]</title>\n",
       "<polygon fill=\"none\" stroke=\"black\" points=\"154.5,-125 100.5,-125 100.5,-89 154.5,-89 154.5,-125\"/>\n",
       "<text text-anchor=\"middle\" x=\"127.5\" y=\"-103.3\" font-family=\"Times New Roman,serif\" font-size=\"14.00\">π 3/7</text>\n",
       "</g>\n",
       "<!-- FILTER BY (col(&quot;LATITUDE&quot;)) &gt; (18) [(0, 0)]&#45;&#45;π 3/7 [(0, 1)] -->\n",
       "<g id=\"edge1\" class=\"edge\">\n",
       "<title>FILTER BY (col(&quot;LATITUDE&quot;)) &gt; (18) [(0, 0)]--π 3/7 [(0, 1)]</title>\n",
       "<path fill=\"none\" stroke=\"black\" d=\"M127.5,-160.7C127.5,-149.85 127.5,-135.92 127.5,-125.1\"/>\n",
       "</g>\n",
       "<!-- CSV SCAN data/flight_kaggle/airports.csv;\n",
       "π */7;\n",
       "σ &#45; [(0, 2)] -->\n",
       "<g id=\"node3\" class=\"node\">\n",
       "<title>CSV SCAN data/flight_kaggle/airports.csv;\n",
       "π */7;\n",
       "σ - [(0, 2)]</title>\n",
       "<polygon fill=\"none\" stroke=\"black\" points=\"255,-53 0,-53 0,0 255,0 255,-53\"/>\n",
       "<text text-anchor=\"middle\" x=\"127.5\" y=\"-37.8\" font-family=\"Times New Roman,serif\" font-size=\"14.00\">CSV SCAN data/flight_kaggle/airports.csv;</text>\n",
       "<text text-anchor=\"middle\" x=\"127.5\" y=\"-22.8\" font-family=\"Times New Roman,serif\" font-size=\"14.00\">π */7;</text>\n",
       "<text text-anchor=\"middle\" x=\"127.5\" y=\"-7.8\" font-family=\"Times New Roman,serif\" font-size=\"14.00\">σ -</text>\n",
       "</g>\n",
       "<!-- π 3/7 [(0, 1)]&#45;&#45;CSV SCAN data/flight_kaggle/airports.csv;\n",
       "π */7;\n",
       "σ &#45; [(0, 2)] -->\n",
       "<g id=\"edge2\" class=\"edge\">\n",
       "<title>π 3/7 [(0, 1)]--CSV SCAN data/flight_kaggle/airports.csv;\n",
       "π */7;\n",
       "σ - [(0, 2)]</title>\n",
       "<path fill=\"none\" stroke=\"black\" d=\"M127.5,-88.97C127.5,-78.51 127.5,-64.9 127.5,-53.16\"/>\n",
       "</g>\n",
       "</g>\n",
       "</svg>"
      ],
      "text/plain": [
       "<IPython.core.display.SVG object>"
      ]
     },
     "metadata": {},
     "output_type": "display_data"
    }
   ],
   "source": [
    "q.show_graph(optimized=False)"
   ]
  },
  {
   "cell_type": "code",
   "execution_count": 52,
   "metadata": {},
   "outputs": [
    {
     "data": {
      "text/html": [
       "<div><style>\n",
       ".dataframe > thead > tr > th,\n",
       ".dataframe > tbody > tr > td {\n",
       "  text-align: right;\n",
       "}\n",
       "</style>\n",
       "<small>shape: (316, 3)</small><table border=\"1\" class=\"dataframe\"><thead><tr><th>AIRPORT</th><th>CITY</th><th>LATITUDE</th></tr><tr><td>str</td><td>str</td><td>f64</td></tr></thead><tbody><tr><td>&quot;Lehigh Valley …</td><td>&quot;Allentown&quot;</td><td>40.65236</td></tr><tr><td>&quot;Abilene Region…</td><td>&quot;Abilene&quot;</td><td>32.41132</td></tr><tr><td>&quot;Albuquerque In…</td><td>&quot;Albuquerque&quot;</td><td>35.04022</td></tr><tr><td>&quot;Aberdeen Regio…</td><td>&quot;Aberdeen&quot;</td><td>45.44906</td></tr><tr><td>&quot;Southwest Geor…</td><td>&quot;Albany&quot;</td><td>31.53552</td></tr><tr><td>&quot;Nantucket Memo…</td><td>&quot;Nantucket&quot;</td><td>41.25305</td></tr><tr><td>&quot;Waco Regional …</td><td>&quot;Waco&quot;</td><td>31.61129</td></tr><tr><td>&quot;Arcata Airport…</td><td>&quot;Arcata/Eureka&quot;</td><td>40.97812</td></tr><tr><td>&quot;Atlantic City …</td><td>&quot;Atlantic City&quot;</td><td>39.45758</td></tr><tr><td>&quot;Adak Airport&quot;</td><td>&quot;Adak&quot;</td><td>51.87796</td></tr><tr><td>&quot;Kodiak Airport…</td><td>&quot;Kodiak&quot;</td><td>57.74997</td></tr><tr><td>&quot;Alexandria Int…</td><td>&quot;Alexandria&quot;</td><td>31.32737</td></tr><tr><td>&hellip;</td><td>&hellip;</td><td>&hellip;</td></tr><tr><td>&quot;Magic Valley R…</td><td>&quot;Twin Falls&quot;</td><td>42.4818</td></tr><tr><td>&quot;Texarkana Regi…</td><td>&quot;Texarkana&quot;</td><td>33.45371</td></tr><tr><td>&quot;Tyler Pounds R…</td><td>&quot;Tyler&quot;</td><td>32.35414</td></tr><tr><td>&quot;McGhee Tyson A…</td><td>&quot;Knoxville&quot;</td><td>35.81249</td></tr><tr><td>&quot;Valdez Airport…</td><td>&quot;Vernal&quot;</td><td>40.4409</td></tr><tr><td>&quot;Valdosta Regio…</td><td>&quot;Valdosta&quot;</td><td>30.7825</td></tr><tr><td>&quot;Destin-Fort Wa…</td><td>&quot;Valparaiso&quot;</td><td>30.48325</td></tr><tr><td>&quot;Wrangell Airpo…</td><td>&quot;Wrangell&quot;</td><td>56.48433</td></tr><tr><td>&quot;Westerly State…</td><td>&quot;West Yellowsto…</td><td>44.6884</td></tr><tr><td>&quot;Northwest Arka…</td><td>&quot;Fayetteville/S…</td><td>36.28187</td></tr><tr><td>&quot;Yakutat Airpor…</td><td>&quot;Yakutat&quot;</td><td>59.50336</td></tr><tr><td>&quot;Yuma Internati…</td><td>&quot;Yuma&quot;</td><td>32.65658</td></tr></tbody></table></div>"
      ],
      "text/plain": [
       "shape: (316, 3)\n",
       "┌───────────────────────────────────┬────────────────────────────────┬──────────┐\n",
       "│ AIRPORT                           ┆ CITY                           ┆ LATITUDE │\n",
       "│ ---                               ┆ ---                            ┆ ---      │\n",
       "│ str                               ┆ str                            ┆ f64      │\n",
       "╞═══════════════════════════════════╪════════════════════════════════╪══════════╡\n",
       "│ Lehigh Valley International Airp… ┆ Allentown                      ┆ 40.65236 │\n",
       "│ Abilene Regional Airport          ┆ Abilene                        ┆ 32.41132 │\n",
       "│ Albuquerque International Sunpor… ┆ Albuquerque                    ┆ 35.04022 │\n",
       "│ Aberdeen Regional Airport         ┆ Aberdeen                       ┆ 45.44906 │\n",
       "│ …                                 ┆ …                              ┆ …        │\n",
       "│ Westerly State Airport            ┆ West Yellowstone               ┆ 44.6884  │\n",
       "│ Northwest Arkansas Regional Airp… ┆ Fayetteville/Springdale/Rogers ┆ 36.28187 │\n",
       "│ Yakutat Airport                   ┆ Yakutat                        ┆ 59.50336 │\n",
       "│ Yuma International Airport        ┆ Yuma                           ┆ 32.65658 │\n",
       "└───────────────────────────────────┴────────────────────────────────┴──────────┘"
      ]
     },
     "execution_count": 52,
     "metadata": {},
     "output_type": "execute_result"
    }
   ],
   "source": [
    "q.collect()"
   ]
  },
  {
   "cell_type": "code",
   "execution_count": 53,
   "metadata": {},
   "outputs": [
    {
     "data": {
      "text/html": [
       "<div><style>\n",
       ".dataframe > thead > tr > th,\n",
       ".dataframe > tbody > tr > td {\n",
       "  text-align: right;\n",
       "}\n",
       "</style>\n",
       "<small>shape: (5, 3)</small><table border=\"1\" class=\"dataframe\"><thead><tr><th>AIRPORT</th><th>CITY</th><th>LATITUDE</th></tr><tr><td>str</td><td>str</td><td>f64</td></tr></thead><tbody><tr><td>&quot;Lehigh Valley …</td><td>&quot;Allentown&quot;</td><td>40.65236</td></tr><tr><td>&quot;Abilene Region…</td><td>&quot;Abilene&quot;</td><td>32.41132</td></tr><tr><td>&quot;Albuquerque In…</td><td>&quot;Albuquerque&quot;</td><td>35.04022</td></tr><tr><td>&quot;Aberdeen Regio…</td><td>&quot;Aberdeen&quot;</td><td>45.44906</td></tr><tr><td>&quot;Southwest Geor…</td><td>&quot;Albany&quot;</td><td>31.53552</td></tr></tbody></table></div>"
      ],
      "text/plain": [
       "shape: (5, 3)\n",
       "┌───────────────────────────────────┬─────────────┬──────────┐\n",
       "│ AIRPORT                           ┆ CITY        ┆ LATITUDE │\n",
       "│ ---                               ┆ ---         ┆ ---      │\n",
       "│ str                               ┆ str         ┆ f64      │\n",
       "╞═══════════════════════════════════╪═════════════╪══════════╡\n",
       "│ Lehigh Valley International Airp… ┆ Allentown   ┆ 40.65236 │\n",
       "│ Abilene Regional Airport          ┆ Abilene     ┆ 32.41132 │\n",
       "│ Albuquerque International Sunpor… ┆ Albuquerque ┆ 35.04022 │\n",
       "│ Aberdeen Regional Airport         ┆ Aberdeen    ┆ 45.44906 │\n",
       "│ Southwest Georgia Regional Airpo… ┆ Albany      ┆ 31.53552 │\n",
       "└───────────────────────────────────┴─────────────┴──────────┘"
      ]
     },
     "execution_count": 53,
     "metadata": {},
     "output_type": "execute_result"
    }
   ],
   "source": [
    "q.fetch(5)"
   ]
  },
  {
   "cell_type": "code",
   "execution_count": null,
   "metadata": {},
   "outputs": [],
   "source": []
  }
 ],
 "metadata": {
  "kernelspec": {
   "display_name": "base",
   "language": "python",
   "name": "python3"
  },
  "language_info": {
   "codemirror_mode": {
    "name": "ipython",
    "version": 3
   },
   "file_extension": ".py",
   "mimetype": "text/x-python",
   "name": "python",
   "nbconvert_exporter": "python",
   "pygments_lexer": "ipython3",
   "version": "3.9.13"
  },
  "orig_nbformat": 4
 },
 "nbformat": 4,
 "nbformat_minor": 2
}
