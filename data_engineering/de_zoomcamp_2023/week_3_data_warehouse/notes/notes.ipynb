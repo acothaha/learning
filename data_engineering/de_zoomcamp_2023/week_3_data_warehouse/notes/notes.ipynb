{
 "cells": [
  {
   "attachments": {},
   "cell_type": "markdown",
   "metadata": {},
   "source": [
    "# WEEK 3: DATA WAREHOUSE AND BIGQUERY"
   ]
  },
  {
   "attachments": {},
   "cell_type": "markdown",
   "metadata": {},
   "source": [
    "## 3.1 Data Warhouse\n",
    "\n",
    "### - OLAP vs OLTP\n",
    "\n",
    "- OLAP -> Online Analytical Processing\n",
    "\n",
    "- OLTP -> Online Transactional Processing\n",
    "\n",
    "|       | OLTP | OLAP |\n",
    "| ----------- | ----------- |----------- |\n",
    "| Purpose | Control and run essential business operations in real life | Plan, solve problems, support decisions and discover hidden insights |\n",
    "| Data update | Shirt, fast updates initiated by users | Data periodically refreshed with scheduled, long running batch job |\n",
    "| Database design | Normalized databases for effeciency | Denormalized databases for analysis |\n",
    "| Space requirements | Generally small if historical data is archived | Generally large due to aggregating large dataset |\n",
    "| Backup and recovery | Regular backups required to ensure business continuity and meet legal and governence requirements | Lost data can be reloaded from OLTP database as needed in lieu of reguler backups |\n",
    "| Productivity | Increase productivity of end users | Increase productivity of business managers, data analysts and executives |\n",
    "| Data view | Lists day-to-day business transactions | Multi dimensional view of enterprise data |\n",
    "| User examples | Customer-facing personel, clerks, online shoppers | Knowledge workers, data analysts, business analyst and executives |\n",
    "\n",
    "\n",
    "### - Data Warehouse\n",
    "\n",
    "- OLAP solution\n",
    "\n",
    "- Used for reporting and data analysis\n",
    "\n",
    "![Alt text](images/Data%20warehouse.png)\n",
    "\n",
    "### - BigQuery\n",
    "\n",
    "- Serverless data warehouse\n",
    "- Software as well as infrastructure including scalability and high availability\n",
    "- Built-in features\n",
    "  - Machine learning\n",
    "  - Geospatial analysis\n",
    "  - Bussiness intelligence\n",
    "- BigQuery maximizes flexibility by separating the compute engine that analyze data from storage\n",
    "\n",
    "### - BigQuery Cost\n",
    "\n",
    "- On demand pricing\n",
    "  - 1 TB of data processed = $5\n",
    "- Flat rate pricing\n",
    "  - Based on number of pre requested slots\n",
    "  - 100 slots -> $2000/month = 400 TB data processed on demand pricing\n",
    "\n",
    "\n",
    "\n",
    "\n",
    "\n"
   ]
  },
  {
   "attachments": {},
   "cell_type": "markdown",
   "metadata": {},
   "source": []
  },
  {
   "cell_type": "markdown",
   "metadata": {},
   "source": []
  },
  {
   "cell_type": "markdown",
   "metadata": {},
   "source": []
  },
  {
   "cell_type": "markdown",
   "metadata": {},
   "source": []
  },
  {
   "cell_type": "markdown",
   "metadata": {},
   "source": []
  },
  {
   "cell_type": "markdown",
   "metadata": {},
   "source": []
  },
  {
   "cell_type": "markdown",
   "metadata": {},
   "source": []
  },
  {
   "cell_type": "markdown",
   "metadata": {},
   "source": []
  },
  {
   "cell_type": "markdown",
   "metadata": {},
   "source": []
  }
 ],
 "metadata": {
  "language_info": {
   "name": "python"
  },
  "orig_nbformat": 4
 },
 "nbformat": 4,
 "nbformat_minor": 2
}
