{
 "cells": [
  {
   "attachments": {},
   "cell_type": "markdown",
   "metadata": {},
   "source": [
    "# Command Line for Beginner"
   ]
  },
  {
   "attachments": {},
   "cell_type": "markdown",
   "metadata": {},
   "source": [
    "## Most Common and Useful commands to use in Command Line (Bash)\n",
    "\n"
   ]
  },
  {
   "attachments": {},
   "cell_type": "markdown",
   "metadata": {},
   "source": [
    "| Commands      | Description | Extras |\n",
    "| ----------- | ----------- |-----------|\n",
    "|` echo  `    | Prints in the terminal whatever parameter we pass it | |\n",
    "| `pwd`      | Prints the \"place\" or directory we are currently at in the computer       | |\n",
    "| `ls`      | Presents the contents of the directory you are currently in | pass `-a` will show hidden files|\n",
    "| `cd`    | Takes you from your current directory to another       | `cd ..` if you want to go up one directory |\n",
    "| `mkdir`    | Creates a new directory       | to add new directory **test** -> `mkdir test` |\n",
    "| `rmdir`    | Removes directory       | to remove directory **test** -> `rmdir test` |\n",
    "| `touch`    | Creats an empty file in your current directory       | pass the file name and format, e.g. `touch test.txt` |\n",
    "| `rm`    | Deletes files       | `rm test.txt` but also directory `rm -r test` |\n",
    "| `cp`    | Allows you to copy files or directories       | takes 2 parameter, the first one is the file/directory, the second one is the destination |\n",
    "| `mv`    | Moves a file or directory from one place to another       | |\n",
    "| `head`    | Allows you to view the beginning of a file or piped data directly       | |\n",
    "| `tail`    | Allows you to view the end of a file or piped data directly       | |\n",
    "| `--help`    | returns info on how to use that given command       | |\n",
    "| `code`    | Opens your default code editor       | can open the file too `code test.txt` or open a new file file by passing the new file name `code newtest.ipynb`|\n",
    "| `edit`    | Opens text files on your default command line text editor      | to exit vim: press `esc` -> `SHIFT Z Z` to save and exit or `SHIFT Z Q` to exit without saving |\n",
    "|`wget`| downloads files from the web||\n",
    "| `ctrl+c`    | Copies text from the terminal       | |\n",
    "| `ctrl+v`    | Pastes the copying text from terminal       | |\n",
    "| `clear`    | Clears your terminal from all previous content       | |\n",
    "| `exit`    | Closes your terminal       | |\n",
    "| `ctrl+alt+t`    | Opens a new terminal       | |\n",
    "| `ctrl+c`    | test       | |\n",
    "| `ctrl+c`    | test       | |"
   ]
  },
  {
   "attachments": {},
   "cell_type": "markdown",
   "metadata": {},
   "source": [
    "## Git Commands\n",
    "\n",
    "Besides working around the file system and installing/uninstalling things, interacting with Git and online repos is probably the most common things you are going to use the terminal for."
   ]
  },
  {
   "attachments": {},
   "cell_type": "markdown",
   "metadata": {},
   "source": [
    "| Commands      | Description | Extras |\n",
    "| ----------- | ----------- |-----------|\n",
    "|`git init`    | Creates a new local repository | |\n",
    "|`git add`    | adds one or more files to staging | add all changed files: `git add .` |\n",
    "|`git commit`    | commits your changes to the repository | must be accompanied by `-m` as comment |\n",
    "|`git status`    | Tells you what branch are you currently on and whether you have changes to commit or not | |\n",
    "|`git clone`    | Clones (copy) a repository into a directory you are currently in | |\n",
    "|`git remote add origin`    | Details teh IRL of the remote repository you are going to use for your project | it can be change also with: `git remote set-url origin` |\n",
    "|`git remote -v`    | lists the current remote repository you are using | |\n",
    "|`git push`    | Uploads the commited changes to the remote repo | |\n",
    "|`git branch`    | Lists akk tge available branches on your repo and tells you what branch you are currently on | |\n",
    "|`git checkout`    | Moves you from one branch to another| |\n",
    "|`git pull`    | Pulls (download) the code from your remote repository and combines it with your local repo | |\n",
    "|`git diff`    | Allows you to view the differences between the branch you are currenly in and another | for conveniece purposes, usually when comparing differences between branches, visual tools like **meld** are used |\n",
    "|`git merge`    | Merges (combines) the branch you are currently in with another | changes will be incorporated only to the branch you are currently in |\n",
    "|`git log`    | Lists all previous commits you've done in the repository | |\n",
    "|`--help`    | Shows yhr information about given command | |\n"
   ]
  },
  {
   "cell_type": "code",
   "execution_count": null,
   "metadata": {},
   "outputs": [],
   "source": []
  }
 ],
 "metadata": {
  "kernelspec": {
   "display_name": "base",
   "language": "python",
   "name": "python3"
  },
  "language_info": {
   "codemirror_mode": {
    "name": "ipython",
    "version": 3
   },
   "file_extension": ".py",
   "mimetype": "text/x-python",
   "name": "python",
   "nbconvert_exporter": "python",
   "pygments_lexer": "ipython3",
   "version": "3.9.13"
  },
  "orig_nbformat": 4,
  "vscode": {
   "interpreter": {
    "hash": "4b0244321b8b291f3bb07e7507a95a7730d2be85f6b31b4946decf2c728b9394"
   }
  }
 },
 "nbformat": 4,
 "nbformat_minor": 2
}
