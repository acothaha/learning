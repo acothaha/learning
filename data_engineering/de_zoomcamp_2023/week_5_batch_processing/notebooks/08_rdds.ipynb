{
 "cells": [
  {
   "cell_type": "code",
   "execution_count": 1,
   "id": "c89d6f5a",
   "metadata": {},
   "outputs": [],
   "source": [
    "import pyspark\n",
    "import pandas as pd\n",
    "from pyspark.sql import SparkSession, types\n",
    "from pyspark.sql import functions as F\n",
    "from datetime import datetime\n",
    "from collections import namedtuple\n",
    "import time"
   ]
  },
  {
   "cell_type": "code",
   "execution_count": 2,
   "id": "937218b4",
   "metadata": {},
   "outputs": [
    {
     "name": "stderr",
     "output_type": "stream",
     "text": [
      "Setting default log level to \"WARN\".\n",
      "To adjust logging level use sc.setLogLevel(newLevel). For SparkR, use setLogLevel(newLevel).\n"
     ]
    },
    {
     "name": "stdout",
     "output_type": "stream",
     "text": [
      "23/03/23 17:05:39 WARN NativeCodeLoader: Unable to load native-hadoop library for your platform... using builtin-java classes where applicable\n"
     ]
    }
   ],
   "source": [
    "spark = SparkSession.builder \\\n",
    "    .master(\"local[*]\") \\\n",
    "    .appName('test') \\\n",
    "    .getOrCreate()"
   ]
  },
  {
   "cell_type": "code",
   "execution_count": 3,
   "id": "aa640dcc",
   "metadata": {},
   "outputs": [
    {
     "name": "stderr",
     "output_type": "stream",
     "text": [
      "\r",
      "[Stage 0:>                                                          (0 + 1) / 1]\r",
      "\r",
      "                                                                                \r"
     ]
    }
   ],
   "source": [
    "df_green = spark.read.parquet('../code/data/pq/green/*/*')"
   ]
  },
  {
   "cell_type": "code",
   "execution_count": 4,
   "id": "10ea66f8",
   "metadata": {},
   "outputs": [
    {
     "data": {
      "text/plain": [
       "\"\\nSELECT \\n    date_trunc('hour', lpep_pickup_datetime) AS hour, \\n    PULocationID AS zone,\\n    SUM(total_amount) AS amount,\\n    COUNT(1) AS number_records\\n\\nFROM\\n    green_data\\nWHERE\\n    lpep_pickup_datetime >= '2020-01-01 00:00:00'\\nGROUP BY\\n    1, 2\\n\""
      ]
     },
     "execution_count": 4,
     "metadata": {},
     "output_type": "execute_result"
    }
   ],
   "source": [
    "'''\n",
    "SELECT \n",
    "    date_trunc('hour', lpep_pickup_datetime) AS hour, \n",
    "    PULocationID AS zone,\n",
    "    SUM(total_amount) AS amount,\n",
    "    COUNT(1) AS number_records\n",
    "\n",
    "FROM\n",
    "    green_data\n",
    "WHERE\n",
    "    lpep_pickup_datetime >= '2020-01-01 00:00:00'\n",
    "GROUP BY\n",
    "    1, 2\n",
    "'''"
   ]
  },
  {
   "cell_type": "code",
   "execution_count": 5,
   "id": "63229f8c",
   "metadata": {},
   "outputs": [
    {
     "name": "stderr",
     "output_type": "stream",
     "text": [
      "                                                                                \r"
     ]
    },
    {
     "data": {
      "text/plain": [
       "[Row(VendorID=1, lpep_pickup_datetime=datetime.datetime(2020, 1, 3, 19, 0, 1), lpep_dropoff_datetime=datetime.datetime(2020, 1, 3, 19, 5, 48), store_and_fwd_flag='N', RatecodeID=1, PULocationID=244, DOLocationID=116, passenger_count=1, trip_distance=1.0, fare_amount=6.0, extra=1.0, mta_tax=0.5, tip_amount=1.0, tolls_amount=0.0, ehail_fee=None, improvement_surcharge=0.3, total_amount=8.8, payment_type=1, trip_type=1, congestion_surcharge=0.0),\n",
       " Row(VendorID=2, lpep_pickup_datetime=datetime.datetime(2020, 1, 29, 19, 55, 1), lpep_dropoff_datetime=datetime.datetime(2020, 1, 29, 19, 59, 12), store_and_fwd_flag='N', RatecodeID=1, PULocationID=166, DOLocationID=24, passenger_count=1, trip_distance=0.82, fare_amount=5.0, extra=1.0, mta_tax=0.5, tip_amount=1.36, tolls_amount=0.0, ehail_fee=None, improvement_surcharge=0.3, total_amount=8.16, payment_type=1, trip_type=1, congestion_surcharge=0.0),\n",
       " Row(VendorID=1, lpep_pickup_datetime=datetime.datetime(2020, 1, 2, 10, 20, 42), lpep_dropoff_datetime=datetime.datetime(2020, 1, 2, 10, 21, 7), store_and_fwd_flag='N', RatecodeID=1, PULocationID=145, DOLocationID=145, passenger_count=1, trip_distance=0.0, fare_amount=2.5, extra=0.0, mta_tax=0.5, tip_amount=0.0, tolls_amount=0.0, ehail_fee=None, improvement_surcharge=0.3, total_amount=3.3, payment_type=2, trip_type=1, congestion_surcharge=0.0),\n",
       " Row(VendorID=None, lpep_pickup_datetime=datetime.datetime(2020, 1, 23, 10, 24), lpep_dropoff_datetime=datetime.datetime(2020, 1, 23, 10, 33), store_and_fwd_flag=None, RatecodeID=None, PULocationID=101, DOLocationID=203, passenger_count=None, trip_distance=4.88, fare_amount=28.74, extra=2.75, mta_tax=0.0, tip_amount=0.0, tolls_amount=0.0, ehail_fee=None, improvement_surcharge=0.3, total_amount=31.79, payment_type=None, trip_type=None, congestion_surcharge=None),\n",
       " Row(VendorID=2, lpep_pickup_datetime=datetime.datetime(2020, 1, 12, 17, 30, 50), lpep_dropoff_datetime=datetime.datetime(2020, 1, 12, 17, 34, 31), store_and_fwd_flag='N', RatecodeID=1, PULocationID=74, DOLocationID=74, passenger_count=1, trip_distance=0.34, fare_amount=4.5, extra=0.0, mta_tax=0.5, tip_amount=0.0, tolls_amount=0.0, ehail_fee=None, improvement_surcharge=0.3, total_amount=5.3, payment_type=2, trip_type=1, congestion_surcharge=0.0)]"
      ]
     },
     "execution_count": 5,
     "metadata": {},
     "output_type": "execute_result"
    }
   ],
   "source": [
    "df_green.rdd.take(5)"
   ]
  },
  {
   "cell_type": "code",
   "execution_count": 6,
   "id": "19be5abb",
   "metadata": {},
   "outputs": [
    {
     "data": {
      "text/plain": [
       "[Row(VendorID=1, lpep_pickup_datetime=datetime.datetime(2020, 1, 3, 19, 0, 1), lpep_dropoff_datetime=datetime.datetime(2020, 1, 3, 19, 5, 48), store_and_fwd_flag='N', RatecodeID=1, PULocationID=244, DOLocationID=116, passenger_count=1, trip_distance=1.0, fare_amount=6.0, extra=1.0, mta_tax=0.5, tip_amount=1.0, tolls_amount=0.0, ehail_fee=None, improvement_surcharge=0.3, total_amount=8.8, payment_type=1, trip_type=1, congestion_surcharge=0.0),\n",
       " Row(VendorID=2, lpep_pickup_datetime=datetime.datetime(2020, 1, 29, 19, 55, 1), lpep_dropoff_datetime=datetime.datetime(2020, 1, 29, 19, 59, 12), store_and_fwd_flag='N', RatecodeID=1, PULocationID=166, DOLocationID=24, passenger_count=1, trip_distance=0.82, fare_amount=5.0, extra=1.0, mta_tax=0.5, tip_amount=1.36, tolls_amount=0.0, ehail_fee=None, improvement_surcharge=0.3, total_amount=8.16, payment_type=1, trip_type=1, congestion_surcharge=0.0),\n",
       " Row(VendorID=1, lpep_pickup_datetime=datetime.datetime(2020, 1, 2, 10, 20, 42), lpep_dropoff_datetime=datetime.datetime(2020, 1, 2, 10, 21, 7), store_and_fwd_flag='N', RatecodeID=1, PULocationID=145, DOLocationID=145, passenger_count=1, trip_distance=0.0, fare_amount=2.5, extra=0.0, mta_tax=0.5, tip_amount=0.0, tolls_amount=0.0, ehail_fee=None, improvement_surcharge=0.3, total_amount=3.3, payment_type=2, trip_type=1, congestion_surcharge=0.0),\n",
       " Row(VendorID=None, lpep_pickup_datetime=datetime.datetime(2020, 1, 23, 10, 24), lpep_dropoff_datetime=datetime.datetime(2020, 1, 23, 10, 33), store_and_fwd_flag=None, RatecodeID=None, PULocationID=101, DOLocationID=203, passenger_count=None, trip_distance=4.88, fare_amount=28.74, extra=2.75, mta_tax=0.0, tip_amount=0.0, tolls_amount=0.0, ehail_fee=None, improvement_surcharge=0.3, total_amount=31.79, payment_type=None, trip_type=None, congestion_surcharge=None),\n",
       " Row(VendorID=2, lpep_pickup_datetime=datetime.datetime(2020, 1, 12, 17, 30, 50), lpep_dropoff_datetime=datetime.datetime(2020, 1, 12, 17, 34, 31), store_and_fwd_flag='N', RatecodeID=1, PULocationID=74, DOLocationID=74, passenger_count=1, trip_distance=0.34, fare_amount=4.5, extra=0.0, mta_tax=0.5, tip_amount=0.0, tolls_amount=0.0, ehail_fee=None, improvement_surcharge=0.3, total_amount=5.3, payment_type=2, trip_type=1, congestion_surcharge=0.0)]"
      ]
     },
     "execution_count": 6,
     "metadata": {},
     "output_type": "execute_result"
    }
   ],
   "source": [
    "df_green.take(5)"
   ]
  },
  {
   "cell_type": "markdown",
   "id": "4483431a",
   "metadata": {},
   "source": [
    "## WHERE vs filter() "
   ]
  },
  {
   "cell_type": "code",
   "execution_count": 7,
   "id": "31e0dd4e",
   "metadata": {},
   "outputs": [],
   "source": [
    "rdd = df_green \\\n",
    "    .select('lpep_pickup_datetime', 'PULocationID', 'total_amount') \\\n",
    "    .rdd"
   ]
  },
  {
   "cell_type": "code",
   "execution_count": 8,
   "id": "e7a3e7e3",
   "metadata": {},
   "outputs": [
    {
     "data": {
      "text/plain": [
       "[Row(lpep_pickup_datetime=datetime.datetime(2020, 1, 3, 19, 0, 1), PULocationID=244, total_amount=8.8)]"
      ]
     },
     "execution_count": 8,
     "metadata": {},
     "output_type": "execute_result"
    }
   ],
   "source": [
    "rdd.filter(lambda x: True).take(1)"
   ]
  },
  {
   "cell_type": "code",
   "execution_count": 9,
   "id": "a2fe64cc",
   "metadata": {},
   "outputs": [
    {
     "name": "stderr",
     "output_type": "stream",
     "text": [
      "                                                                                \r"
     ]
    },
    {
     "data": {
      "text/plain": [
       "[]"
      ]
     },
     "execution_count": 9,
     "metadata": {},
     "output_type": "execute_result"
    }
   ],
   "source": [
    "rdd.filter(lambda x: False).take(1)"
   ]
  },
  {
   "cell_type": "code",
   "execution_count": 10,
   "id": "f6f52569",
   "metadata": {},
   "outputs": [],
   "source": [
    "start_date = datetime(year=2020, month=1, day=1)\n",
    "\n",
    "def filter_outliers(row):\n",
    "    return row['lpep_pickup_datetime'] >= start_date"
   ]
  },
  {
   "cell_type": "code",
   "execution_count": 11,
   "id": "42c26c53",
   "metadata": {},
   "outputs": [
    {
     "data": {
      "text/plain": [
       "[Row(lpep_pickup_datetime=datetime.datetime(2020, 1, 3, 19, 0, 1), PULocationID=244, total_amount=8.8),\n",
       " Row(lpep_pickup_datetime=datetime.datetime(2020, 1, 29, 19, 55, 1), PULocationID=166, total_amount=8.16)]"
      ]
     },
     "execution_count": 11,
     "metadata": {},
     "output_type": "execute_result"
    }
   ],
   "source": [
    "rdd \\\n",
    "    .filter(filter_outliers) \\\n",
    "    .take(2)"
   ]
  },
  {
   "cell_type": "markdown",
   "id": "932dae8d",
   "metadata": {},
   "source": [
    "## GROUP BY vs map() "
   ]
  },
  {
   "cell_type": "code",
   "execution_count": 12,
   "id": "ebb9c20f",
   "metadata": {},
   "outputs": [
    {
     "data": {
      "text/plain": [
       "Row(lpep_pickup_datetime=datetime.datetime(2020, 1, 3, 19, 0, 1), PULocationID=244, total_amount=8.8)"
      ]
     },
     "execution_count": 12,
     "metadata": {},
     "output_type": "execute_result"
    }
   ],
   "source": [
    "row = rdd.take(1)[0]\n",
    "row"
   ]
  },
  {
   "cell_type": "code",
   "execution_count": 13,
   "id": "290fa435",
   "metadata": {},
   "outputs": [
    {
     "data": {
      "text/plain": [
       "datetime.datetime(2020, 1, 3, 19, 0)"
      ]
     },
     "execution_count": 13,
     "metadata": {},
     "output_type": "execute_result"
    }
   ],
   "source": [
    "row['lpep_pickup_datetime'].replace(minute=0, second=0, microsecond=0)"
   ]
  },
  {
   "cell_type": "code",
   "execution_count": 14,
   "id": "fe348917",
   "metadata": {},
   "outputs": [],
   "source": [
    "def prepare_for_grouping(row):\n",
    "    hour = row['lpep_pickup_datetime'].replace(minute=0, second=0, microsecond=0)\n",
    "    zone = row['PULocationID']\n",
    "    key = (hour, zone)\n",
    "    \n",
    "    amount = row['total_amount']\n",
    "    count = 1\n",
    "    value = (amount, count)\n",
    "    \n",
    "    return (key, value)"
   ]
  },
  {
   "cell_type": "code",
   "execution_count": 17,
   "id": "64c2d3d4",
   "metadata": {},
   "outputs": [
    {
     "data": {
      "text/plain": [
       "[((datetime.datetime(2020, 1, 3, 19, 0), 244), (8.8, 1)),\n",
       " ((datetime.datetime(2020, 1, 29, 19, 0), 166), (8.16, 1)),\n",
       " ((datetime.datetime(2020, 1, 2, 10, 0), 145), (3.3, 1)),\n",
       " ((datetime.datetime(2020, 1, 23, 10, 0), 101), (31.79, 1)),\n",
       " ((datetime.datetime(2020, 1, 12, 17, 0), 74), (5.3, 1)),\n",
       " ((datetime.datetime(2020, 1, 27, 19, 0), 134), (12.09, 1)),\n",
       " ((datetime.datetime(2020, 1, 24, 21, 0), 42), (7.25, 1)),\n",
       " ((datetime.datetime(2020, 1, 4, 17, 0), 82), (19.56, 1)),\n",
       " ((datetime.datetime(2020, 1, 7, 5, 0), 222), (29.88, 1)),\n",
       " ((datetime.datetime(2020, 1, 8, 17, 0), 226), (27.92, 1))]"
      ]
     },
     "execution_count": 17,
     "metadata": {},
     "output_type": "execute_result"
    }
   ],
   "source": [
    "rdd \\\n",
    "    .filter(filter_outliers) \\\n",
    "    .map(prepare_for_grouping) \\\n",
    "    .take(10)"
   ]
  },
  {
   "cell_type": "markdown",
   "id": "dca74615",
   "metadata": {},
   "source": [
    "## Reduce by key"
   ]
  },
  {
   "cell_type": "code",
   "execution_count": 18,
   "id": "20a87cea",
   "metadata": {},
   "outputs": [],
   "source": [
    "def calculate_revenue(left_value, right_value):\n",
    "    left_amount, left_count = left_value\n",
    "    right_amount, right_count = right_value\n",
    "    \n",
    "    output_amount = left_amount + right_amount\n",
    "    output_count = left_count + right_count\n",
    "    \n",
    "    return (output_amount, output_count)"
   ]
  },
  {
   "cell_type": "code",
   "execution_count": 19,
   "id": "3fff29aa",
   "metadata": {},
   "outputs": [
    {
     "name": "stderr",
     "output_type": "stream",
     "text": [
      "                                                                                \r"
     ]
    },
    {
     "data": {
      "text/plain": [
       "[((datetime.datetime(2020, 1, 2, 10, 0), 145), (119.76, 17)),\n",
       " ((datetime.datetime(2020, 1, 12, 17, 0), 74), (1115.0299999999995, 83)),\n",
       " ((datetime.datetime(2020, 1, 14, 14, 0), 181), (332.53000000000003, 17)),\n",
       " ((datetime.datetime(2020, 1, 3, 9, 0), 177), (45.989999999999995, 2)),\n",
       " ((datetime.datetime(2020, 1, 8, 10, 0), 95), (556.0999999999999, 28)),\n",
       " ((datetime.datetime(2020, 1, 29, 20, 0), 65), (380.83000000000015, 27)),\n",
       " ((datetime.datetime(2020, 1, 24, 16, 0), 223), (334.2800000000001, 27)),\n",
       " ((datetime.datetime(2020, 1, 19, 10, 0), 166), (969.2699999999991, 55)),\n",
       " ((datetime.datetime(2020, 1, 23, 19, 0), 116), (78.69999999999999, 5)),\n",
       " ((datetime.datetime(2020, 1, 24, 11, 0), 82), (277.7800000000001, 18))]"
      ]
     },
     "execution_count": 19,
     "metadata": {},
     "output_type": "execute_result"
    }
   ],
   "source": [
    "rdd \\\n",
    "    .filter(filter_outliers) \\\n",
    "    .map(prepare_for_grouping) \\\n",
    "    .reduceByKey(calculate_revenue) \\\n",
    "    .take(10)"
   ]
  },
  {
   "cell_type": "markdown",
   "id": "ac9b25da",
   "metadata": {},
   "source": [
    "## Unwrap the row "
   ]
  },
  {
   "cell_type": "code",
   "execution_count": 20,
   "id": "873c6992",
   "metadata": {},
   "outputs": [],
   "source": [
    "def unwarp(row):\n",
    "    return (row[0][0], row[0][1], row[1][0], row[1][1])"
   ]
  },
  {
   "cell_type": "code",
   "execution_count": 21,
   "id": "0ba144aa",
   "metadata": {},
   "outputs": [
    {
     "name": "stderr",
     "output_type": "stream",
     "text": [
      "                                                                                \r"
     ]
    },
    {
     "data": {
      "text/plain": [
       "[(datetime.datetime(2020, 1, 2, 10, 0), 145, 119.76, 17),\n",
       " (datetime.datetime(2020, 1, 12, 17, 0), 74, 1115.0299999999995, 83),\n",
       " (datetime.datetime(2020, 1, 14, 14, 0), 181, 332.53000000000003, 17),\n",
       " (datetime.datetime(2020, 1, 3, 9, 0), 177, 45.989999999999995, 2),\n",
       " (datetime.datetime(2020, 1, 8, 10, 0), 95, 556.0999999999999, 28),\n",
       " (datetime.datetime(2020, 1, 29, 20, 0), 65, 380.83000000000015, 27),\n",
       " (datetime.datetime(2020, 1, 24, 16, 0), 223, 334.2800000000001, 27),\n",
       " (datetime.datetime(2020, 1, 19, 10, 0), 166, 969.2699999999991, 55),\n",
       " (datetime.datetime(2020, 1, 23, 19, 0), 116, 78.69999999999999, 5),\n",
       " (datetime.datetime(2020, 1, 24, 11, 0), 82, 277.7800000000001, 18)]"
      ]
     },
     "execution_count": 21,
     "metadata": {},
     "output_type": "execute_result"
    }
   ],
   "source": [
    "rdd \\\n",
    "    .filter(filter_outliers) \\\n",
    "    .map(prepare_for_grouping) \\\n",
    "    .reduceByKey(calculate_revenue) \\\n",
    "    .map(unwarp) \\\n",
    "    .take(10)"
   ]
  },
  {
   "cell_type": "code",
   "execution_count": 22,
   "id": "847e07be",
   "metadata": {},
   "outputs": [
    {
     "name": "stderr",
     "output_type": "stream",
     "text": [
      "                                                                                \r"
     ]
    },
    {
     "name": "stdout",
     "output_type": "stream",
     "text": [
      "+-------------------+---+------------------+---+\n",
      "|                 _1| _2|                _3| _4|\n",
      "+-------------------+---+------------------+---+\n",
      "|2020-01-02 10:00:00|145|            119.76| 17|\n",
      "|2020-01-12 17:00:00| 74|1115.0299999999995| 83|\n",
      "|2020-01-14 14:00:00|181|332.53000000000003| 17|\n",
      "|2020-01-03 09:00:00|177|45.989999999999995|  2|\n",
      "|2020-01-08 10:00:00| 95| 556.0999999999999| 28|\n",
      "+-------------------+---+------------------+---+\n",
      "only showing top 5 rows\n",
      "\n"
     ]
    }
   ],
   "source": [
    "rdd \\\n",
    "    .filter(filter_outliers) \\\n",
    "    .map(prepare_for_grouping) \\\n",
    "    .reduceByKey(calculate_revenue) \\\n",
    "    .map(unwarp) \\\n",
    "    .toDF() \\\n",
    "    .show(5)"
   ]
  },
  {
   "cell_type": "markdown",
   "id": "fa72831a",
   "metadata": {},
   "source": [
    "#### Saving the name of the row "
   ]
  },
  {
   "cell_type": "code",
   "execution_count": 23,
   "id": "6e8a0d69",
   "metadata": {},
   "outputs": [],
   "source": [
    "RevenueRow = namedtuple('revenuerow', ['hour', 'zone', 'revenue', 'count'])"
   ]
  },
  {
   "cell_type": "code",
   "execution_count": 24,
   "id": "51a1e036",
   "metadata": {},
   "outputs": [],
   "source": [
    "def unwarp_with_name(row):\n",
    "    return RevenueRow(\n",
    "        hour=row[0][0], \n",
    "        zone=row[0][1], \n",
    "        revenue=row[1][0], \n",
    "        count=row[1][1])"
   ]
  },
  {
   "cell_type": "code",
   "execution_count": 25,
   "id": "23d5de5b",
   "metadata": {},
   "outputs": [
    {
     "name": "stderr",
     "output_type": "stream",
     "text": [
      "[Stage 18:===========================================>              (3 + 1) / 4]\r"
     ]
    },
    {
     "name": "stdout",
     "output_type": "stream",
     "text": [
      "16.422429 s\n"
     ]
    },
    {
     "name": "stderr",
     "output_type": "stream",
     "text": [
      "\r",
      "                                                                                \r"
     ]
    }
   ],
   "source": [
    "# without predefined schema\n",
    "\n",
    "start = time.time()\n",
    "\n",
    "df_result = rdd \\\n",
    "    .filter(filter_outliers) \\\n",
    "    .map(prepare_for_grouping) \\\n",
    "    .reduceByKey(calculate_revenue) \\\n",
    "    .map(unwarp_with_name) \\\n",
    "    .toDF()\n",
    "\n",
    "end = time.time()\n",
    "\n",
    "print(f'{end-start:02f} s')\n"
   ]
  },
  {
   "cell_type": "code",
   "execution_count": 26,
   "id": "178b9d31",
   "metadata": {},
   "outputs": [
    {
     "name": "stdout",
     "output_type": "stream",
     "text": [
      "+-------------------+----+------------------+-----+\n",
      "|               hour|zone|           revenue|count|\n",
      "+-------------------+----+------------------+-----+\n",
      "|2020-01-02 10:00:00| 145|            119.76|   17|\n",
      "|2020-01-12 17:00:00|  74|1115.0299999999995|   83|\n",
      "|2020-01-14 14:00:00| 181|332.53000000000003|   17|\n",
      "|2020-01-03 09:00:00| 177|45.989999999999995|    2|\n",
      "|2020-01-08 10:00:00|  95| 556.0999999999999|   28|\n",
      "+-------------------+----+------------------+-----+\n",
      "only showing top 5 rows\n",
      "\n"
     ]
    }
   ],
   "source": [
    "df_result.show(5)"
   ]
  },
  {
   "cell_type": "code",
   "execution_count": 27,
   "id": "0ce3640b",
   "metadata": {},
   "outputs": [
    {
     "data": {
      "text/plain": [
       "StructType([StructField('hour', TimestampType(), True), StructField('zone', LongType(), True), StructField('revenue', DoubleType(), True), StructField('count', LongType(), True)])"
      ]
     },
     "execution_count": 27,
     "metadata": {},
     "output_type": "execute_result"
    }
   ],
   "source": [
    "df_result.schema"
   ]
  },
  {
   "cell_type": "code",
   "execution_count": 28,
   "id": "f71b5b68",
   "metadata": {},
   "outputs": [],
   "source": [
    "result_schema = types.StructType([\n",
    "            types.StructField('hour', types.TimestampType(), True), \n",
    "            types.StructField('zone', types.IntegerType(), True), \n",
    "            types.StructField('revenue', types.DoubleType(), True), \n",
    "            types.StructField('count', types.IntegerType(), True)])"
   ]
  },
  {
   "cell_type": "code",
   "execution_count": 29,
   "id": "d0f845e5",
   "metadata": {},
   "outputs": [
    {
     "name": "stdout",
     "output_type": "stream",
     "text": [
      "0.031581878662109375 s\n"
     ]
    }
   ],
   "source": [
    "# with predefined schema\n",
    "\n",
    "start = time.time()\n",
    "\n",
    "df_result = rdd \\\n",
    "    .filter(filter_outliers) \\\n",
    "    .map(prepare_for_grouping) \\\n",
    "    .reduceByKey(calculate_revenue) \\\n",
    "    .map(unwarp_with_name) \\\n",
    "    .toDF(result_schema)\n",
    "\n",
    "end = time.time()\n",
    "\n",
    "print(f'{end-start} s')\n"
   ]
  },
  {
   "cell_type": "code",
   "execution_count": 30,
   "id": "896cce1f",
   "metadata": {},
   "outputs": [
    {
     "name": "stderr",
     "output_type": "stream",
     "text": [
      "[Stage 22:===========================================>              (3 + 1) / 4]\r"
     ]
    },
    {
     "name": "stdout",
     "output_type": "stream",
     "text": [
      "+-------------------+----+------------------+-----+\n",
      "|               hour|zone|           revenue|count|\n",
      "+-------------------+----+------------------+-----+\n",
      "|2020-01-02 10:00:00| 145|            119.76|   17|\n",
      "|2020-01-12 17:00:00|  74|1115.0299999999995|   83|\n",
      "|2020-01-14 14:00:00| 181|332.53000000000003|   17|\n",
      "|2020-01-03 09:00:00| 177|45.989999999999995|    2|\n",
      "|2020-01-08 10:00:00|  95| 556.0999999999999|   28|\n",
      "+-------------------+----+------------------+-----+\n",
      "only showing top 5 rows\n",
      "\n"
     ]
    },
    {
     "name": "stderr",
     "output_type": "stream",
     "text": [
      "\r",
      "                                                                                \r"
     ]
    }
   ],
   "source": [
    "df_result.show(5)"
   ]
  },
  {
   "cell_type": "markdown",
   "id": "e55a0075",
   "metadata": {},
   "source": [
    "#### Save to parquet "
   ]
  },
  {
   "cell_type": "code",
   "execution_count": 32,
   "id": "3f3f25dd",
   "metadata": {},
   "outputs": [],
   "source": [
    "df_result.write.parquet?"
   ]
  },
  {
   "cell_type": "code",
   "execution_count": 33,
   "id": "10455115",
   "metadata": {},
   "outputs": [
    {
     "name": "stderr",
     "output_type": "stream",
     "text": [
      "                                                                                \r"
     ]
    }
   ],
   "source": [
    "df_result.write.parquet('tmp/green-revenue', mode='overwrite')"
   ]
  },
  {
   "cell_type": "markdown",
   "id": "abb99c1e",
   "metadata": {},
   "source": [
    "## Map Partition "
   ]
  },
  {
   "cell_type": "code",
   "execution_count": 35,
   "id": "b1c6a07c",
   "metadata": {},
   "outputs": [],
   "source": [
    "columns = ['VendorID', 'lpep_pickup_datetime', 'PULocationID', 'DOLocationID']\n",
    "\n",
    "duration_rdd = df_green \\\n",
    "    .select(columns) \\\n",
    "    .rdd"
   ]
  },
  {
   "cell_type": "markdown",
   "id": "50e0bb0b",
   "metadata": {},
   "source": [
    "## Using MapPartition "
   ]
  },
  {
   "cell_type": "code",
   "execution_count": 36,
   "id": "79777c6c",
   "metadata": {},
   "outputs": [],
   "source": [
    "def apply_model_in_batch(partition):\n",
    "    cnt = 0\n",
    "    \n",
    "    for row in partition:\n",
    "        cnt += 1\n",
    "        \n",
    "    return [cnt]"
   ]
  },
  {
   "cell_type": "code",
   "execution_count": 37,
   "id": "ddada024",
   "metadata": {},
   "outputs": [
    {
     "name": "stderr",
     "output_type": "stream",
     "text": [
      "                                                                                \r"
     ]
    },
    {
     "data": {
      "text/plain": [
       "[1141148, 438057, 432402, 292910]"
      ]
     },
     "execution_count": 37,
     "metadata": {},
     "output_type": "execute_result"
    }
   ],
   "source": [
    "rdd.mapPartitions(apply_model_in_batch).collect()"
   ]
  },
  {
   "cell_type": "markdown",
   "id": "55b675c5",
   "metadata": {},
   "source": [
    "## Turn partition into pandas DF "
   ]
  },
  {
   "cell_type": "code",
   "execution_count": 38,
   "id": "b65bd682",
   "metadata": {},
   "outputs": [
    {
     "data": {
      "text/plain": [
       "[Row(VendorID=1, lpep_pickup_datetime=datetime.datetime(2020, 1, 3, 19, 0, 1), PULocationID=244, DOLocationID=116),\n",
       " Row(VendorID=2, lpep_pickup_datetime=datetime.datetime(2020, 1, 29, 19, 55, 1), PULocationID=166, DOLocationID=24),\n",
       " Row(VendorID=1, lpep_pickup_datetime=datetime.datetime(2020, 1, 2, 10, 20, 42), PULocationID=145, DOLocationID=145),\n",
       " Row(VendorID=None, lpep_pickup_datetime=datetime.datetime(2020, 1, 23, 10, 24), PULocationID=101, DOLocationID=203),\n",
       " Row(VendorID=2, lpep_pickup_datetime=datetime.datetime(2020, 1, 12, 17, 30, 50), PULocationID=74, DOLocationID=74),\n",
       " Row(VendorID=2, lpep_pickup_datetime=datetime.datetime(2020, 1, 27, 19, 33, 9), PULocationID=134, DOLocationID=135),\n",
       " Row(VendorID=2, lpep_pickup_datetime=datetime.datetime(2020, 1, 24, 21, 25, 12), PULocationID=42, DOLocationID=42),\n",
       " Row(VendorID=2, lpep_pickup_datetime=datetime.datetime(2020, 1, 4, 17, 6, 40), PULocationID=82, DOLocationID=223),\n",
       " Row(VendorID=None, lpep_pickup_datetime=datetime.datetime(2020, 1, 7, 5, 46), PULocationID=222, DOLocationID=80),\n",
       " Row(VendorID=None, lpep_pickup_datetime=datetime.datetime(2020, 1, 8, 17, 18), PULocationID=226, DOLocationID=167)]"
      ]
     },
     "execution_count": 38,
     "metadata": {},
     "output_type": "execute_result"
    }
   ],
   "source": [
    "rows = duration_rdd.take(10)\n",
    "rows"
   ]
  },
  {
   "cell_type": "code",
   "execution_count": 39,
   "id": "361faf2b",
   "metadata": {},
   "outputs": [
    {
     "data": {
      "text/html": [
       "<div>\n",
       "<style scoped>\n",
       "    .dataframe tbody tr th:only-of-type {\n",
       "        vertical-align: middle;\n",
       "    }\n",
       "\n",
       "    .dataframe tbody tr th {\n",
       "        vertical-align: top;\n",
       "    }\n",
       "\n",
       "    .dataframe thead th {\n",
       "        text-align: right;\n",
       "    }\n",
       "</style>\n",
       "<table border=\"1\" class=\"dataframe\">\n",
       "  <thead>\n",
       "    <tr style=\"text-align: right;\">\n",
       "      <th></th>\n",
       "      <th>VendorID</th>\n",
       "      <th>lpep_pickup_datetime</th>\n",
       "      <th>PULocationID</th>\n",
       "      <th>DOLocationID</th>\n",
       "    </tr>\n",
       "  </thead>\n",
       "  <tbody>\n",
       "    <tr>\n",
       "      <th>0</th>\n",
       "      <td>1.0</td>\n",
       "      <td>2020-01-03 19:00:01</td>\n",
       "      <td>244</td>\n",
       "      <td>116</td>\n",
       "    </tr>\n",
       "    <tr>\n",
       "      <th>1</th>\n",
       "      <td>2.0</td>\n",
       "      <td>2020-01-29 19:55:01</td>\n",
       "      <td>166</td>\n",
       "      <td>24</td>\n",
       "    </tr>\n",
       "    <tr>\n",
       "      <th>2</th>\n",
       "      <td>1.0</td>\n",
       "      <td>2020-01-02 10:20:42</td>\n",
       "      <td>145</td>\n",
       "      <td>145</td>\n",
       "    </tr>\n",
       "    <tr>\n",
       "      <th>3</th>\n",
       "      <td>NaN</td>\n",
       "      <td>2020-01-23 10:24:00</td>\n",
       "      <td>101</td>\n",
       "      <td>203</td>\n",
       "    </tr>\n",
       "    <tr>\n",
       "      <th>4</th>\n",
       "      <td>2.0</td>\n",
       "      <td>2020-01-12 17:30:50</td>\n",
       "      <td>74</td>\n",
       "      <td>74</td>\n",
       "    </tr>\n",
       "    <tr>\n",
       "      <th>5</th>\n",
       "      <td>2.0</td>\n",
       "      <td>2020-01-27 19:33:09</td>\n",
       "      <td>134</td>\n",
       "      <td>135</td>\n",
       "    </tr>\n",
       "    <tr>\n",
       "      <th>6</th>\n",
       "      <td>2.0</td>\n",
       "      <td>2020-01-24 21:25:12</td>\n",
       "      <td>42</td>\n",
       "      <td>42</td>\n",
       "    </tr>\n",
       "    <tr>\n",
       "      <th>7</th>\n",
       "      <td>2.0</td>\n",
       "      <td>2020-01-04 17:06:40</td>\n",
       "      <td>82</td>\n",
       "      <td>223</td>\n",
       "    </tr>\n",
       "    <tr>\n",
       "      <th>8</th>\n",
       "      <td>NaN</td>\n",
       "      <td>2020-01-07 05:46:00</td>\n",
       "      <td>222</td>\n",
       "      <td>80</td>\n",
       "    </tr>\n",
       "    <tr>\n",
       "      <th>9</th>\n",
       "      <td>NaN</td>\n",
       "      <td>2020-01-08 17:18:00</td>\n",
       "      <td>226</td>\n",
       "      <td>167</td>\n",
       "    </tr>\n",
       "  </tbody>\n",
       "</table>\n",
       "</div>"
      ],
      "text/plain": [
       "   VendorID lpep_pickup_datetime  PULocationID  DOLocationID\n",
       "0       1.0  2020-01-03 19:00:01           244           116\n",
       "1       2.0  2020-01-29 19:55:01           166            24\n",
       "2       1.0  2020-01-02 10:20:42           145           145\n",
       "3       NaN  2020-01-23 10:24:00           101           203\n",
       "4       2.0  2020-01-12 17:30:50            74            74\n",
       "5       2.0  2020-01-27 19:33:09           134           135\n",
       "6       2.0  2020-01-24 21:25:12            42            42\n",
       "7       2.0  2020-01-04 17:06:40            82           223\n",
       "8       NaN  2020-01-07 05:46:00           222            80\n",
       "9       NaN  2020-01-08 17:18:00           226           167"
      ]
     },
     "execution_count": 39,
     "metadata": {},
     "output_type": "execute_result"
    }
   ],
   "source": [
    "pd.DataFrame(rows, columns=columns)"
   ]
  },
  {
   "cell_type": "code",
   "execution_count": 40,
   "id": "89dfc8ab",
   "metadata": {},
   "outputs": [],
   "source": [
    "def apply_model_in_batch_pandas(rows):\n",
    "    \n",
    "    df = pd.DataFrame(rows, columns=columns)\n",
    "    \n",
    "    cnt = len(df)\n",
    "        \n",
    "    return [cnt]"
   ]
  },
  {
   "cell_type": "code",
   "execution_count": 41,
   "id": "0b7a0833",
   "metadata": {},
   "outputs": [
    {
     "name": "stderr",
     "output_type": "stream",
     "text": [
      "                                                                                \r"
     ]
    },
    {
     "data": {
      "text/plain": [
       "[1141148, 438057, 432402, 292910]"
      ]
     },
     "execution_count": 41,
     "metadata": {},
     "output_type": "execute_result"
    }
   ],
   "source": [
    "rdd.mapPartitions(apply_model_in_batch).collect()"
   ]
  },
  {
   "cell_type": "markdown",
   "id": "c27615ee",
   "metadata": {},
   "source": [
    "## Machine learning in partition "
   ]
  },
  {
   "cell_type": "markdown",
   "id": "4ab5fcde",
   "metadata": {},
   "source": [
    "#### df.itertuples "
   ]
  },
  {
   "cell_type": "code",
   "execution_count": 42,
   "id": "f80632d8",
   "metadata": {},
   "outputs": [],
   "source": [
    "df = pd.DataFrame(rows, columns=columns)"
   ]
  },
  {
   "cell_type": "code",
   "execution_count": 43,
   "id": "8d52f534",
   "metadata": {},
   "outputs": [
    {
     "data": {
      "text/plain": [
       "[Pandas(Index=0, VendorID=1.0, lpep_pickup_datetime=Timestamp('2020-01-03 19:00:01'), PULocationID=244, DOLocationID=116),\n",
       " Pandas(Index=1, VendorID=2.0, lpep_pickup_datetime=Timestamp('2020-01-29 19:55:01'), PULocationID=166, DOLocationID=24),\n",
       " Pandas(Index=2, VendorID=1.0, lpep_pickup_datetime=Timestamp('2020-01-02 10:20:42'), PULocationID=145, DOLocationID=145),\n",
       " Pandas(Index=3, VendorID=nan, lpep_pickup_datetime=Timestamp('2020-01-23 10:24:00'), PULocationID=101, DOLocationID=203),\n",
       " Pandas(Index=4, VendorID=2.0, lpep_pickup_datetime=Timestamp('2020-01-12 17:30:50'), PULocationID=74, DOLocationID=74),\n",
       " Pandas(Index=5, VendorID=2.0, lpep_pickup_datetime=Timestamp('2020-01-27 19:33:09'), PULocationID=134, DOLocationID=135),\n",
       " Pandas(Index=6, VendorID=2.0, lpep_pickup_datetime=Timestamp('2020-01-24 21:25:12'), PULocationID=42, DOLocationID=42),\n",
       " Pandas(Index=7, VendorID=2.0, lpep_pickup_datetime=Timestamp('2020-01-04 17:06:40'), PULocationID=82, DOLocationID=223),\n",
       " Pandas(Index=8, VendorID=nan, lpep_pickup_datetime=Timestamp('2020-01-07 05:46:00'), PULocationID=222, DOLocationID=80),\n",
       " Pandas(Index=9, VendorID=nan, lpep_pickup_datetime=Timestamp('2020-01-08 17:18:00'), PULocationID=226, DOLocationID=167)]"
      ]
     },
     "execution_count": 43,
     "metadata": {},
     "output_type": "execute_result"
    }
   ],
   "source": [
    "list(df.itertuples())"
   ]
  },
  {
   "cell_type": "markdown",
   "id": "b497dfb9",
   "metadata": {},
   "source": [
    "#### yield in Python "
   ]
  },
  {
   "cell_type": "code",
   "execution_count": 44,
   "id": "d7a62950",
   "metadata": {},
   "outputs": [],
   "source": [
    "def infinite_seq():\n",
    "    i = 0\n",
    "    \n",
    "    while True:\n",
    "        yield i\n",
    "        i += 1\n",
    "        \n",
    "        if i > 15:\n",
    "            break"
   ]
  },
  {
   "cell_type": "code",
   "execution_count": 45,
   "id": "d6be43e5",
   "metadata": {},
   "outputs": [],
   "source": [
    "seq = infinite_seq()"
   ]
  },
  {
   "cell_type": "code",
   "execution_count": 46,
   "id": "583b4fed",
   "metadata": {},
   "outputs": [
    {
     "data": {
      "text/plain": [
       "[0, 1, 2, 3, 4, 5, 6, 7, 8, 9, 10, 11, 12, 13, 14, 15]"
      ]
     },
     "execution_count": 46,
     "metadata": {},
     "output_type": "execute_result"
    }
   ],
   "source": [
    "list(seq)"
   ]
  },
  {
   "cell_type": "code",
   "execution_count": 47,
   "id": "74677a73",
   "metadata": {},
   "outputs": [],
   "source": [
    "#model = ...\n",
    "\n",
    "def model_predict(df):\n",
    "#     y_pred = model.predict(df)\n",
    "    y_pred = df.trip_distance * 5.2\n",
    "    return y_pred "
   ]
  },
  {
   "cell_type": "code",
   "execution_count": 59,
   "id": "099a6e0d",
   "metadata": {},
   "outputs": [],
   "source": [
    "columns_ml = ['lpep_pickup_datetime', 'PULocationID', 'total_amount', 'trip_distance']\n",
    "\n",
    "def apply_ml_model_in_batch(rows):\n",
    "    \n",
    "    df = pd.DataFrame(rows, columns=columns_ml)\n",
    "    predictions = model_predict(df)\n",
    "    df['predicted_duration'] = predictions\n",
    "    \n",
    "    for row in df.itertuples():\n",
    "        yield row"
   ]
  },
  {
   "cell_type": "code",
   "execution_count": 60,
   "id": "d3252d16",
   "metadata": {},
   "outputs": [],
   "source": [
    "rdd_ml = df_green \\\n",
    "    .select('lpep_pickup_datetime', 'PULocationID', 'total_amount', 'trip_distance') \\\n",
    "    .rdd"
   ]
  },
  {
   "cell_type": "code",
   "execution_count": 61,
   "id": "f5acb23b",
   "metadata": {},
   "outputs": [
    {
     "name": "stderr",
     "output_type": "stream",
     "text": [
      "                                                                                \r"
     ]
    },
    {
     "data": {
      "text/plain": [
       "[Pandas(Index=0, lpep_pickup_datetime=Timestamp('2020-01-03 19:00:01'), PULocationID=244, total_amount=8.8, trip_distance=1.0, predicted_duration=5.2),\n",
       " Pandas(Index=1, lpep_pickup_datetime=Timestamp('2020-01-29 19:55:01'), PULocationID=166, total_amount=8.16, trip_distance=0.82, predicted_duration=4.264),\n",
       " Pandas(Index=2, lpep_pickup_datetime=Timestamp('2020-01-02 10:20:42'), PULocationID=145, total_amount=3.3, trip_distance=0.0, predicted_duration=0.0),\n",
       " Pandas(Index=3, lpep_pickup_datetime=Timestamp('2020-01-23 10:24:00'), PULocationID=101, total_amount=31.79, trip_distance=4.88, predicted_duration=25.376),\n",
       " Pandas(Index=4, lpep_pickup_datetime=Timestamp('2020-01-12 17:30:50'), PULocationID=74, total_amount=5.3, trip_distance=0.34, predicted_duration=1.7680000000000002),\n",
       " Pandas(Index=5, lpep_pickup_datetime=Timestamp('2020-01-27 19:33:09'), PULocationID=134, total_amount=12.09, trip_distance=1.59, predicted_duration=8.268),\n",
       " Pandas(Index=6, lpep_pickup_datetime=Timestamp('2020-01-24 21:25:12'), PULocationID=42, total_amount=7.25, trip_distance=0.74, predicted_duration=3.848),\n",
       " Pandas(Index=7, lpep_pickup_datetime=Timestamp('2020-01-04 17:06:40'), PULocationID=82, total_amount=19.56, trip_distance=4.34, predicted_duration=22.568),\n",
       " Pandas(Index=8, lpep_pickup_datetime=Timestamp('2020-01-07 05:46:00'), PULocationID=222, total_amount=29.88, trip_distance=5.74, predicted_duration=29.848000000000003),\n",
       " Pandas(Index=9, lpep_pickup_datetime=Timestamp('2020-01-08 17:18:00'), PULocationID=226, total_amount=27.92, trip_distance=6.5, predicted_duration=33.800000000000004)]"
      ]
     },
     "execution_count": 61,
     "metadata": {},
     "output_type": "execute_result"
    }
   ],
   "source": [
    "rdd_ml.mapPartitions(apply_ml_model_in_batch).take(10)"
   ]
  },
  {
   "cell_type": "code",
   "execution_count": null,
   "id": "5fc443dd",
   "metadata": {},
   "outputs": [],
   "source": []
  }
 ],
 "metadata": {
  "kernelspec": {
   "display_name": "Python 3 (ipykernel)",
   "language": "python",
   "name": "python3"
  },
  "language_info": {
   "codemirror_mode": {
    "name": "ipython",
    "version": 3
   },
   "file_extension": ".py",
   "mimetype": "text/x-python",
   "name": "python",
   "nbconvert_exporter": "python",
   "pygments_lexer": "ipython3",
   "version": "3.9.16"
  }
 },
 "nbformat": 4,
 "nbformat_minor": 5
}
