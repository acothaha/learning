{
 "cells": [
  {
   "cell_type": "code",
   "execution_count": 5,
   "metadata": {},
   "outputs": [
    {
     "data": {
      "text/plain": [
       "9271"
      ]
     },
     "execution_count": 5,
     "metadata": {},
     "output_type": "execute_result"
    }
   ],
   "source": [
    "import json\n",
    "\n",
    "with open('scrape_car2.json') as handle:\n",
    "    test1 = json.load(handle)\n",
    "len(test1)"
   ]
  },
  {
   "cell_type": "code",
   "execution_count": 6,
   "metadata": {},
   "outputs": [],
   "source": [
    "import requests"
   ]
  },
  {
   "cell_type": "code",
   "execution_count": 8,
   "metadata": {},
   "outputs": [
    {
     "data": {
      "text/plain": [
       "<Response [403]>"
      ]
     },
     "execution_count": 8,
     "metadata": {},
     "output_type": "execute_result"
    }
   ],
   "source": [
    "\n",
    "HEADERS = {'user-agent':'Mozilla/5.0 (Windows NT 10.0; Win64; x64) AppleWebKit/537.36 (KHTML, like Gecko) Chrome/109.0.0.0 Safari/537.36'}\n",
    "\n",
    "r = requests.get('https://2700chess.com/games?search=Carlsen%2C+Magnus&page=4', headers=HEADERS)\n",
    "r"
   ]
  },
  {
   "cell_type": "code",
   "execution_count": 11,
   "metadata": {},
   "outputs": [
    {
     "data": {
      "text/plain": [
       "<Response [403]>"
      ]
     },
     "execution_count": 11,
     "metadata": {},
     "output_type": "execute_result"
    }
   ],
   "source": [
    "\n",
    "HEADERS = {'user-agent':'Mozilla/5.0 (Windows NT 10.0; Win64; x64) AppleWebKit/537.36 (KHTML, like Gecko) Chrome/109.0.0.0 Safari/537.36'}\n",
    "\n",
    "r = requests.get('https://2700chess.com', proxies={'http':'115.144.101.200'})\n",
    "r\n"
   ]
  },
  {
   "cell_type": "code",
   "execution_count": 12,
   "metadata": {},
   "outputs": [],
   "source": [
    "from urllib.request import Request, urlopen\n",
    "url=\"https://2700chess.com/games?search=Carlsen%2C+Magnus&page=4\"\n",
    "req = Request(url, headers={'User-Agent': 'Mozilla/5.0'})\n",
    "\n",
    "web_byte = urlopen(req).read()\n",
    "\n",
    "webpage = web_byte.decode('utf-8')"
   ]
  },
  {
   "cell_type": "markdown",
   "metadata": {},
   "source": []
  },
  {
   "cell_type": "code",
   "execution_count": null,
   "metadata": {},
   "outputs": [],
   "source": []
  },
  {
   "cell_type": "code",
   "execution_count": 85,
   "metadata": {},
   "outputs": [
    {
     "name": "stdout",
     "output_type": "stream",
     "text": [
      "50\n"
     ]
    }
   ],
   "source": [
    "result = re.findall('tr data-key(.*)tr', webpage)\n",
    "print(len(result))"
   ]
  },
  {
   "cell_type": "code",
   "execution_count": 125,
   "metadata": {},
   "outputs": [
    {
     "data": {
      "text/plain": [
       "'=\"7867880\"><td>151</td><td class=\"white_player name\">Carlsen, Magnus</td><td class=\"white_elo rating\">2855</td><td class=\"black_player name\">Nepomniachtchi, Ian</td><td class=\"black_elo rating\">2782</td><td class=\"popover-game result\" data-archive=\"7867880\"><a href=\"/games/carlsen-nepomniachtchi-r8-dubai-2021-12-04\">1-0</a></td><td class=\"plycount\">46</td><td class=\"eco_id\">C43</td><td class=\"site\">Dubai</td><td class=\"site\">2021</td><td><a href=\"/games/carlsen-nepomniachtchi-r8-dubai-2021-12-04\" title=\"View\"><img src=\"/img/board1.png\" height=\"18\"></a></td></'"
      ]
     },
     "execution_count": 125,
     "metadata": {},
     "output_type": "execute_result"
    }
   ],
   "source": [
    "result[0]"
   ]
  },
  {
   "cell_type": "code",
   "execution_count": 113,
   "metadata": {},
   "outputs": [],
   "source": [
    "white_player_name = re.search(r'<td class=\"white_player name\">(.*)</td><td class=\"white_elo rating\">', result[0]).group(1)\n",
    "white_player_elo = re.search(r'<td class=\"white_elo rating\">(.*)</td><td class=\"black_player name\">', result[0]).group(1)\n",
    "black_player_name = re.search(r'</td><td class=\"black_player name\">(.*)</td><td class=\"black_elo rating\">', result[0]).group(1)\n",
    "black_player_elo = re.search(r'</td><td class=\"black_elo rating\">(.*)</td><td class=\"popover-game result\"', result[0]).group(1)\n",
    "game_result = re.findall(r'>(.*)/a></td><td class=\"plycount\">', result[0])"
   ]
  },
  {
   "cell_type": "code",
   "execution_count": 149,
   "metadata": {},
   "outputs": [
    {
     "name": "stdout",
     "output_type": "stream",
     "text": [
      "151\n",
      "Carlsen, Magnus\n",
      "2855\n",
      "Nepomniachtchi, Ian\n",
      "2782\n",
      "1-0\n",
      "46\n",
      "C43\n",
      "Dubai\n",
      "2021\n"
     ]
    }
   ],
   "source": [
    "for i in result[0].split('><'):\n",
    "    try:\n",
    "        print(re.search(r'>(.*)<', i).group(1))\n",
    "    except:\n",
    "        pass"
   ]
  },
  {
   "cell_type": "code",
   "execution_count": 21,
   "metadata": {},
   "outputs": [],
   "source": [
    "import requests\n",
    "from bs4 import BeautifulSoup\n",
    "import pandas as pd\n",
    "import re"
   ]
  },
  {
   "cell_type": "code",
   "execution_count": 22,
   "metadata": {},
   "outputs": [],
   "source": [
    "soup = BeautifulSoup(requests.get(\"https://www.ficsgames.org/eco.html\").content, \"html.parser\")"
   ]
  },
  {
   "cell_type": "code",
   "execution_count": 93,
   "metadata": {},
   "outputs": [],
   "source": [
    "eco_codes = []\n",
    "openings = []"
   ]
  },
  {
   "cell_type": "code",
   "execution_count": 94,
   "metadata": {},
   "outputs": [],
   "source": [
    "for i in soup.find_all('tr')[1:]:\n",
    "    for k in i.find_all('td'):\n",
    "        \n",
    "        eco_codes.append(k.get_text().strip())\n",
    "\n",
    "\n",
    "openings = eco_codes[1::2]\n",
    "eco_codes = eco_codes[0::2]\n",
    "        "
   ]
  },
  {
   "cell_type": "code",
   "execution_count": 95,
   "metadata": {},
   "outputs": [],
   "source": [
    "df_eco = pd.DataFrame({'eco_code': eco_codes,\n",
    "                       'opening': openings\n",
    "\n",
    "})"
   ]
  },
  {
   "cell_type": "code",
   "execution_count": 96,
   "metadata": {},
   "outputs": [
    {
     "data": {
      "text/plain": [
       "(500, 2)"
      ]
     },
     "execution_count": 96,
     "metadata": {},
     "output_type": "execute_result"
    }
   ],
   "source": [
    "df_eco.shape"
   ]
  },
  {
   "cell_type": "code",
   "execution_count": 97,
   "metadata": {},
   "outputs": [],
   "source": [
    "df_eco.to_csv('eco_code.csv')"
   ]
  }
 ],
 "metadata": {
  "kernelspec": {
   "display_name": "base",
   "language": "python",
   "name": "python3"
  },
  "language_info": {
   "codemirror_mode": {
    "name": "ipython",
    "version": 3
   },
   "file_extension": ".py",
   "mimetype": "text/x-python",
   "name": "python",
   "nbconvert_exporter": "python",
   "pygments_lexer": "ipython3",
   "version": "3.9.13 (main, Aug 25 2022, 23:51:50) [MSC v.1916 64 bit (AMD64)]"
  },
  "orig_nbformat": 4,
  "vscode": {
   "interpreter": {
    "hash": "4b0244321b8b291f3bb07e7507a95a7730d2be85f6b31b4946decf2c728b9394"
   }
  }
 },
 "nbformat": 4,
 "nbformat_minor": 2
}
