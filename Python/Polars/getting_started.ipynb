{
 "cells": [
  {
   "attachments": {},
   "cell_type": "markdown",
   "metadata": {},
   "source": [
    "# Getting Started With Polars\n",
    "\n",
    "***Polars*** is a DataFrame library that is completely written in Rust. Polars have several features worth mentioning:\n",
    "\n",
    "1. Polars does not use an index for the dataframe\n",
    "2. Polars represents data internally using *Apache Arrow arrays* which is more efficient in areas such as load time, memory usage, and computation (Pandas 2.0 also can do this)\n",
    "3. As Polars is written in Rust, it can run many operations in parallel\n",
    "4. Polars supports *lazy evaluation* (similar to PySpark)"
   ]
  },
  {
   "cell_type": "code",
   "execution_count": 4,
   "metadata": {},
   "outputs": [],
   "source": [
    "import polars as pl"
   ]
  },
  {
   "attachments": {},
   "cell_type": "markdown",
   "metadata": {},
   "source": [
    "## Creating Polars DataFrame"
   ]
  },
  {
   "cell_type": "code",
   "execution_count": 3,
   "metadata": {},
   "outputs": [
    {
     "data": {
      "text/html": [
       "<div><style>\n",
       ".dataframe > thead > tr > th,\n",
       ".dataframe > tbody > tr > td {\n",
       "  text-align: right;\n",
       "}\n",
       "</style>\n",
       "<small>shape: (8, 3)</small><table border=\"1\" class=\"dataframe\"><thead><tr><th>Model</th><th>Sales</th><th>Company</th></tr><tr><td>str</td><td>i64</td><td>str</td></tr></thead><tbody><tr><td>&quot;iPhone X&quot;</td><td>80</td><td>&quot;Apple&quot;</td></tr><tr><td>&quot;iPhone XS&quot;</td><td>170</td><td>&quot;Apple&quot;</td></tr><tr><td>&quot;iPhone 12&quot;</td><td>130</td><td>&quot;Apple&quot;</td></tr><tr><td>&quot;iPhone 13&quot;</td><td>205</td><td>&quot;Apple&quot;</td></tr><tr><td>&quot;Samsung S11&quot;</td><td>400</td><td>&quot;Samsung&quot;</td></tr><tr><td>&quot;Samsung S12&quot;</td><td>30</td><td>&quot;Samsung&quot;</td></tr><tr><td>&quot;Mi A1&quot;</td><td>14</td><td>&quot;Xiao Mi&quot;</td></tr><tr><td>&quot;Mi A2&quot;</td><td>8</td><td>&quot;Xiao Mi&quot;</td></tr></tbody></table></div>"
      ],
      "text/plain": [
       "shape: (8, 3)\n",
       "┌─────────────┬───────┬─────────┐\n",
       "│ Model       ┆ Sales ┆ Company │\n",
       "│ ---         ┆ ---   ┆ ---     │\n",
       "│ str         ┆ i64   ┆ str     │\n",
       "╞═════════════╪═══════╪═════════╡\n",
       "│ iPhone X    ┆ 80    ┆ Apple   │\n",
       "│ iPhone XS   ┆ 170   ┆ Apple   │\n",
       "│ iPhone 12   ┆ 130   ┆ Apple   │\n",
       "│ iPhone 13   ┆ 205   ┆ Apple   │\n",
       "│ Samsung S11 ┆ 400   ┆ Samsung │\n",
       "│ Samsung S12 ┆ 30    ┆ Samsung │\n",
       "│ Mi A1       ┆ 14    ┆ Xiao Mi │\n",
       "│ Mi A2       ┆ 8     ┆ Xiao Mi │\n",
       "└─────────────┴───────┴─────────┘"
      ]
     },
     "execution_count": 3,
     "metadata": {},
     "output_type": "execute_result"
    }
   ],
   "source": [
    "df = pl.DataFrame(\n",
    "    {\n",
    "         'Model': ['iPhone X','iPhone XS','iPhone 12',\n",
    "                   'iPhone 13','Samsung S11','Samsung S12',\n",
    "                   'Mi A1','Mi A2'],\n",
    "         'Sales': [80,170,130,205,400,30,14,8],     \n",
    "         'Company': ['Apple','Apple','Apple','Apple',\n",
    "                     'Samsung','Samsung','Xiao Mi','Xiao Mi'],\n",
    "     }\n",
    ")\n",
    "\n",
    "df"
   ]
  },
  {
   "attachments": {},
   "cell_type": "markdown",
   "metadata": {},
   "source": [
    "Polars expects the column header names to be of string type"
   ]
  },
  {
   "cell_type": "code",
   "execution_count": 5,
   "metadata": {},
   "outputs": [
    {
     "ename": "ValueError",
     "evalue": "Series name must be a string.",
     "output_type": "error",
     "traceback": [
      "\u001b[1;31m---------------------------------------------------------------------------\u001b[0m",
      "\u001b[1;31mValueError\u001b[0m                                Traceback (most recent call last)",
      "\u001b[1;32m~\\AppData\\Local\\Temp\\ipykernel_11416\\2572684169.py\u001b[0m in \u001b[0;36m<module>\u001b[1;34m\u001b[0m\n\u001b[1;32m----> 1\u001b[1;33m df2 = pl.DataFrame(\n\u001b[0m\u001b[0;32m      2\u001b[0m      {\n\u001b[0;32m      3\u001b[0m         \u001b[1;36m0\u001b[0m \u001b[1;33m:\u001b[0m \u001b[1;33m[\u001b[0m\u001b[1;36m1\u001b[0m\u001b[1;33m,\u001b[0m\u001b[1;36m2\u001b[0m\u001b[1;33m,\u001b[0m\u001b[1;36m3\u001b[0m\u001b[1;33m]\u001b[0m\u001b[1;33m,\u001b[0m\u001b[1;33m\u001b[0m\u001b[1;33m\u001b[0m\u001b[0m\n\u001b[0;32m      4\u001b[0m         \u001b[1;36m1\u001b[0m \u001b[1;33m:\u001b[0m \u001b[1;33m[\u001b[0m\u001b[1;36m80\u001b[0m\u001b[1;33m,\u001b[0m\u001b[1;36m170\u001b[0m\u001b[1;33m,\u001b[0m\u001b[1;36m130\u001b[0m\u001b[1;33m]\u001b[0m\u001b[1;33m,\u001b[0m\u001b[1;33m\u001b[0m\u001b[1;33m\u001b[0m\u001b[0m\n\u001b[0;32m      5\u001b[0m      }\n",
      "\u001b[1;32mc:\\Users\\Aco\\anaconda3\\lib\\site-packages\\polars\\dataframe\\frame.py\u001b[0m in \u001b[0;36m__init__\u001b[1;34m(self, data, schema, schema_overrides, orient, infer_schema_length, nan_to_null)\u001b[0m\n\u001b[0;32m    351\u001b[0m \u001b[1;33m\u001b[0m\u001b[0m\n\u001b[0;32m    352\u001b[0m         \u001b[1;32melif\u001b[0m \u001b[0misinstance\u001b[0m\u001b[1;33m(\u001b[0m\u001b[0mdata\u001b[0m\u001b[1;33m,\u001b[0m \u001b[0mdict\u001b[0m\u001b[1;33m)\u001b[0m\u001b[1;33m:\u001b[0m\u001b[1;33m\u001b[0m\u001b[1;33m\u001b[0m\u001b[0m\n\u001b[1;32m--> 353\u001b[1;33m             self._df = dict_to_pydf(\n\u001b[0m\u001b[0;32m    354\u001b[0m                 \u001b[0mdata\u001b[0m\u001b[1;33m,\u001b[0m\u001b[1;33m\u001b[0m\u001b[1;33m\u001b[0m\u001b[0m\n\u001b[0;32m    355\u001b[0m                 \u001b[0mschema\u001b[0m\u001b[1;33m=\u001b[0m\u001b[0mschema\u001b[0m\u001b[1;33m,\u001b[0m\u001b[1;33m\u001b[0m\u001b[1;33m\u001b[0m\u001b[0m\n",
      "\u001b[1;32mc:\\Users\\Aco\\anaconda3\\lib\\site-packages\\polars\\utils\\_construction.py\u001b[0m in \u001b[0;36mdict_to_pydf\u001b[1;34m(data, schema, schema_overrides, nan_to_null)\u001b[0m\n\u001b[0;32m    818\u001b[0m         data_series = [\n\u001b[0;32m    819\u001b[0m             \u001b[0ms\u001b[0m\u001b[1;33m.\u001b[0m\u001b[0m_s\u001b[0m\u001b[1;33m\u001b[0m\u001b[1;33m\u001b[0m\u001b[0m\n\u001b[1;32m--> 820\u001b[1;33m             for s in _expand_dict_scalars(\n\u001b[0m\u001b[0;32m    821\u001b[0m                 \u001b[0mdata\u001b[0m\u001b[1;33m,\u001b[0m \u001b[0mschema_overrides\u001b[0m\u001b[1;33m,\u001b[0m \u001b[0mnan_to_null\u001b[0m\u001b[1;33m=\u001b[0m\u001b[0mnan_to_null\u001b[0m\u001b[1;33m\u001b[0m\u001b[1;33m\u001b[0m\u001b[0m\n\u001b[0;32m    822\u001b[0m             ).values()\n",
      "\u001b[1;32mc:\\Users\\Aco\\anaconda3\\lib\\site-packages\\polars\\utils\\_construction.py\u001b[0m in \u001b[0;36m_expand_dict_scalars\u001b[1;34m(data, schema_overrides, order, nan_to_null)\u001b[0m\n\u001b[0;32m    727\u001b[0m \u001b[1;33m\u001b[0m\u001b[0m\n\u001b[0;32m    728\u001b[0m                 \u001b[1;32melif\u001b[0m \u001b[0marrlen\u001b[0m\u001b[1;33m(\u001b[0m\u001b[0mval\u001b[0m\u001b[1;33m)\u001b[0m \u001b[1;32mis\u001b[0m \u001b[1;32mnot\u001b[0m \u001b[1;32mNone\u001b[0m \u001b[1;32mor\u001b[0m \u001b[0m_is_generator\u001b[0m\u001b[1;33m(\u001b[0m\u001b[0mval\u001b[0m\u001b[1;33m)\u001b[0m\u001b[1;33m:\u001b[0m\u001b[1;33m\u001b[0m\u001b[1;33m\u001b[0m\u001b[0m\n\u001b[1;32m--> 729\u001b[1;33m                     updated_data[name] = pl.Series(\n\u001b[0m\u001b[0;32m    730\u001b[0m                         \u001b[0mname\u001b[0m\u001b[1;33m=\u001b[0m\u001b[0mname\u001b[0m\u001b[1;33m,\u001b[0m \u001b[0mvalues\u001b[0m\u001b[1;33m=\u001b[0m\u001b[0mval\u001b[0m\u001b[1;33m,\u001b[0m \u001b[0mdtype\u001b[0m\u001b[1;33m=\u001b[0m\u001b[0mdtype\u001b[0m\u001b[1;33m,\u001b[0m \u001b[0mnan_to_null\u001b[0m\u001b[1;33m=\u001b[0m\u001b[0mnan_to_null\u001b[0m\u001b[1;33m\u001b[0m\u001b[1;33m\u001b[0m\u001b[0m\n\u001b[0;32m    731\u001b[0m                     )\n",
      "\u001b[1;32mc:\\Users\\Aco\\anaconda3\\lib\\site-packages\\polars\\series\\series.py\u001b[0m in \u001b[0;36m__init__\u001b[1;34m(self, name, values, dtype, strict, nan_to_null, dtype_if_empty)\u001b[0m\n\u001b[0;32m    261\u001b[0m                 \u001b[0mname\u001b[0m \u001b[1;33m=\u001b[0m \u001b[1;34m\"\"\u001b[0m\u001b[1;33m\u001b[0m\u001b[1;33m\u001b[0m\u001b[0m\n\u001b[0;32m    262\u001b[0m             \u001b[1;32melse\u001b[0m\u001b[1;33m:\u001b[0m\u001b[1;33m\u001b[0m\u001b[1;33m\u001b[0m\u001b[0m\n\u001b[1;32m--> 263\u001b[1;33m                 \u001b[1;32mraise\u001b[0m \u001b[0mValueError\u001b[0m\u001b[1;33m(\u001b[0m\u001b[1;34m\"Series name must be a string.\"\u001b[0m\u001b[1;33m)\u001b[0m\u001b[1;33m\u001b[0m\u001b[1;33m\u001b[0m\u001b[0m\n\u001b[0m\u001b[0;32m    264\u001b[0m \u001b[1;33m\u001b[0m\u001b[0m\n\u001b[0;32m    265\u001b[0m         \u001b[1;32mif\u001b[0m \u001b[0mvalues\u001b[0m \u001b[1;32mis\u001b[0m \u001b[1;32mNone\u001b[0m\u001b[1;33m:\u001b[0m\u001b[1;33m\u001b[0m\u001b[1;33m\u001b[0m\u001b[0m\n",
      "\u001b[1;31mValueError\u001b[0m: Series name must be a string."
     ]
    }
   ],
   "source": [
    "df2 = pl.DataFrame(\n",
    "     {\n",
    "        0 : [1,2,3],\n",
    "        1 : [80,170,130],\n",
    "     }\n",
    ")"
   ]
  },
  {
   "cell_type": "code",
   "execution_count": 6,
   "metadata": {},
   "outputs": [],
   "source": [
    "df2 = pl.DataFrame(\n",
    "     {\n",
    "        '0' : [1,2,3],\n",
    "        '1' : [80,170,130],\n",
    "     }\n",
    ")"
   ]
  },
  {
   "attachments": {},
   "cell_type": "markdown",
   "metadata": {},
   "source": [
    "Displaying datatypes"
   ]
  },
  {
   "cell_type": "code",
   "execution_count": 10,
   "metadata": {},
   "outputs": [
    {
     "data": {
      "text/plain": [
       "[Utf8, Int64, Utf8]"
      ]
     },
     "execution_count": 10,
     "metadata": {},
     "output_type": "execute_result"
    }
   ],
   "source": [
    "df.dtypes"
   ]
  },
  {
   "attachments": {},
   "cell_type": "markdown",
   "metadata": {},
   "source": [
    "Displaying column names"
   ]
  },
  {
   "cell_type": "code",
   "execution_count": 11,
   "metadata": {},
   "outputs": [
    {
     "data": {
      "text/plain": [
       "['Model', 'Sales', 'Company']"
      ]
     },
     "execution_count": 11,
     "metadata": {},
     "output_type": "execute_result"
    }
   ],
   "source": [
    "df.columns"
   ]
  },
  {
   "attachments": {},
   "cell_type": "markdown",
   "metadata": {},
   "source": [
    "getting content of the dataframe as a list of tuples"
   ]
  },
  {
   "cell_type": "code",
   "execution_count": 12,
   "metadata": {},
   "outputs": [
    {
     "data": {
      "text/plain": [
       "[('iPhone X', 80, 'Apple'),\n",
       " ('iPhone XS', 170, 'Apple'),\n",
       " ('iPhone 12', 130, 'Apple'),\n",
       " ('iPhone 13', 205, 'Apple'),\n",
       " ('Samsung S11', 400, 'Samsung'),\n",
       " ('Samsung S12', 30, 'Samsung'),\n",
       " ('Mi A1', 14, 'Xiao Mi'),\n",
       " ('Mi A2', 8, 'Xiao Mi')]"
      ]
     },
     "execution_count": 12,
     "metadata": {},
     "output_type": "execute_result"
    }
   ],
   "source": [
    "df.rows()"
   ]
  },
  {
   "attachments": {},
   "cell_type": "markdown",
   "metadata": {},
   "source": [
    "## Selecting Column(s)"
   ]
  },
  {
   "cell_type": "code",
   "execution_count": 13,
   "metadata": {},
   "outputs": [
    {
     "data": {
      "text/html": [
       "<div><style>\n",
       ".dataframe > thead > tr > th,\n",
       ".dataframe > tbody > tr > td {\n",
       "  text-align: right;\n",
       "}\n",
       "</style>\n",
       "<small>shape: (8, 1)</small><table border=\"1\" class=\"dataframe\"><thead><tr><th>Model</th></tr><tr><td>str</td></tr></thead><tbody><tr><td>&quot;iPhone X&quot;</td></tr><tr><td>&quot;iPhone XS&quot;</td></tr><tr><td>&quot;iPhone 12&quot;</td></tr><tr><td>&quot;iPhone 13&quot;</td></tr><tr><td>&quot;Samsung S11&quot;</td></tr><tr><td>&quot;Samsung S12&quot;</td></tr><tr><td>&quot;Mi A1&quot;</td></tr><tr><td>&quot;Mi A2&quot;</td></tr></tbody></table></div>"
      ],
      "text/plain": [
       "shape: (8, 1)\n",
       "┌─────────────┐\n",
       "│ Model       │\n",
       "│ ---         │\n",
       "│ str         │\n",
       "╞═════════════╡\n",
       "│ iPhone X    │\n",
       "│ iPhone XS   │\n",
       "│ iPhone 12   │\n",
       "│ iPhone 13   │\n",
       "│ Samsung S11 │\n",
       "│ Samsung S12 │\n",
       "│ Mi A1       │\n",
       "│ Mi A2       │\n",
       "└─────────────┘"
      ]
     },
     "execution_count": 13,
     "metadata": {},
     "output_type": "execute_result"
    }
   ],
   "source": [
    "df.select(\n",
    "    'Model'\n",
    ")"
   ]
  },
  {
   "attachments": {},
   "cell_type": "markdown",
   "metadata": {},
   "source": [
    "For multiple selection, just pass in a list of column names"
   ]
  },
  {
   "cell_type": "code",
   "execution_count": 15,
   "metadata": {},
   "outputs": [
    {
     "data": {
      "text/html": [
       "<div><style>\n",
       ".dataframe > thead > tr > th,\n",
       ".dataframe > tbody > tr > td {\n",
       "  text-align: right;\n",
       "}\n",
       "</style>\n",
       "<small>shape: (5, 2)</small><table border=\"1\" class=\"dataframe\"><thead><tr><th>Model</th><th>Sales</th></tr><tr><td>str</td><td>i64</td></tr></thead><tbody><tr><td>&quot;iPhone X&quot;</td><td>80</td></tr><tr><td>&quot;iPhone XS&quot;</td><td>170</td></tr><tr><td>&quot;iPhone 12&quot;</td><td>130</td></tr><tr><td>&quot;iPhone 13&quot;</td><td>205</td></tr><tr><td>&quot;Samsung S11&quot;</td><td>400</td></tr></tbody></table></div>"
      ],
      "text/plain": [
       "shape: (5, 2)\n",
       "┌─────────────┬───────┐\n",
       "│ Model       ┆ Sales │\n",
       "│ ---         ┆ ---   │\n",
       "│ str         ┆ i64   │\n",
       "╞═════════════╪═══════╡\n",
       "│ iPhone X    ┆ 80    │\n",
       "│ iPhone XS   ┆ 170   │\n",
       "│ iPhone 12   ┆ 130   │\n",
       "│ iPhone 13   ┆ 205   │\n",
       "│ Samsung S11 ┆ 400   │\n",
       "└─────────────┴───────┘"
      ]
     },
     "execution_count": 15,
     "metadata": {},
     "output_type": "execute_result"
    }
   ],
   "source": [
    "df.select(\n",
    "    ['Model', 'Sales']\n",
    ").head()"
   ]
  },
  {
   "attachments": {},
   "cell_type": "markdown",
   "metadata": {},
   "source": [
    "retrieving all columns with a specific datatype"
   ]
  },
  {
   "cell_type": "code",
   "execution_count": 20,
   "metadata": {},
   "outputs": [
    {
     "data": {
      "text/html": [
       "<div><style>\n",
       ".dataframe > thead > tr > th,\n",
       ".dataframe > tbody > tr > td {\n",
       "  text-align: right;\n",
       "}\n",
       "</style>\n",
       "<small>shape: (8, 2)</small><table border=\"1\" class=\"dataframe\"><thead><tr><th>Model</th><th>Company</th></tr><tr><td>str</td><td>str</td></tr></thead><tbody><tr><td>&quot;iPhone X&quot;</td><td>&quot;Apple&quot;</td></tr><tr><td>&quot;iPhone XS&quot;</td><td>&quot;Apple&quot;</td></tr><tr><td>&quot;iPhone 12&quot;</td><td>&quot;Apple&quot;</td></tr><tr><td>&quot;iPhone 13&quot;</td><td>&quot;Apple&quot;</td></tr><tr><td>&quot;Samsung S11&quot;</td><td>&quot;Samsung&quot;</td></tr><tr><td>&quot;Samsung S12&quot;</td><td>&quot;Samsung&quot;</td></tr><tr><td>&quot;Mi A1&quot;</td><td>&quot;Xiao Mi&quot;</td></tr><tr><td>&quot;Mi A2&quot;</td><td>&quot;Xiao Mi&quot;</td></tr></tbody></table></div>"
      ],
      "text/plain": [
       "shape: (8, 2)\n",
       "┌─────────────┬─────────┐\n",
       "│ Model       ┆ Company │\n",
       "│ ---         ┆ ---     │\n",
       "│ str         ┆ str     │\n",
       "╞═════════════╪═════════╡\n",
       "│ iPhone X    ┆ Apple   │\n",
       "│ iPhone XS   ┆ Apple   │\n",
       "│ iPhone 12   ┆ Apple   │\n",
       "│ iPhone 13   ┆ Apple   │\n",
       "│ Samsung S11 ┆ Samsung │\n",
       "│ Samsung S12 ┆ Samsung │\n",
       "│ Mi A1       ┆ Xiao Mi │\n",
       "│ Mi A2       ┆ Xiao Mi │\n",
       "└─────────────┴─────────┘"
      ]
     },
     "execution_count": 20,
     "metadata": {},
     "output_type": "execute_result"
    }
   ],
   "source": [
    "df.select(\n",
    "    pl.col(pl.Utf8)\n",
    ")"
   ]
  },
  {
   "attachments": {},
   "cell_type": "markdown",
   "metadata": {},
   "source": [
    "The statement `pl.col(pl.Utf8)` is known as an **expression** in Polars. Expressions are very powerful in Polars. For example, you can *pipe* together expressions"
   ]
  },
  {
   "cell_type": "code",
   "execution_count": 21,
   "metadata": {},
   "outputs": [
    {
     "data": {
      "text/html": [
       "<div><style>\n",
       ".dataframe > thead > tr > th,\n",
       ".dataframe > tbody > tr > td {\n",
       "  text-align: right;\n",
       "}\n",
       "</style>\n",
       "<small>shape: (8, 2)</small><table border=\"1\" class=\"dataframe\"><thead><tr><th>Model</th><th>Sales</th></tr><tr><td>str</td><td>i64</td></tr></thead><tbody><tr><td>&quot;Mi A2&quot;</td><td>8</td></tr><tr><td>&quot;Mi A1&quot;</td><td>14</td></tr><tr><td>&quot;Samsung S12&quot;</td><td>30</td></tr><tr><td>&quot;iPhone X&quot;</td><td>80</td></tr><tr><td>&quot;iPhone 12&quot;</td><td>130</td></tr><tr><td>&quot;iPhone XS&quot;</td><td>170</td></tr><tr><td>&quot;iPhone 13&quot;</td><td>205</td></tr><tr><td>&quot;Samsung S11&quot;</td><td>400</td></tr></tbody></table></div>"
      ],
      "text/plain": [
       "shape: (8, 2)\n",
       "┌─────────────┬───────┐\n",
       "│ Model       ┆ Sales │\n",
       "│ ---         ┆ ---   │\n",
       "│ str         ┆ i64   │\n",
       "╞═════════════╪═══════╡\n",
       "│ Mi A2       ┆ 8     │\n",
       "│ Mi A1       ┆ 14    │\n",
       "│ Samsung S12 ┆ 30    │\n",
       "│ iPhone X    ┆ 80    │\n",
       "│ iPhone 12   ┆ 130   │\n",
       "│ iPhone XS   ┆ 170   │\n",
       "│ iPhone 13   ┆ 205   │\n",
       "│ Samsung S11 ┆ 400   │\n",
       "└─────────────┴───────┘"
      ]
     },
     "execution_count": 21,
     "metadata": {},
     "output_type": "execute_result"
    }
   ],
   "source": [
    "df.select(\n",
    "    pl.col(['Model','Sales']).sort_by('Sales')    \n",
    ")"
   ]
  },
  {
   "attachments": {},
   "cell_type": "markdown",
   "metadata": {},
   "source": [
    "If you want multiple columns, you can enclose your expression in a list:"
   ]
  },
  {
   "cell_type": "code",
   "execution_count": 22,
   "metadata": {},
   "outputs": [
    {
     "data": {
      "text/html": [
       "<div><style>\n",
       ".dataframe > thead > tr > th,\n",
       ".dataframe > tbody > tr > td {\n",
       "  text-align: right;\n",
       "}\n",
       "</style>\n",
       "<small>shape: (8, 2)</small><table border=\"1\" class=\"dataframe\"><thead><tr><th>Sales</th><th>Company</th></tr><tr><td>i64</td><td>str</td></tr></thead><tbody><tr><td>80</td><td>&quot;Apple&quot;</td></tr><tr><td>170</td><td>&quot;Apple&quot;</td></tr><tr><td>130</td><td>&quot;Apple&quot;</td></tr><tr><td>205</td><td>&quot;Apple&quot;</td></tr><tr><td>400</td><td>&quot;Samsung&quot;</td></tr><tr><td>30</td><td>&quot;Samsung&quot;</td></tr><tr><td>14</td><td>&quot;Xiao Mi&quot;</td></tr><tr><td>8</td><td>&quot;Xiao Mi&quot;</td></tr></tbody></table></div>"
      ],
      "text/plain": [
       "shape: (8, 2)\n",
       "┌───────┬─────────┐\n",
       "│ Sales ┆ Company │\n",
       "│ ---   ┆ ---     │\n",
       "│ i64   ┆ str     │\n",
       "╞═══════╪═════════╡\n",
       "│ 80    ┆ Apple   │\n",
       "│ 170   ┆ Apple   │\n",
       "│ 130   ┆ Apple   │\n",
       "│ 205   ┆ Apple   │\n",
       "│ 400   ┆ Samsung │\n",
       "│ 30    ┆ Samsung │\n",
       "│ 14    ┆ Xiao Mi │\n",
       "│ 8     ┆ Xiao Mi │\n",
       "└───────┴─────────┘"
      ]
     },
     "execution_count": 22,
     "metadata": {},
     "output_type": "execute_result"
    }
   ],
   "source": [
    "df.select(\n",
    "    [pl.col(pl.Int64),'Company']\n",
    ")"
   ]
  },
  {
   "attachments": {},
   "cell_type": "markdown",
   "metadata": {},
   "source": [
    "## Selecting Row(s)\n",
    "\n",
    "To select a single row in a dataframe, pass in the row number using the `row()` method"
   ]
  },
  {
   "cell_type": "code",
   "execution_count": 24,
   "metadata": {},
   "outputs": [
    {
     "data": {
      "text/plain": [
       "('iPhone X', 80, 'Apple')"
      ]
     },
     "execution_count": 24,
     "metadata": {},
     "output_type": "execute_result"
    }
   ],
   "source": [
    "df.row(0)   # get the first row"
   ]
  },
  {
   "attachments": {},
   "cell_type": "markdown",
   "metadata": {},
   "source": [
    "If you need to get multiple rows based on row numbers, there are two ways:"
   ]
  },
  {
   "attachments": {},
   "cell_type": "markdown",
   "metadata": {},
   "source": [
    "1. Use the square bracket indexing method (not recommended)"
   ]
  },
  {
   "cell_type": "code",
   "execution_count": 28,
   "metadata": {},
   "outputs": [
    {
     "data": {
      "text/html": [
       "<div><style>\n",
       ".dataframe > thead > tr > th,\n",
       ".dataframe > tbody > tr > td {\n",
       "  text-align: right;\n",
       "}\n",
       "</style>\n",
       "<small>shape: (2, 3)</small><table border=\"1\" class=\"dataframe\"><thead><tr><th>Model</th><th>Sales</th><th>Company</th></tr><tr><td>str</td><td>i64</td><td>str</td></tr></thead><tbody><tr><td>&quot;iPhone X&quot;</td><td>80</td><td>&quot;Apple&quot;</td></tr><tr><td>&quot;iPhone XS&quot;</td><td>170</td><td>&quot;Apple&quot;</td></tr></tbody></table></div>"
      ],
      "text/plain": [
       "shape: (2, 3)\n",
       "┌───────────┬───────┬─────────┐\n",
       "│ Model     ┆ Sales ┆ Company │\n",
       "│ ---       ┆ ---   ┆ ---     │\n",
       "│ str       ┆ i64   ┆ str     │\n",
       "╞═══════════╪═══════╪═════════╡\n",
       "│ iPhone X  ┆ 80    ┆ Apple   │\n",
       "│ iPhone XS ┆ 170   ┆ Apple   │\n",
       "└───────────┴───────┴─────────┘"
      ]
     },
     "execution_count": 28,
     "metadata": {},
     "output_type": "execute_result"
    }
   ],
   "source": [
    "\n",
    "\n",
    "df[:2]# first 2 rows"
   ]
  },
  {
   "cell_type": "code",
   "execution_count": 26,
   "metadata": {},
   "outputs": [
    {
     "data": {
      "text/html": [
       "<div><style>\n",
       ".dataframe > thead > tr > th,\n",
       ".dataframe > tbody > tr > td {\n",
       "  text-align: right;\n",
       "}\n",
       "</style>\n",
       "<small>shape: (2, 3)</small><table border=\"1\" class=\"dataframe\"><thead><tr><th>Model</th><th>Sales</th><th>Company</th></tr><tr><td>str</td><td>i64</td><td>str</td></tr></thead><tbody><tr><td>&quot;iPhone XS&quot;</td><td>170</td><td>&quot;Apple&quot;</td></tr><tr><td>&quot;iPhone 13&quot;</td><td>205</td><td>&quot;Apple&quot;</td></tr></tbody></table></div>"
      ],
      "text/plain": [
       "shape: (2, 3)\n",
       "┌───────────┬───────┬─────────┐\n",
       "│ Model     ┆ Sales ┆ Company │\n",
       "│ ---       ┆ ---   ┆ ---     │\n",
       "│ str       ┆ i64   ┆ str     │\n",
       "╞═══════════╪═══════╪═════════╡\n",
       "│ iPhone XS ┆ 170   ┆ Apple   │\n",
       "│ iPhone 13 ┆ 205   ┆ Apple   │\n",
       "└───────────┴───────┴─────────┘"
      ]
     },
     "execution_count": 26,
     "metadata": {},
     "output_type": "execute_result"
    }
   ],
   "source": [
    "df[[1,3]] # second and fourth row"
   ]
  },
  {
   "attachments": {},
   "cell_type": "markdown",
   "metadata": {},
   "source": [
    "2. Use the filter() function"
   ]
  },
  {
   "cell_type": "code",
   "execution_count": 29,
   "metadata": {},
   "outputs": [
    {
     "data": {
      "text/html": [
       "<div><style>\n",
       ".dataframe > thead > tr > th,\n",
       ".dataframe > tbody > tr > td {\n",
       "  text-align: right;\n",
       "}\n",
       "</style>\n",
       "<small>shape: (4, 3)</small><table border=\"1\" class=\"dataframe\"><thead><tr><th>Model</th><th>Sales</th><th>Company</th></tr><tr><td>str</td><td>i64</td><td>str</td></tr></thead><tbody><tr><td>&quot;iPhone X&quot;</td><td>80</td><td>&quot;Apple&quot;</td></tr><tr><td>&quot;iPhone XS&quot;</td><td>170</td><td>&quot;Apple&quot;</td></tr><tr><td>&quot;iPhone 12&quot;</td><td>130</td><td>&quot;Apple&quot;</td></tr><tr><td>&quot;iPhone 13&quot;</td><td>205</td><td>&quot;Apple&quot;</td></tr></tbody></table></div>"
      ],
      "text/plain": [
       "shape: (4, 3)\n",
       "┌───────────┬───────┬─────────┐\n",
       "│ Model     ┆ Sales ┆ Company │\n",
       "│ ---       ┆ ---   ┆ ---     │\n",
       "│ str       ┆ i64   ┆ str     │\n",
       "╞═══════════╪═══════╪═════════╡\n",
       "│ iPhone X  ┆ 80    ┆ Apple   │\n",
       "│ iPhone XS ┆ 170   ┆ Apple   │\n",
       "│ iPhone 12 ┆ 130   ┆ Apple   │\n",
       "│ iPhone 13 ┆ 205   ┆ Apple   │\n",
       "└───────────┴───────┴─────────┘"
      ]
     },
     "execution_count": 29,
     "metadata": {},
     "output_type": "execute_result"
    }
   ],
   "source": [
    "df.filter(\n",
    "    pl.col('Company') == 'Apple'\n",
    ")"
   ]
  },
  {
   "cell_type": "code",
   "execution_count": 32,
   "metadata": {},
   "outputs": [
    {
     "data": {
      "text/html": [
       "<div><style>\n",
       ".dataframe > thead > tr > th,\n",
       ".dataframe > tbody > tr > td {\n",
       "  text-align: right;\n",
       "}\n",
       "</style>\n",
       "<small>shape: (6, 3)</small><table border=\"1\" class=\"dataframe\"><thead><tr><th>Model</th><th>Sales</th><th>Company</th></tr><tr><td>str</td><td>i64</td><td>str</td></tr></thead><tbody><tr><td>&quot;iPhone X&quot;</td><td>80</td><td>&quot;Apple&quot;</td></tr><tr><td>&quot;iPhone XS&quot;</td><td>170</td><td>&quot;Apple&quot;</td></tr><tr><td>&quot;iPhone 12&quot;</td><td>130</td><td>&quot;Apple&quot;</td></tr><tr><td>&quot;iPhone 13&quot;</td><td>205</td><td>&quot;Apple&quot;</td></tr><tr><td>&quot;Samsung S11&quot;</td><td>400</td><td>&quot;Samsung&quot;</td></tr><tr><td>&quot;Samsung S12&quot;</td><td>30</td><td>&quot;Samsung&quot;</td></tr></tbody></table></div>"
      ],
      "text/plain": [
       "shape: (6, 3)\n",
       "┌─────────────┬───────┬─────────┐\n",
       "│ Model       ┆ Sales ┆ Company │\n",
       "│ ---         ┆ ---   ┆ ---     │\n",
       "│ str         ┆ i64   ┆ str     │\n",
       "╞═════════════╪═══════╪═════════╡\n",
       "│ iPhone X    ┆ 80    ┆ Apple   │\n",
       "│ iPhone XS   ┆ 170   ┆ Apple   │\n",
       "│ iPhone 12   ┆ 130   ┆ Apple   │\n",
       "│ iPhone 13   ┆ 205   ┆ Apple   │\n",
       "│ Samsung S11 ┆ 400   ┆ Samsung │\n",
       "│ Samsung S12 ┆ 30    ┆ Samsung │\n",
       "└─────────────┴───────┴─────────┘"
      ]
     },
     "execution_count": 32,
     "metadata": {},
     "output_type": "execute_result"
    }
   ],
   "source": [
    "# specify multiple conditions\n",
    "\n",
    "df.filter(\n",
    "    (pl.col('Company') == 'Apple') |\n",
    "    (pl.col('Company') == 'Samsung')\n",
    ")"
   ]
  },
  {
   "attachments": {},
   "cell_type": "markdown",
   "metadata": {},
   "source": [
    "## Selecting Rows and Columns\n",
    "\n",
    "selecting rows and columns at the same time can be done by chaining the filter() and select() methods"
   ]
  },
  {
   "cell_type": "code",
   "execution_count": 33,
   "metadata": {},
   "outputs": [
    {
     "data": {
      "text/html": [
       "<div><style>\n",
       ".dataframe > thead > tr > th,\n",
       ".dataframe > tbody > tr > td {\n",
       "  text-align: right;\n",
       "}\n",
       "</style>\n",
       "<small>shape: (4, 1)</small><table border=\"1\" class=\"dataframe\"><thead><tr><th>Model</th></tr><tr><td>str</td></tr></thead><tbody><tr><td>&quot;iPhone X&quot;</td></tr><tr><td>&quot;iPhone XS&quot;</td></tr><tr><td>&quot;iPhone 12&quot;</td></tr><tr><td>&quot;iPhone 13&quot;</td></tr></tbody></table></div>"
      ],
      "text/plain": [
       "shape: (4, 1)\n",
       "┌───────────┐\n",
       "│ Model     │\n",
       "│ ---       │\n",
       "│ str       │\n",
       "╞═══════════╡\n",
       "│ iPhone X  │\n",
       "│ iPhone XS │\n",
       "│ iPhone 12 │\n",
       "│ iPhone 13 │\n",
       "└───────────┘"
      ]
     },
     "execution_count": 33,
     "metadata": {},
     "output_type": "execute_result"
    }
   ],
   "source": [
    "df.filter(\n",
    "    pl.col('Company') == 'Apple'\n",
    ").select('Model')"
   ]
  },
  {
   "cell_type": "code",
   "execution_count": 34,
   "metadata": {},
   "outputs": [
    {
     "data": {
      "text/html": [
       "<div><style>\n",
       ".dataframe > thead > tr > th,\n",
       ".dataframe > tbody > tr > td {\n",
       "  text-align: right;\n",
       "}\n",
       "</style>\n",
       "<small>shape: (4, 2)</small><table border=\"1\" class=\"dataframe\"><thead><tr><th>Model</th><th>Sales</th></tr><tr><td>str</td><td>i64</td></tr></thead><tbody><tr><td>&quot;iPhone X&quot;</td><td>80</td></tr><tr><td>&quot;iPhone XS&quot;</td><td>170</td></tr><tr><td>&quot;iPhone 12&quot;</td><td>130</td></tr><tr><td>&quot;iPhone 13&quot;</td><td>205</td></tr></tbody></table></div>"
      ],
      "text/plain": [
       "shape: (4, 2)\n",
       "┌───────────┬───────┐\n",
       "│ Model     ┆ Sales │\n",
       "│ ---       ┆ ---   │\n",
       "│ str       ┆ i64   │\n",
       "╞═══════════╪═══════╡\n",
       "│ iPhone X  ┆ 80    │\n",
       "│ iPhone XS ┆ 170   │\n",
       "│ iPhone 12 ┆ 130   │\n",
       "│ iPhone 13 ┆ 205   │\n",
       "└───────────┴───────┘"
      ]
     },
     "execution_count": 34,
     "metadata": {},
     "output_type": "execute_result"
    }
   ],
   "source": [
    "df.filter(\n",
    "    pl.col('Company') == 'Apple'\n",
    ").select(['Model','Sales'])"
   ]
  }
 ],
 "metadata": {
  "kernelspec": {
   "display_name": "base",
   "language": "python",
   "name": "python3"
  },
  "language_info": {
   "codemirror_mode": {
    "name": "ipython",
    "version": 3
   },
   "file_extension": ".py",
   "mimetype": "text/x-python",
   "name": "python",
   "nbconvert_exporter": "python",
   "pygments_lexer": "ipython3",
   "version": "3.9.13"
  },
  "orig_nbformat": 4
 },
 "nbformat": 4,
 "nbformat_minor": 2
}
